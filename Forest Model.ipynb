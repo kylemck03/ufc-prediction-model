{
 "cells": [
  {
   "cell_type": "code",
   "execution_count": 1,
   "id": "1908c404-f1a4-4b1f-af03-a89888c67535",
   "metadata": {},
   "outputs": [],
   "source": [
    "#Hello"
   ]
  },
  {
   "cell_type": "code",
   "execution_count": 2,
   "id": "5f59e507-e8df-425c-942f-fb16d0a44633",
   "metadata": {},
   "outputs": [],
   "source": [
    "import os\n",
    "import pandas as pd\n",
    "from torch.utils.data import DataLoader\n",
    "from datetime import datetime"
   ]
  },
  {
   "cell_type": "markdown",
   "id": "d6ec8edb",
   "metadata": {},
   "source": [
    "Load Datasets"
   ]
  },
  {
   "cell_type": "code",
   "execution_count": 3,
   "id": "dad496fb-ba62-4ee8-af4c-f14940e81945",
   "metadata": {},
   "outputs": [
    {
     "name": "stdout",
     "output_type": "stream",
     "text": [
      "Index(['fighter_id', 'fighter_f_name', 'fighter_l_name', 'fighter_nickname',\n",
      "       'fighter_height_cm', 'fighter_weight_lbs', 'fighter_reach_cm',\n",
      "       'fighter_stance', 'fighter_dob', 'fighter_w', 'fighter_l', 'fighter_d',\n",
      "       'fighter_nc_dq', 'fighter_url'],\n",
      "      dtype='object')\n"
     ]
    }
   ],
   "source": [
    "#Load the fight data\n",
    "fight_stats_df = pd.read_csv('datasets/ufc_fight_stat_data.csv')\n",
    "\n",
    "#Load fight data\n",
    "fight_data_df = pd.read_csv('datasets/ufc_fight_data.csv')\n",
    "\n",
    "#Load fighter data \n",
    "fighter_data_df = pd.read_csv('datasets/ufc_fighter_data.csv')\n",
    "\n",
    "#Load event data\n",
    "event_data_df = pd.read_csv('datasets/ufc_event_data.csv')\n",
    "\n",
    "print(fighter_data_df.columns)"
   ]
  },
  {
   "cell_type": "markdown",
   "id": "2708715e",
   "metadata": {},
   "source": [
    "Clean and Process Data"
   ]
  },
  {
   "cell_type": "code",
   "execution_count": 4,
   "id": "e3c5cf64",
   "metadata": {},
   "outputs": [],
   "source": [
    "#Convert data columns to datetime format\n",
    "fighter_data_df['fighter_dob'] = pd.to_datetime(fighter_data_df['fighter_dob'])\n",
    "\n",
    "#Handle Missing Value, if any\n",
    "fight_stats_df = fight_stats_df.dropna(subset=['fighter_id', 'ctrl_time'])\n",
    "fight_data_df = fight_data_df.dropna(subset=['fight_id', 'f_1', 'f_2', 'winner', 'num_rounds'])\n",
    "fighter_data_df = fighter_data_df.dropna(subset=['fighter_id', 'fighter_reach_cm', 'fighter_height_cm', 'fighter_stance', 'fighter_dob'])\n",
    "\n",
    "fighter_data_df['fighter_nc_dq'] = fighter_data_df['fighter_nc_dq'].fillna(0)\n",
    "fighter_data_df['fighter_stance'] = fighter_data_df['fighter_stance'].fillna(0)\n",
    "\n",
    "event_data_df = event_data_df.dropna(subset=['event_id'])\n",
    "\n",
    "#Encode categorical variables (if needed)\n",
    "fighter_data_df['fighter_stance'] = fighter_data_df['fighter_stance'].map({'Orthodox': 0, 'Southpaw': 1, 'Switch': 2})\n",
    "\n"
   ]
  },
  {
   "cell_type": "markdown",
   "id": "66d5c72e",
   "metadata": {},
   "source": [
    "Merge Datasets"
   ]
  },
  {
   "cell_type": "code",
   "execution_count": 5,
   "id": "a0d768d8",
   "metadata": {},
   "outputs": [],
   "source": [
    "    \n",
    "merged_df = pd.merge(fight_stats_df, fight_data_df, how='inner', on='fight_id')\n",
    "merged_df = pd.merge(merged_df, fighter_data_df, how='inner', on='fighter_id')\n",
    "merged_df = pd.merge(merged_df, event_data_df, how='inner', on='event_id')\n"
   ]
  },
  {
   "cell_type": "markdown",
   "id": "626c8a5c",
   "metadata": {},
   "source": [
    "Cleaning"
   ]
  },
  {
   "cell_type": "code",
   "execution_count": 6,
   "id": "4be13256",
   "metadata": {},
   "outputs": [],
   "source": [
    "# Convert ctrl_time from minute format to seconds\n",
    "def time_to_seconds(time_str):\n",
    "    if time_str == '--':\n",
    "        return None  # or any other suitable value, like np.nan\n",
    "    else:\n",
    "        minutes, seconds = map(int, time_str.split(':'))\n",
    "        return minutes * 60 + seconds\n",
    "    \n",
    "merged_df['ctrl_time'] = merged_df['ctrl_time'].apply(time_to_seconds)\n",
    "merged_df['finish_time'] = merged_df['finish_time'].apply(time_to_seconds)\n",
    "\n",
    "#Convert each column to unique ID\n",
    "merged_df['referee'] = pd.factorize(merged_df['referee'])[0]\n",
    "merged_df['event_city'] = pd.factorize(merged_df['event_city'])[0]\n",
    "merged_df['event_state'] = pd.factorize(merged_df['event_state'])[0]\n",
    "merged_df['event_country'] = pd.factorize(merged_df['event_country'])[0]\n",
    "merged_df['result_details'] = pd.factorize(merged_df['result_details'])[0]\n",
    "merged_df['title_fight'] = pd.factorize(merged_df['title_fight'])[0]\n",
    "merged_df['weight_class'] = pd.factorize(merged_df['weight_class'])[0]\n",
    "merged_df['gender'] = pd.factorize(merged_df['gender'])[0]\n",
    "merged_df['result'] = pd.factorize(merged_df['result'])[0]\n",
    "\n",
    "# NOTE: add column that contains value age at the event date\n",
    "\n",
    "# Convert num_rounds to int\n",
    "merged_df['num_rounds'] = pd.to_numeric(merged_df['num_rounds'], errors='coerce')\n",
    "\n",
    "\n",
    "# Convert dob to age in years at the date of 3/25/2024\n",
    "hard_coded_datetime = datetime(2024, 3, 25)\n",
    "merged_df['fighter_dob'] = (hard_coded_datetime.date() - pd.to_datetime(merged_df['fighter_dob']).dt.date).apply(lambda x: x.days / 365.25)\n",
    "\n",
    "\n",
    "# List of columns to drop (temp drop 'event_date' *add later*)\n",
    "cols_to_drop = ['fight_url_x', 'fighter_url', 'event_url', 'fight_url_x', \n",
    "                'fight_url_y', 'event_url', 'fighter_url', 'event_name', \n",
    "                'fighter_nickname', 'fighter_l_name', 'fighter_f_name', \n",
    "                'event_date', 'event_state', 'fight_id', 'finish_round',\n",
    "                'result_details'\n",
    "                ]\n",
    "\n",
    "# Drop the specified columns\n",
    "merged_df = merged_df.drop(columns=cols_to_drop)\n",
    "\n"
   ]
  },
  {
   "cell_type": "markdown",
   "id": "f80b383e",
   "metadata": {},
   "source": [
    "Create Cumulative Columns"
   ]
  },
  {
   "cell_type": "code",
   "execution_count": 7,
   "id": "a9beb051",
   "metadata": {},
   "outputs": [
    {
     "name": "stdout",
     "output_type": "stream",
     "text": [
      "Index(['fight_stat_id', 'fighter_id', 'knockdowns', 'total_strikes_att',\n",
      "       'total_strikes_succ', 'sig_strikes_att', 'sig_strikes_succ',\n",
      "       'takedown_att', 'takedown_succ', 'submission_att', 'reversals',\n",
      "       'ctrl_time', 'event_id', 'referee', 'f_1', 'f_2', 'winner',\n",
      "       'num_rounds', 'title_fight', 'weight_class', 'gender', 'result',\n",
      "       'finish_time', 'fighter_height_cm', 'fighter_weight_lbs',\n",
      "       'fighter_reach_cm', 'fighter_stance', 'fighter_dob', 'fighter_w',\n",
      "       'fighter_l', 'fighter_d', 'fighter_nc_dq', 'event_city',\n",
      "       'event_country', 'cumulative_ctrl_time', 'cumulative_reversals',\n",
      "       'cumulative_submission_att', 'cumulative_takedown_succ',\n",
      "       'cumulative_takedown_att', 'cumulative_sig_strikes_att',\n",
      "       'cumulative_total_strikes_succ', 'cumulative_total_strikes_att',\n",
      "       'cumulative_knockdowns', 'avg_finish_time'],\n",
      "      dtype='object')\n"
     ]
    }
   ],
   "source": [
    "#create cumulative column for ctrl_time\n",
    "\n",
    "# merged_df.sort_values(by=[\"fighter_id\", 'fight_stat_id'], ascending=[True, True], inplace=True)\n",
    "merged_df[\"cumulative_ctrl_time\"] = merged_df.groupby(\"fighter_id\")[\"ctrl_time\"].transform(lambda x: x.expanding().mean())\n",
    "# Cumulative for reversals\n",
    "merged_df[\"cumulative_reversals\"] = merged_df.groupby(\"fighter_id\")[\"reversals\"].transform(lambda x: x.expanding().mean())\n",
    "\n",
    "# for submission attempts\n",
    "merged_df[\"cumulative_submission_att\"] = merged_df.groupby(\"fighter_id\")[\"submission_att\"].transform(lambda x: x.expanding().mean())\n",
    "\n",
    "# for takedown succession\n",
    "merged_df[\"cumulative_takedown_succ\"] = merged_df.groupby(\"fighter_id\")[\"takedown_succ\"].transform(lambda x: x.expanding().mean())\n",
    "\n",
    "# for takedown attmepts \n",
    "merged_df[\"cumulative_takedown_att\"] = merged_df.groupby(\"fighter_id\")[\"takedown_att\"].transform(lambda x: x.expanding().mean())\n",
    "\n",
    "# for significant strike succession\n",
    "merged_df[\"cumulative_sig_strikes_att\"] = merged_df.groupby(\"fighter_id\")[\"sig_strikes_att\"].transform(lambda x: x.expanding().mean())\n",
    "\n",
    "# for total strikes succession\n",
    "merged_df[\"cumulative_total_strikes_succ\"] = merged_df.groupby(\"fighter_id\")[\"total_strikes_succ\"].transform(lambda x: x.expanding().mean())\n",
    "\n",
    "# for total strikes ATTEMPTS\n",
    "merged_df[\"cumulative_total_strikes_att\"] = merged_df.groupby(\"fighter_id\")[\"total_strikes_att\"].transform(lambda x: x.expanding().mean())\n",
    "\n",
    "# for knockdowns\n",
    "merged_df[\"cumulative_knockdowns\"] = merged_df.groupby(\"fighter_id\")[\"knockdowns\"].transform(lambda x: x.expanding().mean())\n",
    "\n",
    "# AVG finish Time\n",
    "merged_df['avg_finish_time'] = merged_df.groupby('fighter_id')['finish_time'].transform(lambda x: x.expanding().mean())\n",
    "\n",
    "\n",
    "# merged_df = pd.read_csv('final_set.csv')\n",
    "\n",
    "print(merged_df.columns)\n",
    "# print(\"num of columns\" , merged_df.shape[1])\n",
    "# print(merged_df['finish_time'])\n",
    "\n",
    "merged_df.to_csv('final_set.csv', index=False)\n"
   ]
  },
  {
   "cell_type": "markdown",
   "id": "fcb614d1",
   "metadata": {},
   "source": [
    "Remove original numeric stats"
   ]
  },
  {
   "cell_type": "code",
   "execution_count": 8,
   "id": "59e68e1a",
   "metadata": {},
   "outputs": [],
   "source": [
    "# Need to remove original numeric stats because they are independent and would be hard to implement when creating features for model\n",
    "temp_df = pd.read_csv('final_set.csv')\n",
    "\n",
    "drop_cols = ['knockdowns', 'total_strikes_att', 'total_strikes_succ',\n",
    "            'sig_strikes_att', 'sig_strikes_succ', 'takedown_att',\n",
    "            'takedown_succ', 'submission_att', 'reversals', 'ctrl_time',\n",
    "            'event_id', 'result', 'finish_time'\n",
    "            ]\n",
    "# temp_df = temp_df[temp_df['fight_stat_id'] > 1200]\n",
    "temp_df = merged_df.drop(columns=drop_cols)\n",
    "temp_df = temp_df.iloc[:10000]\n",
    "temp_df.sort_values(by=[\"fighter_id\", 'fight_stat_id'], ascending=[True, True], inplace=True)\n",
    "temp_df.to_csv('final_set.csv', index=False)"
   ]
  },
  {
   "cell_type": "markdown",
   "id": "8d0a9770",
   "metadata": {},
   "source": [
    "Random Forest Algo"
   ]
  },
  {
   "cell_type": "code",
   "execution_count": 9,
   "id": "76efda33",
   "metadata": {},
   "outputs": [
    {
     "name": "stderr",
     "output_type": "stream",
     "text": [
      "/usr/lib/python3/dist-packages/scipy/__init__.py:146: UserWarning: A NumPy version >=1.17.3 and <1.25.0 is required for this version of SciPy (detected version 1.26.4\n",
      "  warnings.warn(f\"A NumPy version >={np_minversion} and <{np_maxversion}\"\n"
     ]
    },
    {
     "name": "stdout",
     "output_type": "stream",
     "text": [
      "Accuracy: 0.6505\n"
     ]
    }
   ],
   "source": [
    "import pandas as pd\n",
    "from sklearn.model_selection import train_test_split\n",
    "from sklearn.preprocessing import StandardScaler\n",
    "from sklearn.ensemble import RandomForestClassifier\n",
    "from sklearn.metrics import accuracy_score\n",
    "import warnings\n",
    "\n",
    "warnings.filterwarnings(\"ignore\", category=UserWarning)\n",
    "\n",
    "merged_df = pd.read_csv('final_set.csv')\n",
    "data = merged_df\n",
    "df = pd.DataFrame(data)\n",
    "\n",
    "# Creating a binary target variable indicating whether the fighter won or not.\n",
    "df['is_winner'] = df['fighter_id'] == df['winner']\n",
    "\n",
    "# Selecting features for the model\n",
    "features = [\n",
    "    \"f_1\",\"f_2\",\"num_rounds\", \"title_fight\", \"weight_class\", \"gender\", \n",
    "    \"fighter_height_cm\", \"fighter_weight_lbs\", \"fighter_reach_cm\", \n",
    "    \"fighter_stance\", \"fighter_w\", \"fighter_l\", \"fighter_d\", \"fighter_dob\",\n",
    "    'cumulative_ctrl_time', 'cumulative_reversals', 'cumulative_submission_att', \n",
    "    'cumulative_takedown_succ', 'cumulative_takedown_att', 'cumulative_sig_strikes_att',\n",
    "    'cumulative_total_strikes_succ', 'cumulative_total_strikes_att', 'cumulative_knockdowns',\n",
    "    'avg_finish_time'\n",
    "]\n",
    "X = df[features]\n",
    "y = df['is_winner']\n",
    "\n",
    "# Splitting the dataset into training and testing sets\n",
    "X_train, X_test, y_train, y_test = train_test_split(X, y, test_size=0.2, random_state=42)\n",
    "\n",
    "# Normalizing the feature set\n",
    "scaler = StandardScaler()\n",
    "X_train_scaled = scaler.fit_transform(X_train)\n",
    "X_test_scaled = scaler.transform(X_test)\n",
    "\n",
    "# Training a Random Forest Classifier\n",
    "clf = RandomForestClassifier(n_estimators=100, random_state=42)\n",
    "clf.fit(X_train_scaled, y_train)\n",
    "\n",
    "# Predicting and evaluating the model\n",
    "y_pred = clf.predict(X_test_scaled)\n",
    "accuracy = accuracy_score(y_test, y_pred)\n",
    "\n",
    "# Print the accuracy\n",
    "print(\"Accuracy:\", accuracy)"
   ]
  },
  {
   "cell_type": "code",
   "execution_count": 10,
   "id": "537814c7",
   "metadata": {},
   "outputs": [],
   "source": [
    "# from joblib import dump, load\n",
    "\n",
    "# # Save the model\n",
    "# dump(clf, 'forest_model.joblib')\n",
    "\n",
    "# # Save the scaler\n",
    "# dump(scaler, 'scaler.joblib')"
   ]
  },
  {
   "cell_type": "code",
   "execution_count": 16,
   "id": "7df1eda2",
   "metadata": {},
   "outputs": [
    {
     "name": "stdout",
     "output_type": "stream",
     "text": [
      "Winner is f_2 with probability: 0.47\n"
     ]
    }
   ],
   "source": [
    "import numpy as np\n",
    "from joblib import load\n",
    "\n",
    "warnings.filterwarnings(\"ignore\", category=UserWarning)\n",
    "\n",
    "\n",
    "# Load the model and scaler\n",
    "clf_loaded = load('forest_model.joblib')\n",
    "scaler_loaded = load('scaler.joblib')\n",
    "\n",
    "# Data for two fighters in NumPy arrays\n",
    "data_f1 = np.array([[512,3381,5,0,5.0,0.0,185.42,185.0,193.04,0.0,28.0,5.0,0.0,33.073237508555785,91.6,0.0,0.2,0.9,1.4,204.55,93.95,214.6,0.3,267.8]]) #sean\n",
    "data_f2 = np.array([[3381,512,5,0,5.0,0.0,185.42,185.0,182.88,0.0,14.0,2.0,0.0,32.92813141683778,51.375,0.0,0.0,0.375,0.5,115.0,75.75,121.625,0.5,190.375]]) # costa\n",
    "\n",
    "# Scale the data\n",
    "data_f1_scaled = scaler_loaded.transform(data_f1)\n",
    "data_f2_scaled = scaler_loaded.transform(data_f2)\n",
    "\n",
    "# Make probability predictions\n",
    "probability_f1 = clf_loaded.predict_proba(data_f1_scaled)\n",
    "probability_f2 = clf_loaded.predict_proba(data_f2_scaled)\n",
    "\n",
    "# Extract the win probability for each fighter (assuming the win class is indexed at 1)\n",
    "pred_f1 = probability_f1[0][1]\n",
    "pred_f2 = probability_f2[0][1]\n",
    "\n",
    "# Compare predictions and determine the winner\n",
    "if pred_f1 > pred_f2:\n",
    "    print(\"Winner is f_1 with probability:\", pred_f1)\n",
    "else:\n",
    "    print(\"Winner is f_2 with probability:\", pred_f2)\n"
   ]
  },
  {
   "cell_type": "code",
   "execution_count": 12,
   "id": "5088f01b",
   "metadata": {},
   "outputs": [
    {
     "name": "stdout",
     "output_type": "stream",
     "text": [
      "Winner between Fighter 1 and Fighter 2 is Fighter 1 with probability: 0.4000\n",
      "Winner between Fighter 3 and Fighter 4 is Fighter 3 with probability: 0.4800\n",
      "Winner between Fighter 5 and Fighter 6 is Fighter 6 with probability: 0.4200\n",
      "Winner between Fighter 7 and Fighter 8 is Fighter 8 with probability: 0.5100\n",
      "Winner between Fighter 9 and Fighter 10 is Fighter 9 with probability: 0.5500\n"
     ]
    }
   ],
   "source": [
    "import numpy as np\n",
    "from joblib import load\n",
    "\n",
    "# Load the model and scaler\n",
    "clf_loaded = load('forest_model.joblib')\n",
    "scaler_loaded = load('scaler.joblib')\n",
    "\n",
    "def prepare_and_predict(data):\n",
    "    \"\"\"Scale the data and make a probability prediction for winning.\"\"\"\n",
    "    data_scaled = scaler_loaded.transform(data)\n",
    "    probability = clf_loaded.predict_proba(data_scaled)\n",
    "    return probability[0][1]  # Assuming the win class is indexed at 1\n",
    "\n",
    "fighter_data = [\n",
    "    np.array([[1256, 2550, 5, 1, 10, 0, 193.04, 205.0, 200.66, 0.0, 8, 2, 0, 36.71731690622861, 20.166666666666668, 0.0, 0.16666666666666666, 0.16666666666666666, 0.16666666666666666, 95.16666666666667, 86.0, 124.83333333333333, 0.3333333333333333, 192.66666666666666]]), #Alex (Fighter 1)\n",
    "    np.array([[2550, 1256, 5, 1, 10, 0, 193.04, 205.0, 200.66, 1.0, 12, 1, 0, 32.851471594798085, 52.285714285714285, 0.14285714285714285, 0.0, 0.0, 0.0, 136.0, 80.28571428571429, 145.28571428571428, 0.2857142857142857, 187.14285714285714]]), # Jamahal (Fighter 2)\n",
    "    np.array([[16,69,5,1,2,1,162.56,115.0,160.02,2.0,24,3,0,34.614647501711154,199.6,0.2,0.3,1.9,4.5,142.1,106.4,179.5,0.3,205.4]]), # Zhang (Fighter 3)\n",
    "    np.array([[69,16,5,1,2,1,165.1,115.0,160.02,0.0,17,3,0,34.77344284736482,78.6,0.0,0.0,0.8,1.2,174.0,99.6,199.4,0.1,271.8]]), # Yan (Fighter 4)\n",
    "    np.array([[2902,2532,5,1,0,0,180.34,155.0,177.8,0.0,25,4,0,35.35934291581109,21.416666666666668,0.0,0.0,0.08333333333333333,0.3333333333333333,119.08333333333333,73.83333333333333,121.75,0.5,185.83333333333334]]), # Justin (Fighter 5)\n",
    "    np.array([[2532,2902,5,1,0,0,180.34,145.0,175.26,0.0,25,7,0,32.3066392881588,59.76,0.0,0.4,0.32,0.6,251.64,131.28,262.52,0.32,259.12]]), # Max (Fighter 6)\n",
    "    np.array([[1401,350,3,0,0,0,177.8,155.0,187.96,0.0,34,9,0,34.43668720054757,135.79166666666666,0.16666666666666666,1.2916666666666667,1.1666666666666667,2.8333333333333335,47.666666666666664,38.416666666666664,60.375,0.2916666666666667,157.0]]), # Charles (Fighter 7)\n",
    "    np.array([[350,1401,3,0,0,0,170.18,155.0,182.88,0.0,20,3,0,27.45242984257358,317.3333333333333,0.0,0.0,3.111111111111111,8.555555555555555,108.33333333333333,89.44444444444444,152.66666666666666,0.2222222222222222,250.11111111111111]]), # Arman (Fighter 8)\n",
    "    np.array([[1480,3646,3,0,5,0,185.42,185.0,193.04,1.0,6,0,0,28.194387405886378,76.0,0.0,1.0,0.5,2.5,7.0,5.0,8.0,0.5,106.0]]), # Bo Nickal (Fighter 9)\n",
    "    np.array([[3646,1480,3,0,5,0,182.88,185.0,182.88,0.0,10,5,0,29.859000684462696,77.71428571428571,0.14285714285714285,0.5714285714285714,1.1428571428571428,2.142857142857143,20.714285714285715,23.142857142857142,35.57142857142857,0.2857142857142857,227.14285714285714]]) # Cody Brundage (Fighter 10)\n",
    "      \n",
    "]\n",
    "\n",
    "probabilities = [prepare_and_predict(data) for data in fighter_data]\n",
    "\n",
    "pairs = [(0, 1), (2, 3), (4,5), (6,7), (8,9)]  # Define pairs of fighters for comparison\n",
    "for i, (f1, f2) in enumerate(pairs):\n",
    "    if probabilities[f1] > probabilities[f2]:\n",
    "        print(f\"Winner between Fighter {f1+1} and Fighter {f2+1} is Fighter {f1+1} with probability: {probabilities[f1]:.4f}\")\n",
    "    else:\n",
    "        print(f\"Winner between Fighter {f1+1} and Fighter {f2+1} is Fighter {f2+1} with probability: {probabilities[f2]:.4f}\")\n",
    "\n"
   ]
  },
  {
   "cell_type": "code",
   "execution_count": 20,
   "id": "f7b26c95",
   "metadata": {},
   "outputs": [
    {
     "name": "stdout",
     "output_type": "stream",
     "text": [
      "10.0,0.0,182.88,185.0,187.96,1.0,19.0,6.0,0.0,29.086926762491444,38.81818181818182,0.0909090909090909,0.0,0.1818181818181818,0.5454545454545454,60.81818181818182,36.18181818181818,67.63636363636364,0.6363636363636364,187.3636363636364\n"
     ]
    }
   ],
   "source": [
    "import pandas as pd\n",
    "\n",
    "\n",
    "def get_fighter_stats(fighter_id, file_path):\n",
    "    data = pd.read_csv(file_path)\n",
    "\n",
    "    fighter_data = data[data['fighter_id'] == fighter_id].iloc[0]\n",
    "\n",
    "    relevant_columns = [\n",
    "        'weight_class', 'gender', 'fighter_height_cm', 'fighter_weight_lbs',\n",
    "        'fighter_reach_cm', 'fighter_stance', 'fighter_w', 'fighter_l', \n",
    "        'fighter_d', 'fighter_dob', 'avg_ctrl_time', 'avg_reversals',\n",
    "        'avg_submission_att', 'avg_takedown_succ',\n",
    "        'avg_takedown_att', 'avg_sig_strikes_att',\n",
    "        'avg_total_strikes_succ', 'avg_total_strikes_att',\n",
    "        'avg_knockdowns', 'avg_finish_time'\n",
    "    ]\n",
    "\n",
    "    fighter_stats = fighter_data[relevant_columns]\n",
    "    fighter_stats_list = fighter_stats.astype(str).tolist()\n",
    "\n",
    "    stats_string = ','.join(fighter_stats_list)\n",
    "    print(stats_string)\n",
    "\n",
    "fighter_id = 1403 \n",
    "file_path = 'final_set(2).csv'\n",
    "stats = get_fighter_stats(fighter_id, file_path)"
   ]
  },
  {
   "cell_type": "code",
   "execution_count": null,
   "id": "4663ba89",
   "metadata": {},
   "outputs": [],
   "source": []
  }
 ],
 "metadata": {
  "kernelspec": {
   "display_name": "Python 3 (ipykernel)",
   "language": "python",
   "name": "python3"
  },
  "language_info": {
   "codemirror_mode": {
    "name": "ipython",
    "version": 3
   },
   "file_extension": ".py",
   "mimetype": "text/x-python",
   "name": "python",
   "nbconvert_exporter": "python",
   "pygments_lexer": "ipython3",
   "version": "3.10.12"
  }
 },
 "nbformat": 4,
 "nbformat_minor": 5
}
