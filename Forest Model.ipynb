{
 "cells": [
  {
   "cell_type": "code",
   "execution_count": 2,
   "id": "1908c404-f1a4-4b1f-af03-a89888c67535",
   "metadata": {},
   "outputs": [],
   "source": [
    "#Hello"
   ]
  },
  {
   "cell_type": "code",
   "execution_count": 3,
   "id": "5f59e507-e8df-425c-942f-fb16d0a44633",
   "metadata": {},
   "outputs": [],
   "source": [
    "import os\n",
    "import pandas as pd\n",
    "from torch.utils.data import DataLoader\n",
    "from datetime import datetime"
   ]
  },
  {
   "cell_type": "markdown",
   "id": "d6ec8edb",
   "metadata": {},
   "source": [
    "Load Datasets"
   ]
  },
  {
   "cell_type": "code",
   "execution_count": 4,
   "id": "dad496fb-ba62-4ee8-af4c-f14940e81945",
   "metadata": {},
   "outputs": [
    {
     "name": "stdout",
     "output_type": "stream",
     "text": [
      "Index(['fighter_id', 'fighter_f_name', 'fighter_l_name', 'fighter_nickname',\n",
      "       'fighter_height_cm', 'fighter_weight_lbs', 'fighter_reach_cm',\n",
      "       'fighter_stance', 'fighter_dob', 'fighter_w', 'fighter_l', 'fighter_d',\n",
      "       'fighter_nc_dq', 'fighter_url'],\n",
      "      dtype='object')\n"
     ]
    }
   ],
   "source": [
    "#Load the fight data\n",
    "fight_stats_df = pd.read_csv('datasets/ufc_fight_stat_data.csv')\n",
    "\n",
    "#Load fight data\n",
    "fight_data_df = pd.read_csv('datasets/ufc_fight_data.csv')\n",
    "\n",
    "#Load fighter data \n",
    "fighter_data_df = pd.read_csv('datasets/ufc_fighter_data.csv')\n",
    "\n",
    "#Load event data\n",
    "event_data_df = pd.read_csv('datasets/ufc_event_data.csv')\n",
    "\n",
    "print(fighter_data_df.columns)"
   ]
  },
  {
   "cell_type": "markdown",
   "id": "2708715e",
   "metadata": {},
   "source": [
    "Clean and Process Data"
   ]
  },
  {
   "cell_type": "code",
   "execution_count": 5,
   "id": "e3c5cf64",
   "metadata": {},
   "outputs": [],
   "source": [
    "#Convert data columns to datetime format\n",
    "fighter_data_df['fighter_dob'] = pd.to_datetime(fighter_data_df['fighter_dob'])\n",
    "\n",
    "#Handle Missing Value, if any\n",
    "fight_stats_df = fight_stats_df.dropna(subset=['fighter_id', 'ctrl_time'])\n",
    "fight_data_df = fight_data_df.dropna(subset=['fight_id', 'f_1', 'f_2', 'winner', 'num_rounds'])\n",
    "fighter_data_df = fighter_data_df.dropna(subset=['fighter_id', 'fighter_reach_cm', 'fighter_height_cm', 'fighter_stance', 'fighter_dob'])\n",
    "\n",
    "fighter_data_df['fighter_nc_dq'] = fighter_data_df['fighter_nc_dq'].fillna(0)\n",
    "fighter_data_df['fighter_stance'] = fighter_data_df['fighter_stance'].fillna(0)\n",
    "\n",
    "event_data_df = event_data_df.dropna(subset=['event_id'])\n",
    "\n",
    "#Encode categorical variables (if needed)\n",
    "fighter_data_df['fighter_stance'] = fighter_data_df['fighter_stance'].map({'Orthodox': 0, 'Southpaw': 1, 'Switch': 2})\n",
    "\n"
   ]
  },
  {
   "cell_type": "markdown",
   "id": "66d5c72e",
   "metadata": {},
   "source": [
    "Merge Datasets"
   ]
  },
  {
   "cell_type": "code",
   "execution_count": 6,
   "id": "a0d768d8",
   "metadata": {},
   "outputs": [],
   "source": [
    "    \n",
    "merged_df = pd.merge(fight_stats_df, fight_data_df, how='inner', on='fight_id')\n",
    "merged_df = pd.merge(merged_df, fighter_data_df, how='inner', on='fighter_id')\n",
    "merged_df = pd.merge(merged_df, event_data_df, how='inner', on='event_id')\n"
   ]
  },
  {
   "cell_type": "markdown",
   "id": "626c8a5c",
   "metadata": {},
   "source": [
    "Cleaning"
   ]
  },
  {
   "cell_type": "code",
   "execution_count": 7,
   "id": "4be13256",
   "metadata": {},
   "outputs": [],
   "source": [
    "# Convert ctrl_time from minute format to seconds\n",
    "def time_to_seconds(time_str):\n",
    "    if time_str == '--':\n",
    "        return None  # or any other suitable value, like np.nan\n",
    "    else:\n",
    "        minutes, seconds = map(int, time_str.split(':'))\n",
    "        return minutes * 60 + seconds\n",
    "    \n",
    "merged_df['ctrl_time'] = merged_df['ctrl_time'].apply(time_to_seconds)\n",
    "merged_df['finish_time'] = merged_df['finish_time'].apply(time_to_seconds)\n",
    "\n",
    "#Convert each column to unique ID\n",
    "merged_df['referee'] = pd.factorize(merged_df['referee'])[0]\n",
    "merged_df['event_city'] = pd.factorize(merged_df['event_city'])[0]\n",
    "merged_df['event_state'] = pd.factorize(merged_df['event_state'])[0]\n",
    "merged_df['event_country'] = pd.factorize(merged_df['event_country'])[0]\n",
    "merged_df['result_details'] = pd.factorize(merged_df['result_details'])[0]\n",
    "merged_df['title_fight'] = pd.factorize(merged_df['title_fight'])[0]\n",
    "merged_df['weight_class'] = pd.factorize(merged_df['weight_class'])[0]\n",
    "merged_df['gender'] = pd.factorize(merged_df['gender'])[0]\n",
    "merged_df['result'] = pd.factorize(merged_df['result'])[0]\n",
    "\n",
    "# NOTE: add column that contains value age at the event date\n",
    "\n",
    "# Convert num_rounds to int\n",
    "merged_df['num_rounds'] = pd.to_numeric(merged_df['num_rounds'], errors='coerce')\n",
    "\n",
    "\n",
    "# Convert dob to age in years at the date of 3/25/2024\n",
    "hard_coded_datetime = datetime(2024, 3, 25)\n",
    "merged_df['fighter_dob'] = (hard_coded_datetime.date() - pd.to_datetime(merged_df['fighter_dob']).dt.date).apply(lambda x: x.days / 365.25)\n",
    "\n",
    "\n",
    "# List of columns to drop (temp drop 'event_date' *add later*)\n",
    "cols_to_drop = ['fight_url_x', 'fighter_url', 'event_url', 'fight_url_x', \n",
    "                'fight_url_y', 'event_url', 'fighter_url', 'event_name', \n",
    "                'fighter_nickname', 'fighter_l_name', 'fighter_f_name', \n",
    "                'event_date', 'event_state', 'fight_id', 'finish_round',\n",
    "                'result_details'\n",
    "                ]\n",
    "\n",
    "# Drop the specified columns\n",
    "merged_df = merged_df.drop(columns=cols_to_drop)\n",
    "\n"
   ]
  },
  {
   "cell_type": "markdown",
   "id": "f80b383e",
   "metadata": {},
   "source": [
    "Create Cumulative Columns"
   ]
  },
  {
   "cell_type": "code",
   "execution_count": 8,
   "id": "a9beb051",
   "metadata": {},
   "outputs": [
    {
     "name": "stdout",
     "output_type": "stream",
     "text": [
      "Index(['fight_stat_id', 'fighter_id', 'knockdowns', 'total_strikes_att',\n",
      "       'total_strikes_succ', 'sig_strikes_att', 'sig_strikes_succ',\n",
      "       'takedown_att', 'takedown_succ', 'submission_att', 'reversals',\n",
      "       'ctrl_time', 'event_id', 'referee', 'f_1', 'f_2', 'winner',\n",
      "       'num_rounds', 'title_fight', 'weight_class', 'gender', 'result',\n",
      "       'finish_time', 'fighter_height_cm', 'fighter_weight_lbs',\n",
      "       'fighter_reach_cm', 'fighter_stance', 'fighter_dob', 'fighter_w',\n",
      "       'fighter_l', 'fighter_d', 'fighter_nc_dq', 'event_city',\n",
      "       'event_country', 'cumulative_ctrl_time', 'cumulative_reversals',\n",
      "       'cumulative_submission_att', 'cumulative_takedown_succ',\n",
      "       'cumulative_takedown_att', 'cumulative_sig_strikes_att',\n",
      "       'cumulative_total_strikes_succ', 'cumulative_total_strikes_att',\n",
      "       'cumulative_knockdowns', 'avg_finish_time'],\n",
      "      dtype='object')\n"
     ]
    }
   ],
   "source": [
    "#create cumulative column for ctrl_time\n",
    "\n",
    "# merged_df.sort_values(by=[\"fighter_id\", 'fight_stat_id'], ascending=[True, True], inplace=True)\n",
    "merged_df[\"cumulative_ctrl_time\"] = merged_df.groupby(\"fighter_id\")[\"ctrl_time\"].transform(lambda x: x.expanding().mean())\n",
    "# Cumulative for reversals\n",
    "merged_df[\"cumulative_reversals\"] = merged_df.groupby(\"fighter_id\")[\"reversals\"].transform(lambda x: x.expanding().mean())\n",
    "\n",
    "# for submission attempts\n",
    "merged_df[\"cumulative_submission_att\"] = merged_df.groupby(\"fighter_id\")[\"submission_att\"].transform(lambda x: x.expanding().mean())\n",
    "\n",
    "# for takedown succession\n",
    "merged_df[\"cumulative_takedown_succ\"] = merged_df.groupby(\"fighter_id\")[\"takedown_succ\"].transform(lambda x: x.expanding().mean())\n",
    "\n",
    "# for takedown attmepts \n",
    "merged_df[\"cumulative_takedown_att\"] = merged_df.groupby(\"fighter_id\")[\"takedown_att\"].transform(lambda x: x.expanding().mean())\n",
    "\n",
    "# for significant strike succession\n",
    "merged_df[\"cumulative_sig_strikes_att\"] = merged_df.groupby(\"fighter_id\")[\"sig_strikes_att\"].transform(lambda x: x.expanding().mean())\n",
    "\n",
    "# for total strikes succession\n",
    "merged_df[\"cumulative_total_strikes_succ\"] = merged_df.groupby(\"fighter_id\")[\"total_strikes_succ\"].transform(lambda x: x.expanding().mean())\n",
    "\n",
    "# for total strikes ATTEMPTS\n",
    "merged_df[\"cumulative_total_strikes_att\"] = merged_df.groupby(\"fighter_id\")[\"total_strikes_att\"].transform(lambda x: x.expanding().mean())\n",
    "\n",
    "# for knockdowns\n",
    "merged_df[\"cumulative_knockdowns\"] = merged_df.groupby(\"fighter_id\")[\"knockdowns\"].transform(lambda x: x.expanding().mean())\n",
    "\n",
    "# AVG finish Time\n",
    "merged_df['avg_finish_time'] = merged_df.groupby('fighter_id')['finish_time'].transform(lambda x: x.expanding().mean())\n",
    "\n",
    "\n",
    "# merged_df = pd.read_csv('final_set.csv')\n",
    "\n",
    "print(merged_df.columns)\n",
    "# print(\"num of columns\" , merged_df.shape[1])\n",
    "# print(merged_df['finish_time'])\n",
    "\n",
    "merged_df.to_csv('final_set.csv', index=False)\n"
   ]
  },
  {
   "cell_type": "markdown",
   "id": "fcb614d1",
   "metadata": {},
   "source": [
    "Remove original numeric stats"
   ]
  },
  {
   "cell_type": "code",
   "execution_count": 9,
   "id": "59e68e1a",
   "metadata": {},
   "outputs": [],
   "source": [
    "# Need to remove original numeric stats because they are independent and would be hard to implement when creating features for model\n",
    "temp_df = pd.read_csv('final_set.csv')\n",
    "\n",
    "drop_cols = ['knockdowns', 'total_strikes_att', 'total_strikes_succ',\n",
    "            'sig_strikes_att', 'sig_strikes_succ', 'takedown_att',\n",
    "            'takedown_succ', 'submission_att', 'reversals', 'ctrl_time',\n",
    "            'event_id', 'result', 'finish_time'\n",
    "            ]\n",
    "# temp_df = temp_df[temp_df['fight_stat_id'] > 1200]\n",
    "temp_df = merged_df.drop(columns=drop_cols)\n",
    "temp_df = temp_df.iloc[:10000]\n",
    "temp_df.sort_values(by=[\"fighter_id\", 'fight_stat_id'], ascending=[True, True], inplace=True)\n",
    "temp_df.to_csv('final_set.csv', index=False)"
   ]
  },
  {
   "cell_type": "markdown",
   "id": "8d0a9770",
   "metadata": {},
   "source": [
    "Random Forest Algo"
   ]
  },
  {
   "cell_type": "code",
   "execution_count": 10,
   "id": "76efda33",
   "metadata": {},
   "outputs": [
    {
     "name": "stderr",
     "output_type": "stream",
     "text": [
      "/usr/lib/python3/dist-packages/scipy/__init__.py:146: UserWarning: A NumPy version >=1.17.3 and <1.25.0 is required for this version of SciPy (detected version 1.26.4\n",
      "  warnings.warn(f\"A NumPy version >={np_minversion} and <{np_maxversion}\"\n"
     ]
    },
    {
     "name": "stdout",
     "output_type": "stream",
     "text": [
      "Accuracy: 0.6505\n"
     ]
    }
   ],
   "source": [
    "import pandas as pd\n",
    "from sklearn.model_selection import train_test_split\n",
    "from sklearn.preprocessing import StandardScaler\n",
    "from sklearn.ensemble import RandomForestClassifier\n",
    "from sklearn.metrics import accuracy_score\n",
    "\n",
    "merged_df = pd.read_csv('final_set.csv')\n",
    "data = merged_df\n",
    "df = pd.DataFrame(data)\n",
    "\n",
    "# Creating a binary target variable indicating whether the fighter won or not.\n",
    "df['is_winner'] = df['fighter_id'] == df['winner']\n",
    "\n",
    "# Selecting features for the model\n",
    "features = [\n",
    "    \"f_1\",\"f_2\",\"num_rounds\", \"title_fight\", \"weight_class\", \"gender\", \n",
    "    \"fighter_height_cm\", \"fighter_weight_lbs\", \"fighter_reach_cm\", \n",
    "    \"fighter_stance\", \"fighter_w\", \"fighter_l\", \"fighter_d\", \"fighter_dob\",\n",
    "    'cumulative_ctrl_time', 'cumulative_reversals', 'cumulative_submission_att', \n",
    "    'cumulative_takedown_succ', 'cumulative_takedown_att', 'cumulative_sig_strikes_att',\n",
    "    'cumulative_total_strikes_succ', 'cumulative_total_strikes_att', 'cumulative_knockdowns',\n",
    "    'avg_finish_time'\n",
    "]\n",
    "X = df[features]\n",
    "y = df['is_winner']\n",
    "\n",
    "# Splitting the dataset into training and testing sets\n",
    "X_train, X_test, y_train, y_test = train_test_split(X, y, test_size=0.2, random_state=42)\n",
    "\n",
    "# Normalizing the feature set\n",
    "scaler = StandardScaler()\n",
    "X_train_scaled = scaler.fit_transform(X_train)\n",
    "X_test_scaled = scaler.transform(X_test)\n",
    "\n",
    "# Training a Random Forest Classifier\n",
    "clf = RandomForestClassifier(n_estimators=100, random_state=42)\n",
    "clf.fit(X_train_scaled, y_train)\n",
    "\n",
    "# Predicting and evaluating the model\n",
    "y_pred = clf.predict(X_test_scaled)\n",
    "accuracy = accuracy_score(y_test, y_pred)\n",
    "\n",
    "# Print the accuracy\n",
    "print(\"Accuracy:\", accuracy)"
   ]
  },
  {
   "cell_type": "code",
   "execution_count": 26,
   "id": "7df1eda2",
   "metadata": {},
   "outputs": [
    {
     "name": "stdout",
     "output_type": "stream",
     "text": [
      "Winner is f_1 with probability: 0.48\n"
     ]
    },
    {
     "name": "stderr",
     "output_type": "stream",
     "text": [
      "/home/kyle/.local/lib/python3.10/site-packages/sklearn/base.py:493: UserWarning: X does not have valid feature names, but StandardScaler was fitted with feature names\n",
      "  warnings.warn(\n",
      "/home/kyle/.local/lib/python3.10/site-packages/sklearn/base.py:493: UserWarning: X does not have valid feature names, but StandardScaler was fitted with feature names\n",
      "  warnings.warn(\n"
     ]
    }
   ],
   "source": [
    "import numpy as np\n",
    "\n",
    "# Example feature arrays for f_1 and f_2\n",
    "# These should include all the features used by your model, except the 'fighter_id'.\n",
    "data_f1 = np.array([[16,69,5,1,2,1,162.56,115.0,160.02,2.0,24,3,0,34.614647501711154,199.6,0.2,0.3,1.9,4.5,142.1,106.4,179.5,0.3,205.4]]) # Zhang    \n",
    "data_f2 = np.array([[69,16,5,1,2,1,165.1,115.0,160.02,0.0,17,3,0,34.77344284736482,78.6,0.0,0.0,0.8,1.2,174.0,99.6,199.4,0.1,271.8]]) # Yan\n",
    "\n",
    "# Scale the data using the existing scaler\n",
    "data_f1_scaled = scaler.transform(data_f1)\n",
    "data_f2_scaled = scaler.transform(data_f2)\n",
    "\n",
    "# Predict the outcomes using the trained classifier\n",
    "pred_f1 = clf.predict_proba(data_f1_scaled)[0][1]  # Probability of f_1 winning\n",
    "pred_f2 = clf.predict_proba(data_f2_scaled)[0][1]  # Probability of f_2 winning\n",
    "\n",
    "# Compare the probabilities and print the winner\n",
    "if pred_f1 > pred_f2:\n",
    "    print(\"Winner is f_1 with probability:\", pred_f1)\n",
    "else:\n",
    "    print(\"Winner is f_2 with probability:\", pred_f2)\n"
   ]
  },
  {
   "cell_type": "markdown",
   "id": "40b93089",
   "metadata": {},
   "source": [
    "Preprocessing for Neural Network"
   ]
  },
  {
   "cell_type": "code",
   "execution_count": 12,
   "id": "d27ede16",
   "metadata": {},
   "outputs": [],
   "source": [
    "import numpy as np\n",
    "import pandas as pd\n",
    "\n",
    "#X_train_scaled is a numpy array; convert it to a DataFrame for easier manipulation\n",
    "df_train_features = pd.DataFrame(X_train_scaled)\n",
    "\n",
    "# Handling NaN values by imputation\n",
    "df_train_features.fillna(df_train_features.mean(), inplace=True)\n",
    "\n",
    "# Handling infinite values by replacing them with NaN and then imputing\n",
    "df_train_features.replace([np.inf, -np.inf], np.nan, inplace=True)\n",
    "df_train_features.fillna(df_train_features.mean(), inplace=True)\n",
    "\n",
    "# Convert back to numpy array if necessary\n",
    "X_train_scaled_clean = df_train_features.to_numpy()\n"
   ]
  },
  {
   "cell_type": "markdown",
   "id": "d5e7f7a4",
   "metadata": {},
   "source": [
    "Check for NaNs or infinite values in numpy\n"
   ]
  },
  {
   "cell_type": "code",
   "execution_count": 13,
   "id": "13a9a6b6",
   "metadata": {},
   "outputs": [],
   "source": [
    "# Example check for NaNs or infinite values in numpy\n",
    "import numpy as np\n",
    "\n",
    "# Assuming X_train_scaled is a numpy array\n",
    "if np.isnan(X_train_scaled).any() or np.isinf(X_train_scaled).any():\n",
    "    print(\"Training features contain NaN or infinite values.\")\n",
    "if np.isnan(y_train.values).any():\n",
    "    print(\"Training labels contain NaN values.\")\n",
    "    "
   ]
  },
  {
   "cell_type": "markdown",
   "id": "94688e60",
   "metadata": {},
   "source": [
    "Neural Network"
   ]
  },
  {
   "cell_type": "code",
   "execution_count": 14,
   "id": "441042e7",
   "metadata": {},
   "outputs": [
    {
     "name": "stdout",
     "output_type": "stream",
     "text": [
      "Epoch 1/50, Training Loss: 0.6415251994132996, Validation Loss: 0.6015696883201599\n",
      "Epoch 2/50, Training Loss: 0.6103051042556763, Validation Loss: 0.5983434402942658\n",
      "Epoch 3/50, Training Loss: 0.6060357081890106, Validation Loss: 0.6000933539867401\n",
      "Epoch 4/50, Training Loss: 0.6064953520894051, Validation Loss: 0.6089111256599427\n",
      "Epoch 5/50, Training Loss: 0.5980162182450295, Validation Loss: 0.6006218910217285\n",
      "Epoch 6/50, Training Loss: 0.6004908436536789, Validation Loss: 0.5943102550506592\n",
      "Epoch 7/50, Training Loss: 0.6028633320331573, Validation Loss: 0.6157103109359742\n",
      "Epoch 8/50, Training Loss: 0.6016265985369682, Validation Loss: 0.6330087685585022\n",
      "Epoch 9/50, Training Loss: 0.6056995192170143, Validation Loss: 0.6164386010169983\n",
      "Epoch 10/50, Training Loss: 0.5997605207562446, Validation Loss: 0.615562846660614\n",
      "Epoch 11/50, Training Loss: 0.5890195727348327, Validation Loss: 0.6037402081489563\n",
      "Epoch 12/50, Training Loss: 0.5782742410898208, Validation Loss: 0.601820787191391\n",
      "Epoch 13/50, Training Loss: 0.5752811595797539, Validation Loss: 0.5992500054836273\n",
      "Epoch 14/50, Training Loss: 0.5680534660816192, Validation Loss: 0.5958350002765656\n",
      "Epoch 15/50, Training Loss: 0.568087445795536, Validation Loss: 0.5974769389629364\n",
      "Epoch 16/50, Training Loss: 0.5665918126702308, Validation Loss: 0.5982801723480224\n",
      "Epoch 17/50, Training Loss: 0.5642853462696076, Validation Loss: 0.5974656355381012\n",
      "Epoch 18/50, Training Loss: 0.5653899219632149, Validation Loss: 0.5974576675891876\n",
      "Epoch 19/50, Training Loss: 0.5725071054697036, Validation Loss: 0.597188971042633\n",
      "Epoch 20/50, Training Loss: 0.56951431453228, Validation Loss: 0.5964111113548278\n",
      "Epoch 21/50, Training Loss: 0.561604967713356, Validation Loss: 0.5960657453536987\n",
      "Epoch 22/50, Training Loss: 0.5615367585420609, Validation Loss: 0.5957919120788574\n",
      "Epoch 23/50, Training Loss: 0.5621708235144616, Validation Loss: 0.5960625028610229\n",
      "Epoch 24/50, Training Loss: 0.5570241171121597, Validation Loss: 0.5955033111572265\n",
      "Epoch 25/50, Training Loss: 0.5576500049233437, Validation Loss: 0.5952579283714294\n",
      "Epoch 26/50, Training Loss: 0.5609214600920677, Validation Loss: 0.5953024303913117\n",
      "Epoch 27/50, Training Loss: 0.5613591361045838, Validation Loss: 0.5956552290916443\n",
      "Epoch 28/50, Training Loss: 0.5572943735122681, Validation Loss: 0.5957083117961883\n",
      "Epoch 29/50, Training Loss: 0.5558102825284004, Validation Loss: 0.5954761934280396\n",
      "Epoch 30/50, Training Loss: 0.5578443661332131, Validation Loss: 0.5951482951641083\n",
      "Epoch 31/50, Training Loss: 0.561897586286068, Validation Loss: 0.5951634824275971\n",
      "Epoch 32/50, Training Loss: 0.5544467192888259, Validation Loss: 0.5951649260520935\n",
      "Epoch 33/50, Training Loss: 0.5598571473360061, Validation Loss: 0.5951737463474274\n",
      "Epoch 34/50, Training Loss: 0.5587875327467918, Validation Loss: 0.5951871442794799\n",
      "Epoch 35/50, Training Loss: 0.5605799975991249, Validation Loss: 0.595177286863327\n",
      "Epoch 36/50, Training Loss: 0.5559572780132294, Validation Loss: 0.5951470720767975\n",
      "Epoch 37/50, Training Loss: 0.5649878314137459, Validation Loss: 0.5951732420921325\n",
      "Epoch 38/50, Training Loss: 0.5570583060383797, Validation Loss: 0.5951637923717499\n",
      "Epoch 39/50, Training Loss: 0.5593154567480088, Validation Loss: 0.5951703143119812\n",
      "Epoch 40/50, Training Loss: 0.5573251008987427, Validation Loss: 0.595151709318161\n",
      "Epoch 41/50, Training Loss: 0.5576820436120034, Validation Loss: 0.5951521933078766\n",
      "Epoch 42/50, Training Loss: 0.5592486757040024, Validation Loss: 0.5951507329940796\n",
      "Epoch 43/50, Training Loss: 0.5545759797096252, Validation Loss: 0.5951529037952423\n",
      "Epoch 44/50, Training Loss: 0.5579666250944137, Validation Loss: 0.5951541495323182\n",
      "Epoch 45/50, Training Loss: 0.5609995132684708, Validation Loss: 0.5951565098762512\n",
      "Epoch 46/50, Training Loss: 0.5594114315509796, Validation Loss: 0.5951572608947754\n",
      "Epoch 47/50, Training Loss: 0.556092400252819, Validation Loss: 0.5951579022407532\n",
      "Epoch 48/50, Training Loss: 0.5596973705291748, Validation Loss: 0.5951609921455383\n",
      "Epoch 49/50, Training Loss: 0.5601230490207673, Validation Loss: 0.5951633739471436\n",
      "Epoch 50/50, Training Loss: 0.5547791621088982, Validation Loss: 0.5951592791080474\n",
      "Accuracy of the network on the test dataset: 68.3%\n"
     ]
    }
   ],
   "source": [
    "import torch\n",
    "import torch.nn as nn\n",
    "import torch.optim as optim\n",
    "from torch.utils.data import DataLoader, TensorDataset, random_split\n",
    "from torch.optim.lr_scheduler import StepLR\n",
    "import matplotlib.pyplot as plt\n",
    "\n",
    "\n",
    "# Convert data to PyTorch tensors, ensuring y_train and y_test are converted from pandas Series to numpy arrays first\n",
    "X_train_tensor = torch.tensor(X_train_scaled).float()\n",
    "y_train_tensor = torch.tensor(y_train.to_numpy()).long()  \n",
    "X_test_tensor = torch.tensor(X_test_scaled).float()\n",
    "y_test_tensor = torch.tensor(y_test.to_numpy()).long()\n",
    "\n",
    "# Creating Dataset and DataLoader\n",
    "train_dataset = TensorDataset(X_train_tensor, y_train_tensor)\n",
    "test_dataset = TensorDataset(X_test_tensor, y_test_tensor)\n",
    "\n",
    "# Splitting train dataset into train and validation sets\n",
    "train_size = int(0.8 * len(train_dataset))\n",
    "val_size = len(train_dataset) - train_size\n",
    "train_dataset, val_dataset = random_split(train_dataset, [train_size, val_size])\n",
    "\n",
    "batch_size = 64\n",
    "train_loader = DataLoader(train_dataset, batch_size=batch_size, shuffle=True)\n",
    "val_loader = DataLoader(val_dataset, batch_size=batch_size, shuffle=False)\n",
    "test_loader = DataLoader(test_dataset, batch_size=batch_size)\n",
    "\n",
    "# Neural Network Model with Dropout\n",
    "class FightPredictor(nn.Module):\n",
    "    def __init__(self):\n",
    "        super(FightPredictor, self).__init__()\n",
    "        self.fc1 = nn.Linear(X_train_scaled.shape[1], 128)\n",
    "        self.dropout1 = nn.Dropout(0.5)  # Adding dropout\n",
    "        self.fc2 = nn.Linear(128, 64)\n",
    "        self.dropout2 = nn.Dropout(0.5)  # Adding dropout\n",
    "        self.fc3 = nn.Linear(64, 2)\n",
    "\n",
    "    def forward(self, x):\n",
    "        x = torch.relu(self.fc1(x))\n",
    "        x = self.dropout1(x)\n",
    "        x = torch.relu(self.fc2(x))\n",
    "        x = self.dropout2(x)\n",
    "        x = self.fc3(x)\n",
    "        return x\n",
    "\n",
    "model = FightPredictor()\n",
    "\n",
    "# Loss and Optimizer\n",
    "criterion = nn.CrossEntropyLoss()\n",
    "optimizer = optim.Adam(model.parameters(), lr=0.01)\n",
    "\n",
    "# Learning Rate Scheduler\n",
    "scheduler = StepLR(optimizer, step_size=10, gamma=0.1)\n",
    "\n",
    "# Training with Early Stopping\n",
    "num_epochs = 50\n",
    "best_val_loss = float('inf')\n",
    "\n",
    "training_losses = []\n",
    "validation_losses = []\n",
    "\n",
    "for epoch in range(num_epochs):\n",
    "    model.train()  # Set model to training mode\n",
    "    running_loss = 0.0\n",
    "    \n",
    "    for inputs, labels in train_loader:\n",
    "        optimizer.zero_grad()\n",
    "        outputs = model(inputs)\n",
    "        loss = criterion(outputs, labels)\n",
    "        loss.backward()\n",
    "        optimizer.step()\n",
    "        running_loss += loss.item()\n",
    "    \n",
    "    training_loss = running_loss / len(train_loader)\n",
    "    training_losses.append(training_loss)\n",
    "\n",
    "    # Validation loss\n",
    "    model.eval()  # Set model to evaluation mode\n",
    "    val_loss = 0.0\n",
    "    with torch.no_grad():\n",
    "        for inputs, labels in val_loader:\n",
    "            outputs = model(inputs)\n",
    "            loss = criterion(outputs, labels)\n",
    "            val_loss += loss.item()\n",
    "\n",
    "    validation_loss = val_loss / len(val_loader)\n",
    "    validation_losses.append(validation_loss)\n",
    "    \n",
    "    if val_loss < best_val_loss:\n",
    "        best_val_loss = val_loss\n",
    "        # Save the best model\n",
    "        torch.save(model.state_dict(), 'best_test_model.pth')\n",
    "    \n",
    "    scheduler.step()  # Update learning rate\n",
    "    \n",
    "    print(f'Epoch {epoch+1}/{num_epochs}, Training Loss: {running_loss/len(train_loader)}, Validation Loss: {val_loss/len(val_loader)}')\n",
    "\n",
    "# Load the best model for testing\n",
    "model.load_state_dict(torch.load('best_test_model.pth'))\n",
    "\n",
    "# Evaluate the model\n",
    "model.eval()\n",
    "correct = 0\n",
    "total = 0\n",
    "with torch.no_grad():\n",
    "    for inputs, labels in test_loader:\n",
    "        outputs = model(inputs)\n",
    "        _, predicted = torch.max(outputs.data, 1)\n",
    "        total += labels.size(0)\n",
    "        correct += (predicted == labels).sum().item()\n",
    "\n",
    "print(f'Accuracy of the network on the test dataset: {100 * correct / total}%')\n"
   ]
  },
  {
   "cell_type": "code",
   "execution_count": 15,
   "id": "4f293f2e",
   "metadata": {},
   "outputs": [
    {
     "data": {
      "image/png": "[encoded data removed]",
      "text/plain": [
       "<Figure size 432x288 with 1 Axes>"
      ]
     },
     "metadata": {
      "needs_background": "light"
     },
     "output_type": "display_data"
    }
   ],
   "source": [
    "plt.plot(training_losses, label='Training Loss')\n",
    "plt.plot(validation_losses, label='Validation Loss')\n",
    "plt.xlabel('Epochs')\n",
    "plt.ylabel('Loss')\n",
    "plt.legend()\n",
    "plt.show()\n"
   ]
  },
  {
   "cell_type": "markdown",
   "id": "c012b732",
   "metadata": {},
   "source": [
    "Testing New Unseen Data"
   ]
  },
  {
   "cell_type": "code",
   "execution_count": 16,
   "id": "620c4add",
   "metadata": {},
   "outputs": [],
   "source": [
    "# model = FightPredictor()\n",
    "# model.load_state_dict(torch.load('best_model.pth'))\n",
    "# model.eval"
   ]
  },
  {
   "cell_type": "code",
   "execution_count": 17,
   "id": "4b73b8f1",
   "metadata": {},
   "outputs": [],
   "source": [
    "# new_fight_features = [2980,7,5,1,1,0,180.34,155.0,177.8,0.0,25,4,0,35.35934291581109,257.0,0.0,0.0,1.0,4.0,1429.0,886.0,1461.0,6.0,185.83333333333334]\n",
    "# new_fight_data_scaled = scaler.transform([new_fight_features])\n",
    "# new_fight_tensor = torch.tensor(new_fight_data_scaled).float()\n"
   ]
  },
  {
   "cell_type": "code",
   "execution_count": 18,
   "id": "a5a351c6",
   "metadata": {},
   "outputs": [],
   "source": [
    "# with torch.no_grad():\n",
    "#     prediction = model(new_fight_tensor)\n",
    "#     predicted_winner = torch.argmax(prediction, dim=1).item()\n",
    "\n",
    "# # Assuming 0 represents f_1 and 1 represents f_2 as the winner\n",
    "# winner = \"f_1\" if predicted_winner == 0 else \"f_2\"\n",
    "# print(f\"Predicted winner: {winner}\")\n",
    "# print(winner)"
   ]
  },
  {
   "cell_type": "code",
   "execution_count": 19,
   "id": "717b5191",
   "metadata": {},
   "outputs": [],
   "source": [
    "# scaler = StandardScaler()\n",
    "# X_train_scaled = scaler.fit_transform(X_train)\n",
    "# X_test_scaled = scaler.transform(X_test)\n",
    "\n",
    "# X_train_tensor = torch.tensor(X_train_scaled).float()\n",
    "# y_train_tensor = torch.tensor(y_train.to_numpy()).long()  \n",
    "# X_test_tensor = torch.tensor(X_test_scaled).float()\n",
    "# y_test_tensor = torch.tensor(y_test.to_numpy()).long()\n",
    "\n",
    "# # Creating Dataset and DataLoader\n",
    "# train_dataset = TensorDataset(X_train_tensor, y_train_tensor)\n",
    "# test_dataset = TensorDataset(X_test_tensor, y_test_tensor)\n",
    "\n"
   ]
  },
  {
   "cell_type": "code",
   "execution_count": 20,
   "id": "20f9e0e1",
   "metadata": {},
   "outputs": [
    {
     "name": "stdout",
     "output_type": "stream",
     "text": [
      "Predicted Class: 1\n"
     ]
    }
   ],
   "source": [
    "import numpy as np\n",
    "import pandas as pd\n",
    "import torch\n",
    "from sklearn.preprocessing import StandardScaler\n",
    "\n",
    "# Features used in the model\n",
    "features = [\n",
    "    \"f_1\", \"f_2\", \"num_rounds\", \"title_fight\", \"weight_class\", \"gender\",\n",
    "    \"fighter_height_cm\", \"fighter_weight_lbs\", \"fighter_reach_cm\",\n",
    "    \"fighter_stance\", \"fighter_w\", \"fighter_l\", \"fighter_d\", \"fighter_dob\",\n",
    "    'cumulative_ctrl_time', 'cumulative_reversals', 'cumulative_submission_att',\n",
    "    'cumulative_takedown_succ', 'cumulative_takedown_att', 'cumulative_sig_strikes_att',\n",
    "    'cumulative_total_strikes_succ', 'cumulative_total_strikes_att', 'cumulative_knockdowns',\n",
    "    'avg_finish_time'\n",
    "]\n",
    "\n",
    "# Data for prediction\n",
    "data = [\n",
    "    2902,2532,5,1,1,0,180.34,155.0,177.8,0.0,25,4,0,35.35934291581109,257.0,0.0,0.0,1.0,4.0,1429.0,886.0,1461.0,6.0,185.83333333333334\n",
    "\n",
    "]\n",
    "\n",
    "# Create DataFrame with proper columns\n",
    "df = pd.DataFrame([data], columns=features)\n",
    "\n",
    "# Initialize and fit scaler on the new data (this is a fallback, not recommended)\n",
    "scaler = StandardScaler()\n",
    "scaler.fit(df)  # Fit scaler to new data\n",
    "\n",
    "# Scale the data\n",
    "X_scaled = scaler.transform(df)\n",
    "\n",
    "# Convert scaled data to PyTorch tensor\n",
    "X_new = torch.tensor(X_scaled).float()\n",
    "\n",
    "# Load the best model\n",
    "model = FightPredictor()\n",
    "model.load_state_dict(torch.load('best_test_model.pth'))\n",
    "model.eval()\n",
    "\n",
    "# Predict\n",
    "with torch.no_grad():\n",
    "    outputs = model(X_new)\n",
    "    _, predicted = torch.max(outputs.data, 1)\n",
    "\n",
    "# Display Predicted Class\n",
    "print(\"Predicted Class:\", predicted.item())  # 0 for f_1 wins, 1 for f_2 wins\n"
   ]
  },
  {
   "cell_type": "code",
   "execution_count": null,
   "id": "07357543",
   "metadata": {},
   "outputs": [],
   "source": []
  },
  {
   "cell_type": "code",
   "execution_count": null,
   "id": "3bb9f864",
   "metadata": {},
   "outputs": [],
   "source": []
  }
 ],
 "metadata": {
  "kernelspec": {
   "display_name": "Python 3 (ipykernel)",
   "language": "python",
   "name": "python3"
  }
 },
 "nbformat": 4,
 "nbformat_minor": 5
}
