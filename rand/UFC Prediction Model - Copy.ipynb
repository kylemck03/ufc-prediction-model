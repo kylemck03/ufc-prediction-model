{
 "cells": [
  {
   "cell_type": "code",
   "execution_count": 210,
   "id": "1908c404-f1a4-4b1f-af03-a89888c67535",
   "metadata": {},
   "outputs": [],
   "source": [
    "#Hello"
   ]
  },
  {
   "cell_type": "code",
   "execution_count": 211,
   "id": "5f59e507-e8df-425c-942f-fb16d0a44633",
   "metadata": {},
   "outputs": [],
   "source": [
    "import os\n",
    "import pandas as pd\n",
    "from torch.utils.data import DataLoader\n",
    "from datetime import datetime"
   ]
  },
  {
   "cell_type": "markdown",
   "id": "d6ec8edb",
   "metadata": {},
   "source": [
    "Load Datasets"
   ]
  },
  {
   "cell_type": "code",
   "execution_count": 212,
   "id": "dad496fb-ba62-4ee8-af4c-f14940e81945",
   "metadata": {},
   "outputs": [
    {
     "name": "stdout",
     "output_type": "stream",
     "text": [
      "Index(['fighter_id', 'fighter_f_name', 'fighter_l_name', 'fighter_nickname',\n",
      "       'fighter_height_cm', 'fighter_weight_lbs', 'fighter_reach_cm',\n",
      "       'fighter_stance', 'fighter_dob', 'fighter_w', 'fighter_l', 'fighter_d',\n",
      "       'fighter_nc_dq', 'fighter_url'],\n",
      "      dtype='object')\n"
     ]
    }
   ],
   "source": [
    "#Load the fight data\n",
    "fight_stats_df = pd.read_csv('datasets/ufc_fight_stat_data.csv')\n",
    "\n",
    "#Load fight data\n",
    "fight_data_df = pd.read_csv('datasets/ufc_fight_data.csv')\n",
    "\n",
    "#Load fighter data \n",
    "fighter_data_df = pd.read_csv('datasets/ufc_fighter_data.csv')\n",
    "\n",
    "#Load event data\n",
    "event_data_df = pd.read_csv('datasets/ufc_event_data.csv')\n",
    "\n",
    "print(fighter_data_df.columns)"
   ]
  },
  {
   "cell_type": "markdown",
   "id": "2708715e",
   "metadata": {},
   "source": [
    "Clean and Process Data"
   ]
  },
  {
   "cell_type": "code",
   "execution_count": 213,
   "id": "e3c5cf64",
   "metadata": {},
   "outputs": [],
   "source": [
    "#Convert data columns to datetime format\n",
    "fighter_data_df['fighter_dob'] = pd.to_datetime(fighter_data_df['fighter_dob'])\n",
    "\n",
    "#Handle Missing Value, if any\n",
    "fight_stats_df = fight_stats_df.dropna(subset=['fighter_id', 'ctrl_time'])\n",
    "fight_data_df = fight_data_df.dropna(subset=['fight_id', 'f_1', 'f_2', 'winner', 'num_rounds'])\n",
    "fighter_data_df = fighter_data_df.dropna(subset=['fighter_id', 'fighter_reach_cm', 'fighter_height_cm', 'fighter_stance', 'fighter_dob'])\n",
    "\n",
    "fighter_data_df['fighter_nc_dq'] = fighter_data_df['fighter_nc_dq'].fillna(0)\n",
    "fighter_data_df['fighter_stance'] = fighter_data_df['fighter_stance'].fillna(0)\n",
    "\n",
    "event_data_df = event_data_df.dropna(subset=['event_id'])\n",
    "\n",
    "#Encode categorical variables (if needed)\n",
    "fighter_data_df['fighter_stance'] = fighter_data_df['fighter_stance'].map({'Orthodox': 0, 'Southpaw': 1, 'Switch': 2})\n",
    "\n"
   ]
  },
  {
   "cell_type": "markdown",
   "id": "66d5c72e",
   "metadata": {},
   "source": [
    "Merge Datasets"
   ]
  },
  {
   "cell_type": "code",
   "execution_count": 214,
   "id": "a0d768d8",
   "metadata": {},
   "outputs": [],
   "source": [
    "    \n",
    "merged_df = pd.merge(fight_stats_df, fight_data_df, how='inner', on='fight_id')\n",
    "merged_df = pd.merge(merged_df, fighter_data_df, how='inner', on='fighter_id')\n",
    "merged_df = pd.merge(merged_df, event_data_df, how='inner', on='event_id')\n"
   ]
  },
  {
   "cell_type": "markdown",
   "id": "626c8a5c",
   "metadata": {},
   "source": [
    "Cleaning"
   ]
  },
  {
   "cell_type": "code",
   "execution_count": 215,
   "id": "4be13256",
   "metadata": {},
   "outputs": [
    {
     "name": "stdout",
     "output_type": "stream",
     "text": [
      "Index(['fight_stat_id', 'fighter_id', 'knockdowns', 'total_strikes_att',\n",
      "       'total_strikes_succ', 'sig_strikes_att', 'sig_strikes_succ',\n",
      "       'takedown_att', 'takedown_succ', 'submission_att', 'reversals',\n",
      "       'ctrl_time', 'event_id', 'referee', 'f_1', 'f_2', 'winner',\n",
      "       'num_rounds', 'title_fight', 'weight_class', 'gender', 'result',\n",
      "       'result_details', 'finish_round', 'finish_time', 'fighter_height_cm',\n",
      "       'fighter_weight_lbs', 'fighter_reach_cm', 'fighter_stance',\n",
      "       'fighter_dob', 'fighter_w', 'fighter_l', 'fighter_d', 'fighter_nc_dq',\n",
      "       'event_city', 'event_country'],\n",
      "      dtype='object')\n",
      "num of columns 36\n"
     ]
    }
   ],
   "source": [
    "# Convert ctrl_time from minute format to seconds\n",
    "def time_to_seconds(time_str):\n",
    "    if time_str == '--':\n",
    "        return None  # or any other suitable value, like np.nan\n",
    "    else:\n",
    "        minutes, seconds = map(int, time_str.split(':'))\n",
    "        return minutes * 60 + seconds\n",
    "    \n",
    "merged_df['ctrl_time'] = merged_df['ctrl_time'].apply(time_to_seconds)\n",
    "merged_df['finish_time'] = merged_df['finish_time'].apply(time_to_seconds)\n",
    "\n",
    "#Convert each column to unique ID\n",
    "merged_df['referee'] = pd.factorize(merged_df['referee'])[0]\n",
    "merged_df['event_city'] = pd.factorize(merged_df['event_city'])[0]\n",
    "merged_df['event_state'] = pd.factorize(merged_df['event_state'])[0]\n",
    "merged_df['event_country'] = pd.factorize(merged_df['event_country'])[0]\n",
    "merged_df['result_details'] = pd.factorize(merged_df['result_details'])[0]\n",
    "merged_df['title_fight'] = pd.factorize(merged_df['title_fight'])[0]\n",
    "merged_df['weight_class'] = pd.factorize(merged_df['weight_class'])[0]\n",
    "merged_df['gender'] = pd.factorize(merged_df['gender'])[0]\n",
    "merged_df['result'] = pd.factorize(merged_df['result'])[0]\n",
    "\n",
    "# NOTE: add column that contains value age at the event date\n",
    "\n",
    "# Convert num_rounds to int\n",
    "merged_df['num_rounds'] = pd.to_numeric(merged_df['num_rounds'], errors='coerce')\n",
    "\n",
    "\n",
    "# Convert dob to age in years at the date of 3/25/2024\n",
    "hard_coded_datetime = datetime(2024, 3, 25)\n",
    "merged_df['fighter_dob'] = (hard_coded_datetime.date() - pd.to_datetime(merged_df['fighter_dob']).dt.date).apply(lambda x: x.days / 365.25)\n",
    "\n",
    "\n",
    "# List of columns to drop (temp drop 'event_date' *add later*)\n",
    "cols_to_drop = ['fight_url_x', 'fighter_url', 'event_url', 'fight_url_x', 'fight_url_y', 'event_url', 'fighter_url', 'event_name', 'fighter_nickname', 'fighter_l_name', 'fighter_f_name', 'event_date', 'event_state', 'fight_id']\n",
    "\n",
    "# Drop the specified columns\n",
    "merged_df = merged_df.drop(columns=cols_to_drop)\n",
    "\n",
    "\n",
    "# merged_df = pd.read_csv('final_set.csv')\n",
    "merged_df.to_csv('final.csv', index=False)\n",
    "\n",
    "print(merged_df.columns)\n",
    "print(\"num of columns\" , merged_df.shape[1])"
   ]
  },
  {
   "cell_type": "markdown",
   "id": "8d0a9770",
   "metadata": {},
   "source": [
    "Random Forrest Algo"
   ]
  },
  {
   "cell_type": "code",
   "execution_count": 259,
   "id": "76efda33",
   "metadata": {},
   "outputs": [
    {
     "name": "stdout",
     "output_type": "stream",
     "text": [
      "Accuracy: 0.7970903522205207\n"
     ]
    }
   ],
   "source": [
    "import pandas as pd\n",
    "from sklearn.model_selection import train_test_split\n",
    "from sklearn.preprocessing import StandardScaler\n",
    "from sklearn.ensemble import RandomForestClassifier\n",
    "from sklearn.metrics import accuracy_score\n",
    "\n",
    "data = merged_df\n",
    "df = pd.DataFrame(data)\n",
    "\n",
    "# Creating a binary target variable indicating whether the fighter won or not.\n",
    "df['is_winner'] = df['fighter_id'] == df['winner']\n",
    "\n",
    "# Selecting features for the model\n",
    "features = [\n",
    "    \"knockdowns\", \"total_strikes_att\", \"total_strikes_succ\", \n",
    "    \"sig_strikes_att\", \"sig_strikes_succ\", \"takedown_att\", \n",
    "    \"takedown_succ\", \"submission_att\", \"reversals\", \"ctrl_time\",\n",
    "    \"num_rounds\", \"title_fight\", \"weight_class\", \"gender\", \n",
    "    \"fighter_height_cm\", \"fighter_weight_lbs\", \"fighter_reach_cm\", \n",
    "    \"fighter_stance\", \"fighter_w\", \"fighter_l\", \"fighter_d\"\n",
    "]\n",
    "X = df[features]\n",
    "y = df['is_winner']\n",
    "\n",
    "# Splitting the dataset into training and testing sets\n",
    "X_train, X_test, y_train, y_test = train_test_split(X, y, test_size=0.2, random_state=42)\n",
    "\n",
    "# Normalizing the feature set\n",
    "scaler = StandardScaler()\n",
    "X_train_scaled = scaler.fit_transform(X_train)\n",
    "X_test_scaled = scaler.transform(X_test)\n",
    "\n",
    "# Training a Random Forest Classifier\n",
    "clf = RandomForestClassifier(n_estimators=100, random_state=42)\n",
    "clf.fit(X_train_scaled, y_train)\n",
    "\n",
    "# Predicting and evaluating the model\n",
    "y_pred = clf.predict(X_test_scaled)\n",
    "accuracy = accuracy_score(y_test, y_pred)\n",
    "\n",
    "# Print the accuracy\n",
    "print(\"Accuracy:\", accuracy)"
   ]
  },
  {
   "cell_type": "markdown",
   "id": "40b93089",
   "metadata": {},
   "source": [
    "Preprocessing for nn"
   ]
  },
  {
   "cell_type": "code",
   "execution_count": 262,
   "id": "d27ede16",
   "metadata": {},
   "outputs": [],
   "source": [
    "import numpy as np\n",
    "import pandas as pd\n",
    "\n",
    "#X_train_scaled is a numpy array; convert it to a DataFrame for easier manipulation\n",
    "df_train_features = pd.DataFrame(X_train_scaled)\n",
    "\n",
    "# Handling NaN values by imputation\n",
    "df_train_features.fillna(df_train_features.mean(), inplace=True)\n",
    "\n",
    "# Handling infinite values by replacing them with NaN and then imputing\n",
    "df_train_features.replace([np.inf, -np.inf], np.nan, inplace=True)\n",
    "df_train_features.fillna(df_train_features.mean(), inplace=True)\n",
    "\n",
    "# Convert back to numpy array if necessary\n",
    "X_train_scaled_clean = df_train_features.to_numpy()\n"
   ]
  },
  {
   "cell_type": "markdown",
   "id": "d5e7f7a4",
   "metadata": {},
   "source": [
    "Example check for NaNs or infinite values in numpy\n"
   ]
  },
  {
   "cell_type": "code",
   "execution_count": 218,
   "id": "13a9a6b6",
   "metadata": {},
   "outputs": [],
   "source": [
    "# Example check for NaNs or infinite values in numpy\n",
    "import numpy as np\n",
    "\n",
    "# Assuming X_train_scaled is a numpy array\n",
    "if np.isnan(X_train_scaled).any() or np.isinf(X_train_scaled).any():\n",
    "    print(\"Training features contain NaN or infinite values.\")\n",
    "if np.isnan(y_train.values).any():\n",
    "    print(\"Training labels contain NaN values.\")\n",
    "    "
   ]
  },
  {
   "cell_type": "markdown",
   "id": "94688e60",
   "metadata": {},
   "source": [
    "Neural Network"
   ]
  },
  {
   "cell_type": "code",
   "execution_count": 257,
   "id": "441042e7",
   "metadata": {},
   "outputs": [
    {
     "name": "stdout",
     "output_type": "stream",
     "text": [
      "Epoch 1/50, Training Loss: 0.5885039165274788, Validation Loss: 0.4900535561821677\n",
      "Epoch 2/50, Training Loss: 0.5091220056282655, Validation Loss: 0.46712077928311896\n",
      "Epoch 3/50, Training Loss: 0.4916233029074341, Validation Loss: 0.45940844308246265\n",
      "Epoch 4/50, Training Loss: 0.4789361605662426, Validation Loss: 0.45555490345665905\n",
      "Epoch 5/50, Training Loss: 0.4665062925742783, Validation Loss: 0.449075283426227\n",
      "Epoch 6/50, Training Loss: 0.46810443494611115, Validation Loss: 0.44545676401167206\n",
      "Epoch 7/50, Training Loss: 0.45829800613053884, Validation Loss: 0.4423823185039289\n",
      "Epoch 8/50, Training Loss: 0.45260445784976466, Validation Loss: 0.43988062396193994\n",
      "Epoch 9/50, Training Loss: 0.44568021220105297, Validation Loss: 0.44075270493825275\n",
      "Epoch 10/50, Training Loss: 0.45020561796108277, Validation Loss: 0.4435925113432335\n",
      "Epoch 11/50, Training Loss: 0.44471508241791763, Validation Loss: 0.43849309195171704\n",
      "Epoch 12/50, Training Loss: 0.44229153867896276, Validation Loss: 0.43821692647355975\n",
      "Epoch 13/50, Training Loss: 0.4378310903793073, Validation Loss: 0.43771049109372223\n",
      "Epoch 14/50, Training Loss: 0.4430565504172376, Validation Loss: 0.4373090953537912\n",
      "Epoch 15/50, Training Loss: 0.4432852843790564, Validation Loss: 0.43773913293173816\n",
      "Epoch 16/50, Training Loss: 0.43803280546464995, Validation Loss: 0.43746991952260333\n",
      "Epoch 17/50, Training Loss: 0.4385392345089949, Validation Loss: 0.4374878460710699\n",
      "Epoch 18/50, Training Loss: 0.44329502359601375, Validation Loss: 0.43739892677827313\n",
      "Epoch 19/50, Training Loss: 0.4403965334400876, Validation Loss: 0.4368666789748452\n",
      "Epoch 20/50, Training Loss: 0.43646080530326786, Validation Loss: 0.43677123568274756\n",
      "Epoch 21/50, Training Loss: 0.4337068559559247, Validation Loss: 0.4367982338775288\n",
      "Epoch 22/50, Training Loss: 0.43276065587997437, Validation Loss: 0.43679834857131494\n",
      "Epoch 23/50, Training Loss: 0.43947471371133817, Validation Loss: 0.4368383739933823\n",
      "Epoch 24/50, Training Loss: 0.4386236205810809, Validation Loss: 0.4368370699160027\n",
      "Epoch 25/50, Training Loss: 0.4403764853495678, Validation Loss: 0.43684781862027716\n",
      "Epoch 26/50, Training Loss: 0.4392408594375348, Validation Loss: 0.43686951019547204\n",
      "Epoch 27/50, Training Loss: 0.4379316115652332, Validation Loss: 0.4368802841865655\n",
      "Epoch 28/50, Training Loss: 0.4391902737490093, Validation Loss: 0.4368777618263707\n",
      "Epoch 29/50, Training Loss: 0.4347447322980138, Validation Loss: 0.43686192324667267\n",
      "Epoch 30/50, Training Loss: 0.4311908274206496, Validation Loss: 0.43686184467691364\n",
      "Epoch 31/50, Training Loss: 0.4376158650594813, Validation Loss: 0.4368641665487578\n",
      "Epoch 32/50, Training Loss: 0.43811816477593574, Validation Loss: 0.436864817684347\n",
      "Epoch 33/50, Training Loss: 0.4400880741709061, Validation Loss: 0.43686526652538415\n",
      "Epoch 34/50, Training Loss: 0.43877106176987857, Validation Loss: 0.436865637699763\n",
      "Epoch 35/50, Training Loss: 0.4409997959173363, Validation Loss: 0.4368649161223209\n",
      "Epoch 36/50, Training Loss: 0.4410490491463028, Validation Loss: 0.436867050149224\n",
      "Epoch 37/50, Training Loss: 0.4343498569863443, Validation Loss: 0.4368647345990846\n",
      "Epoch 38/50, Training Loss: 0.43942405613324115, Validation Loss: 0.4368622257853999\n",
      "Epoch 39/50, Training Loss: 0.43467230446466054, Validation Loss: 0.43686074018478394\n",
      "Epoch 40/50, Training Loss: 0.43496459085522715, Validation Loss: 0.43685721538283606\n",
      "Epoch 41/50, Training Loss: 0.44067446887493134, Validation Loss: 0.4368571476502852\n",
      "Epoch 42/50, Training Loss: 0.4405145606466832, Validation Loss: 0.4368572876308904\n",
      "Epoch 43/50, Training Loss: 0.43957113491669864, Validation Loss: 0.4368576001037251\n",
      "Epoch 44/50, Training Loss: 0.4399508865735003, Validation Loss: 0.43685714855338587\n",
      "Epoch 45/50, Training Loss: 0.4379339040690706, Validation Loss: 0.4368568469177593\n",
      "Epoch 46/50, Training Loss: 0.43718282821524235, Validation Loss: 0.43685701760378753\n",
      "Epoch 47/50, Training Loss: 0.4349707295648924, Validation Loss: 0.4368571006890499\n",
      "Epoch 48/50, Training Loss: 0.43449718670080634, Validation Loss: 0.4368570383751031\n",
      "Epoch 49/50, Training Loss: 0.4356865901073427, Validation Loss: 0.43685702753789496\n",
      "Epoch 50/50, Training Loss: 0.4330818630356825, Validation Loss: 0.4368566753286304\n",
      "Accuracy of the network on the test dataset: 81.12557427258805%\n"
     ]
    }
   ],
   "source": [
    "import torch\n",
    "import torch.nn as nn\n",
    "import torch.optim as optim\n",
    "from torch.utils.data import DataLoader, TensorDataset, random_split\n",
    "from torch.optim.lr_scheduler import StepLR\n",
    "import matplotlib.pyplot as plt\n",
    "\n",
    "\n",
    "# Convert data to PyTorch tensors, ensuring y_train and y_test are converted from pandas Series to numpy arrays first\n",
    "X_train_tensor = torch.tensor(X_train_scaled).float()\n",
    "y_train_tensor = torch.tensor(y_train.to_numpy()).long()  \n",
    "X_test_tensor = torch.tensor(X_test_scaled).float()\n",
    "y_test_tensor = torch.tensor(y_test.to_numpy()).long()\n",
    "\n",
    "# Creating Dataset and DataLoader\n",
    "train_dataset = TensorDataset(X_train_tensor, y_train_tensor)\n",
    "test_dataset = TensorDataset(X_test_tensor, y_test_tensor)\n",
    "\n",
    "# Splitting train dataset into train and validation sets\n",
    "train_size = int(0.8 * len(train_dataset))\n",
    "val_size = len(train_dataset) - train_size\n",
    "train_dataset, val_dataset = random_split(train_dataset, [train_size, val_size])\n",
    "\n",
    "batch_size = 64\n",
    "train_loader = DataLoader(train_dataset, batch_size=batch_size, shuffle=True)\n",
    "val_loader = DataLoader(val_dataset, batch_size=batch_size, shuffle=False)\n",
    "test_loader = DataLoader(test_dataset, batch_size=batch_size)\n",
    "\n",
    "# Neural Network Model with Dropout\n",
    "class FightPredictor(nn.Module):\n",
    "    def __init__(self):\n",
    "        super(FightPredictor, self).__init__()\n",
    "        self.fc1 = nn.Linear(X_train_scaled.shape[1], 128)\n",
    "        self.dropout1 = nn.Dropout(0.5)  # Adding dropout\n",
    "        self.fc2 = nn.Linear(128, 64)\n",
    "        self.dropout2 = nn.Dropout(0.5)  # Adding dropout\n",
    "        self.fc3 = nn.Linear(64, 2)\n",
    "\n",
    "    def forward(self, x):\n",
    "        x = torch.relu(self.fc1(x))\n",
    "        x = self.dropout1(x)\n",
    "        x = torch.relu(self.fc2(x))\n",
    "        x = self.dropout2(x)\n",
    "        x = self.fc3(x)\n",
    "        return x\n",
    "\n",
    "model = FightPredictor()\n",
    "\n",
    "# Loss and Optimizer\n",
    "criterion = nn.CrossEntropyLoss()\n",
    "optimizer = optim.Adam(model.parameters(), lr=0.001)\n",
    "\n",
    "# Learning Rate Scheduler\n",
    "scheduler = StepLR(optimizer, step_size=10, gamma=0.1)\n",
    "\n",
    "# Training with Early Stopping\n",
    "num_epochs = 50\n",
    "best_val_loss = float('inf')\n",
    "\n",
    "training_losses = []\n",
    "validation_losses = []\n",
    "\n",
    "for epoch in range(num_epochs):\n",
    "    model.train()  # Set model to training mode\n",
    "    running_loss = 0.0\n",
    "    \n",
    "    for inputs, labels in train_loader:\n",
    "        optimizer.zero_grad()\n",
    "        outputs = model(inputs)\n",
    "        loss = criterion(outputs, labels)\n",
    "        loss.backward()\n",
    "        optimizer.step()\n",
    "        running_loss += loss.item()\n",
    "    \n",
    "    training_loss = running_loss / len(train_loader)\n",
    "    training_losses.append(training_loss)\n",
    "\n",
    "    # Validation loss\n",
    "    model.eval()  # Set model to evaluation mode\n",
    "    val_loss = 0.0\n",
    "    with torch.no_grad():\n",
    "        for inputs, labels in val_loader:\n",
    "            outputs = model(inputs)\n",
    "            loss = criterion(outputs, labels)\n",
    "            val_loss += loss.item()\n",
    "\n",
    "    validation_loss = val_loss / len(val_loader)\n",
    "    validation_losses.append(validation_loss)\n",
    "    \n",
    "    if val_loss < best_val_loss:\n",
    "        best_val_loss = val_loss\n",
    "        # Save the best model\n",
    "        torch.save(model.state_dict(), 'best_model.pth')\n",
    "    \n",
    "    scheduler.step()  # Update learning rate\n",
    "    \n",
    "    print(f'Epoch {epoch+1}/{num_epochs}, Training Loss: {running_loss/len(train_loader)}, Validation Loss: {val_loss/len(val_loader)}')\n",
    "\n",
    "# Load the best model for testing\n",
    "model.load_state_dict(torch.load('best_model.pth'))\n",
    "\n",
    "# Evaluate the model\n",
    "model.eval()\n",
    "correct = 0\n",
    "total = 0\n",
    "with torch.no_grad():\n",
    "    for inputs, labels in test_loader:\n",
    "        outputs = model(inputs)\n",
    "        _, predicted = torch.max(outputs.data, 1)\n",
    "        total += labels.size(0)\n",
    "        correct += (predicted == labels).sum().item()\n",
    "\n",
    "print(f'Accuracy of the network on the test dataset: {100 * correct / total}%')\n"
   ]
  },
  {
   "cell_type": "code",
   "execution_count": 253,
   "id": "4f293f2e",
   "metadata": {},
   "outputs": [
    {
     "data": {
      "image/png": "[encoded data removed]",
      "text/plain": [
       "<Figure size 432x288 with 1 Axes>"
      ]
     },
     "metadata": {
      "needs_background": "light"
     },
     "output_type": "display_data"
    }
   ],
   "source": [
    "plt.plot(training_losses, label='Training Loss')\n",
    "plt.plot(validation_losses, label='Validation Loss')\n",
    "plt.xlabel('Epochs')\n",
    "plt.ylabel('Loss')\n",
    "plt.legend()\n",
    "plt.show()\n"
   ]
  }
 ],
 "metadata": {
  "kernelspec": {
   "display_name": "Python 3 (ipykernel)",
   "language": "python",
   "name": "python3"
  },
  "language_info": {
   "codemirror_mode": {
    "name": "ipython",
    "version": 3
   },
   "file_extension": ".py",
   "mimetype": "text/x-python",
   "name": "python",
   "nbconvert_exporter": "python",
   "pygments_lexer": "ipython3",
   "version": "3.10.12"
  }
 },
 "nbformat": 4,
 "nbformat_minor": 5
}
