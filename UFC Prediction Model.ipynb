{
 "cells": [
  {
   "cell_type": "code",
   "execution_count": 120,
   "id": "1908c404-f1a4-4b1f-af03-a89888c67535",
   "metadata": {},
   "outputs": [],
   "source": [
    "#Hello"
   ]
  },
  {
   "cell_type": "code",
   "execution_count": 140,
   "id": "5f59e507-e8df-425c-942f-fb16d0a44633",
   "metadata": {},
   "outputs": [],
   "source": [
    "import os\n",
    "import pandas as pd\n",
    "import torch\n",
    "from torch import nn\n",
    "from torch.utils.data import DataLoader\n",
    "from torchvision import datasets, transforms\n",
    "from datetime import datetime"
   ]
  },
  {
   "cell_type": "code",
   "execution_count": 145,
   "id": "8e0c4224-db85-4c30-a4cc-2c9601895b30",
   "metadata": {},
   "outputs": [
    {
     "name": "stdout",
     "output_type": "stream",
     "text": [
      "Using cuda device\n"
     ]
    }
   ],
   "source": [
    "device = (\n",
    "    \"cuda\"\n",
    "    if torch.cuda.is_available()\n",
    "    else \"mps\"\n",
    "    if torch.backends.mps.is_available()\n",
    "    else \"cpu\"\n",
    ")\n",
    "print(f\"Using {device} device\")"
   ]
  },
  {
   "cell_type": "markdown",
   "id": "d6ec8edb",
   "metadata": {},
   "source": [
    "Load Datasets"
   ]
  },
  {
   "cell_type": "code",
   "execution_count": 175,
   "id": "dad496fb-ba62-4ee8-af4c-f14940e81945",
   "metadata": {},
   "outputs": [],
   "source": [
    "#Load the fight data\n",
    "fight_stats_df = pd.read_csv('datasets/ufc_fighter_data.csv')\n",
    "\n",
    "#Load fight data\n",
    "fight_data_df = pd.read_csv('datasets/modified_ufc_fight_stat_data.csv')\n",
    "\n",
    "#Load fighter data \n",
    "fighter_data_df = pd.read_csv('datasets/ufc_fighter_data.csv')\n",
    "\n",
    "#Load event data\n",
    "event_data_df = pd.read_csv('datasets/ufc_event_data.csv')\n"
   ]
  },
  {
   "cell_type": "markdown",
   "id": "2708715e",
   "metadata": {},
   "source": [
    "Clean and Process Data"
   ]
  },
  {
   "cell_type": "code",
   "execution_count": 180,
   "id": "e3c5cf64",
   "metadata": {},
   "outputs": [
    {
     "name": "stdout",
     "output_type": "stream",
     "text": [
      "      fighter_id fighter_f_name fighter_l_name fighter_nickname  \\\n",
      "2           4105        Nariman        Abbasov        Bayraktar   \n",
      "4           4103          Hamdy     Abdelwahab       The Hammer   \n",
      "5           4102         Shamil   Abdurakhimov            Abrek   \n",
      "7           4100         Daichi            Abe              NaN   \n",
      "10          4097        Klidson          Abreu       White Bear   \n",
      "...          ...            ...            ...              ...   \n",
      "4094          13            Yao         Zhikui    The Conqueror   \n",
      "4095          12        Zhalgas     Zhumagulov              NaN   \n",
      "4096          11          Fares           Ziam     Smile Killer   \n",
      "4100           7            Cat        Zingano            Alpha   \n",
      "4105           2          Allan         Zuniga            Tigre   \n",
      "\n",
      "      fighter_height_cm  fighter_weight_lbs  fighter_reach_cm fighter_stance  \\\n",
      "2                172.72               155.0            167.64       Orthodox   \n",
      "4                187.96               264.0            182.88       Southpaw   \n",
      "5                190.50               235.0            193.04       Orthodox   \n",
      "7                180.34               170.0            180.34       Orthodox   \n",
      "10               182.88               205.0            187.96       Orthodox   \n",
      "...                 ...                 ...               ...            ...   \n",
      "4094             165.10               125.0            162.56       Orthodox   \n",
      "4095             162.56               125.0            167.64         Switch   \n",
      "4096             185.42               155.0            190.50       Orthodox   \n",
      "4100             167.64               145.0            172.72       Southpaw   \n",
      "4105             170.18               155.0            177.80       Orthodox   \n",
      "\n",
      "     fighter_dob  fighter_w  fighter_l  fighter_d  fighter_nc_dq  \\\n",
      "2     1994-02-01         28          4          0            NaN   \n",
      "4     1993-01-22          5          0          0            1.0   \n",
      "5     1981-09-02         20          8          0            NaN   \n",
      "7     1991-11-27          6          2          0            NaN   \n",
      "10    1992-12-24         15          4          0            1.0   \n",
      "...          ...        ...        ...        ...            ...   \n",
      "4094  1991-02-07          2          4          0            NaN   \n",
      "4095  1988-08-29         14          9          0            NaN   \n",
      "4096  1997-03-21         14          4          0            NaN   \n",
      "4100  1982-07-01         10          4          0            NaN   \n",
      "4105  1992-04-04         13          1          0            NaN   \n",
      "\n",
      "                                            fighter_url  \n",
      "2     http://ufcstats.com/fighter-details/59a9d6dac6...  \n",
      "4     http://ufcstats.com/fighter-details/3329d692ae...  \n",
      "5     http://ufcstats.com/fighter-details/2f5cbecbbe...  \n",
      "7     http://ufcstats.com/fighter-details/5140122c3e...  \n",
      "10    http://ufcstats.com/fighter-details/7279654c76...  \n",
      "...                                                 ...  \n",
      "4094  http://ufcstats.com/fighter-details/5ea918ea81...  \n",
      "4095  http://ufcstats.com/fighter-details/55fa6ce3e5...  \n",
      "4096  http://ufcstats.com/fighter-details/1e4f273069...  \n",
      "4100  http://ufcstats.com/fighter-details/3ecd936bd8...  \n",
      "4105  http://ufcstats.com/fighter-details/523af801b3...  \n",
      "\n",
      "[2148 rows x 14 columns]\n"
     ]
    }
   ],
   "source": [
    "#Convert data columns to datetime format\n",
    "fighter_data_df['fighter_dob'] = pd.to_datetime(fighter_data_df['fighter_dob'])\n",
    "\n",
    "#Handle Missing Value, if any\n",
    "fight_stats_df = fight_stats_df.dropna(subset=['fighter_id', 'fighter_height_cm', 'fighter_reach_cm'])\n",
    "# fight_data_df = fight_data_df.dropna(subset=['fight_id', 'f_1', 'f_2', 'winner'])\n",
    "fighter_data_df = fighter_data_df.dropna(subset=['fighter_id', 'fighter_reach_cm', 'fighter_height_cm', 'fighter_stance'])\n",
    "event_data_df = event_data_df.dropna(subset=['event_id'])\n",
    "\n",
    "#Encode categorical variables (if needed)\n",
    "# fighter_data_df['fighter_stance'] = fighter_data_df['fighter_stance'].map({'Orthodox': 0, 'Southpaw': 1, 'Switch': 2})\n",
    "\n",
    "print(fighter_data_df)\n",
    "\n"
   ]
  },
  {
   "cell_type": "markdown",
   "id": "66d5c72e",
   "metadata": {},
   "source": [
    "Merge Datasets"
   ]
  },
  {
   "cell_type": "code",
   "execution_count": 184,
   "id": "a0d768d8",
   "metadata": {},
   "outputs": [],
   "source": [
    "merged_df = pd.merge(fight_stats_df, fight_data_df, how='inner', on='fighter_id')\n",
    "merged_df = pd.merge(merged_df, fighter_data_df, how='inner', on='fighter_id')\n",
    "# merged_df = pd.merge(merged_df, event_data_df, how='inner', on='event_id')\n",
    "\n"
   ]
  },
  {
   "cell_type": "code",
   "execution_count": null,
   "id": "246a5e6c",
   "metadata": {},
   "outputs": [],
   "source": []
  }
 ],
 "metadata": {
  "kernelspec": {
   "display_name": "Python 3 (ipykernel)",
   "language": "python",
   "name": "python3"
  },
  "language_info": {
   "codemirror_mode": {
    "name": "ipython",
    "version": 3
   },
   "file_extension": ".py",
   "mimetype": "text/x-python",
   "name": "python",
   "nbconvert_exporter": "python",
   "pygments_lexer": "ipython3",
   "version": "3.10.12"
  }
 },
 "nbformat": 4,
 "nbformat_minor": 5
}
