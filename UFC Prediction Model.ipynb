{
 "cells": [
  {
   "cell_type": "code",
   "execution_count": 550,
   "id": "1908c404-f1a4-4b1f-af03-a89888c67535",
   "metadata": {},
   "outputs": [],
   "source": [
    "#Hello"
   ]
  },
  {
   "cell_type": "code",
   "execution_count": 551,
   "id": "5f59e507-e8df-425c-942f-fb16d0a44633",
   "metadata": {},
   "outputs": [],
   "source": [
    "import os\n",
    "import pandas as pd\n",
    "from torch.utils.data import DataLoader\n",
    "from datetime import datetime"
   ]
  },
  {
   "cell_type": "markdown",
   "id": "d6ec8edb",
   "metadata": {},
   "source": [
    "Load Datasets"
   ]
  },
  {
   "cell_type": "code",
   "execution_count": 552,
   "id": "dad496fb-ba62-4ee8-af4c-f14940e81945",
   "metadata": {},
   "outputs": [
    {
     "name": "stdout",
     "output_type": "stream",
     "text": [
      "Index(['fighter_id', 'fighter_f_name', 'fighter_l_name', 'fighter_nickname',\n",
      "       'fighter_height_cm', 'fighter_weight_lbs', 'fighter_reach_cm',\n",
      "       'fighter_stance', 'fighter_dob', 'fighter_w', 'fighter_l', 'fighter_d',\n",
      "       'fighter_nc_dq', 'fighter_url'],\n",
      "      dtype='object')\n"
     ]
    }
   ],
   "source": [
    "#Load the fight data\n",
    "fight_stats_df = pd.read_csv('datasets/ufc_fight_stat_data.csv')\n",
    "\n",
    "#Load fight data\n",
    "fight_data_df = pd.read_csv('datasets/ufc_fight_data.csv')\n",
    "\n",
    "#Load fighter data \n",
    "fighter_data_df = pd.read_csv('datasets/ufc_fighter_data.csv')\n",
    "\n",
    "#Load event data\n",
    "event_data_df = pd.read_csv('datasets/ufc_event_data.csv')\n",
    "\n",
    "print(fighter_data_df.columns)"
   ]
  },
  {
   "cell_type": "markdown",
   "id": "2708715e",
   "metadata": {},
   "source": [
    "Clean and Process Data"
   ]
  },
  {
   "cell_type": "code",
   "execution_count": 553,
   "id": "e3c5cf64",
   "metadata": {},
   "outputs": [],
   "source": [
    "#Convert data columns to datetime format\n",
    "fighter_data_df['fighter_dob'] = pd.to_datetime(fighter_data_df['fighter_dob'])\n",
    "\n",
    "#Handle Missing Value, if any\n",
    "fight_stats_df = fight_stats_df.dropna(subset=['fighter_id', 'ctrl_time'])\n",
    "fight_data_df = fight_data_df.dropna(subset=['fight_id', 'f_1', 'f_2', 'winner', 'num_rounds'])\n",
    "fighter_data_df = fighter_data_df.dropna(subset=['fighter_id', 'fighter_reach_cm', 'fighter_height_cm', 'fighter_stance', 'fighter_dob'])\n",
    "\n",
    "fighter_data_df['fighter_nc_dq'] = fighter_data_df['fighter_nc_dq'].fillna(0)\n",
    "fighter_data_df['fighter_stance'] = fighter_data_df['fighter_stance'].fillna(0)\n",
    "\n",
    "event_data_df = event_data_df.dropna(subset=['event_id'])\n",
    "\n",
    "#Encode categorical variables (if needed)\n",
    "fighter_data_df['fighter_stance'] = fighter_data_df['fighter_stance'].map({'Orthodox': 0, 'Southpaw': 1, 'Switch': 2})\n",
    "\n"
   ]
  },
  {
   "cell_type": "markdown",
   "id": "66d5c72e",
   "metadata": {},
   "source": [
    "Merge Datasets"
   ]
  },
  {
   "cell_type": "code",
   "execution_count": 554,
   "id": "a0d768d8",
   "metadata": {},
   "outputs": [],
   "source": [
    "    \n",
    "merged_df = pd.merge(fight_stats_df, fight_data_df, how='inner', on='fight_id')\n",
    "merged_df = pd.merge(merged_df, fighter_data_df, how='inner', on='fighter_id')\n",
    "# merged_df = pd.merge(merged_df, event_data_df, how='inner', on='event_id')\n",
    "\n",
    "merged_df.to_csv('Andres.csv', index=False)"
   ]
  },
  {
   "cell_type": "markdown",
   "id": "626c8a5c",
   "metadata": {},
   "source": [
    "Cleaning"
   ]
  },
  {
   "cell_type": "code",
   "execution_count": 555,
   "id": "4be13256",
   "metadata": {},
   "outputs": [],
   "source": [
    "# Convert ctrl_time from minute format to seconds\n",
    "def time_to_seconds(time_str):\n",
    "    if time_str == '--':\n",
    "        return None  # or any other suitable value, like np.nan\n",
    "    else:\n",
    "        minutes, seconds = map(int, time_str.split(':'))\n",
    "        return minutes * 60 + seconds\n",
    "    \n",
    "merged_df['ctrl_time'] = merged_df['ctrl_time'].apply(time_to_seconds)\n",
    "merged_df['finish_time'] = merged_df['finish_time'].apply(time_to_seconds)\n",
    "\n",
    "#Convert each column to unique ID\n",
    "merged_df['referee'] = pd.factorize(merged_df['referee'])[0]\n",
    "# merged_df['event_city'] = pd.factorize(merged_df['event_city'])[0]\n",
    "# merged_df['event_state'] = pd.factorize(merged_df['event_state'])[0]\n",
    "# merged_df['event_country'] = pd.factorize(merged_df['event_country'])[0]\n",
    "merged_df['result_details'] = pd.factorize(merged_df['result_details'])[0]\n",
    "merged_df['title_fight'] = pd.factorize(merged_df['title_fight'])[0]\n",
    "merged_df['weight_class'] = pd.factorize(merged_df['weight_class'])[0]\n",
    "merged_df['gender'] = pd.factorize(merged_df['gender'])[0]\n",
    "merged_df['result'] = pd.factorize(merged_df['result'])[0]\n",
    "\n",
    "# NOTE: add column that contains value age at the event date\n",
    "\n",
    "# Convert num_rounds to int\n",
    "merged_df['num_rounds'] = pd.to_numeric(merged_df['num_rounds'], errors='coerce')\n",
    "\n",
    "\n",
    "# Convert dob to age in years at the date of 3/25/2024\n",
    "hard_coded_datetime = datetime(2024, 3, 25)\n",
    "merged_df['fighter_dob'] = (hard_coded_datetime.date() - pd.to_datetime(merged_df['fighter_dob']).dt.date).apply(lambda x: x.days / 365.25)\n",
    "\n",
    "\n",
    "# List of columns to drop (temp drop 'event_date' *add later*)\n",
    "\n",
    "# Removed 'fight_id (, 'fight_id')\n",
    "\n",
    "cols_to_drop = ['fight_url_x', 'fighter_url', 'fight_url_x', 'fight_url_y', \n",
    "                'fighter_url','fighter_nickname', 'fighter_l_name', \n",
    "                'fighter_f_name', 'finish_round','result_details'\n",
    "                ]\n",
    "\n",
    "# Drop the specified columns\n",
    "merged_df = merged_df.drop(columns=cols_to_drop)\n",
    "\n",
    "merged_df.sort_values(by=[\"fighter_id\", 'fight_stat_id'], ascending=[True, True], inplace=True)\n",
    "merged_df.to_csv('Andres(2).csv', index=False)\n"
   ]
  },
  {
   "cell_type": "code",
   "execution_count": 556,
   "id": "64e0c8bb",
   "metadata": {},
   "outputs": [],
   "source": [
    "# data = pd.read_csv('Andres.csv')\n",
    "# df = pd.DataFrame(data)\n",
    "\n",
    "# result = pd.DataFrame()\n",
    "\n",
    "# for fight_id in df['fight_id'].unique():\n",
    "#     fight_df = df[df['fight_id'] == fight_id]\n",
    "#     if len(fight_df) == 2:\n",
    "#         base = fight_df.iloc[0].copy()\n",
    "#         additional = fight_df.iloc[1]\n",
    "        \n",
    "#         # Adding new columns with 'f_2_' prefix from the second row\n",
    "#         for col in fight_df.columns:\n",
    "#             base[f'f_2_{col}'] = additional[col]\n",
    "            \n",
    "#         result = pd.concat([result, base.to_frame().T], ignore_index=True)\n",
    "#     else:\n",
    "#         result = pd.concat([result, fight_df], ignore_index=True)\n",
    "\n",
    "# # Reordering columns if necessary and cleaning up the DataFrame\n",
    "# result.reset_index(drop=True, inplace=True)\n",
    "\n",
    "# merged_df = result\n",
    "# merged_df.to_csv('Andres.csv', index=False)\n"
   ]
  },
  {
   "cell_type": "code",
   "execution_count": 557,
   "id": "fa08766b",
   "metadata": {},
   "outputs": [],
   "source": [
    "# cols_to_drop = ['f_2_result', 'f_2_title_fight', 'f_2_num_rounds',\n",
    "#                 'f_2_event_id', 'f_2_fight_stat_id', 'f_2_f_2', 'f_2_f_2',\n",
    "#                 'f_2_referee', 'f_2_f_1', 'f_2_winner', 'f_2_weight_class'\n",
    "# ]\n",
    "\n",
    "# merged_df = merged_df.drop(columns=cols_to_drop)\n",
    "# print(merged_df.columns)\n",
    "# merged_df.to_csv('Andres.csv', index=False)"
   ]
  },
  {
   "cell_type": "markdown",
   "id": "f80b383e",
   "metadata": {},
   "source": [
    "Create Cumulative Columns for Fighter 1"
   ]
  },
  {
   "cell_type": "code",
   "execution_count": 558,
   "id": "a9beb051",
   "metadata": {},
   "outputs": [
    {
     "name": "stdout",
     "output_type": "stream",
     "text": [
      "Index(['fight_stat_id', 'fight_id', 'fighter_id', 'knockdowns',\n",
      "       'total_strikes_att', 'total_strikes_succ', 'sig_strikes_att',\n",
      "       'sig_strikes_succ', 'takedown_att', 'takedown_succ', 'submission_att',\n",
      "       'reversals', 'ctrl_time', 'event_id', 'referee', 'f_1', 'f_2', 'winner',\n",
      "       'num_rounds', 'title_fight', 'weight_class', 'gender', 'result',\n",
      "       'finish_time', 'fighter_height_cm', 'fighter_weight_lbs',\n",
      "       'fighter_reach_cm', 'fighter_stance', 'fighter_dob', 'fighter_w',\n",
      "       'fighter_l', 'fighter_d', 'fighter_nc_dq', 'cumulative_ctrl_time',\n",
      "       'cumulative_reversals', 'cumulative_submission_att',\n",
      "       'cumulative_takedown_succ', 'cumulative_takedown_att',\n",
      "       'cumulative_sig_strikes_att', 'cumulative_total_strikes_succ',\n",
      "       'cumulative_total_strikes_att', 'cumulative_knockdowns',\n",
      "       'avg_finish_time'],\n",
      "      dtype='object')\n"
     ]
    }
   ],
   "source": [
    "#create cumulative column for ctrl_time\n",
    "\n",
    "merged_df.sort_values(by=[\"fighter_id\", 'fight_stat_id'], ascending=[True, True], inplace=True)\n",
    "merged_df[\"cumulative_ctrl_time\"] = merged_df.groupby(\"fighter_id\")[\"ctrl_time\"].cumsum()\n",
    "\n",
    "# Cumulative for reversals\n",
    "merged_df[\"cumulative_reversals\"] = merged_df.groupby(\"fighter_id\")[\"reversals\"].cumsum()\n",
    "\n",
    "# for submission attempts\n",
    "merged_df[\"cumulative_submission_att\"] = merged_df.groupby(\"fighter_id\")[\"submission_att\"].cumsum()\n",
    "\n",
    "# for takedown succession\n",
    "merged_df[\"cumulative_takedown_succ\"] = merged_df.groupby(\"fighter_id\")[\"takedown_succ\"].cumsum()\n",
    "\n",
    "# for takedown attmepts \n",
    "merged_df[\"cumulative_takedown_att\"] = merged_df.groupby(\"fighter_id\")[\"takedown_att\"].cumsum()\n",
    "\n",
    "# for significant strike succession\n",
    "merged_df[\"cumulative_sig_strikes_att\"] = merged_df.groupby(\"fighter_id\")[\"sig_strikes_att\"].cumsum()\n",
    "\n",
    "# for total strikes succession\n",
    "merged_df[\"cumulative_total_strikes_succ\"] = merged_df.groupby(\"fighter_id\")[\"total_strikes_succ\"].cumsum()\n",
    "\n",
    "# for total strikes ATTEMPTS\n",
    "merged_df[\"cumulative_total_strikes_att\"] = merged_df.groupby(\"fighter_id\")[\"total_strikes_att\"].cumsum()\n",
    "\n",
    "# for knockdowns\n",
    "merged_df[\"cumulative_knockdowns\"] = merged_df.groupby(\"fighter_id\")[\"knockdowns\"].cumsum()\n",
    "\n",
    "# AVG finish Time\n",
    "merged_df['avg_finish_time'] = merged_df.groupby('fighter_id')['finish_time'].transform(lambda x: x.expanding().mean())\n",
    "\n",
    "\n",
    "# merged_df = pd.read_csv('final_set.csv')\n",
    "\n",
    "print(merged_df.columns)\n",
    "# print(\"num of columns\" , merged_df.shape[1])\n",
    "# print(merged_df['finish_time'])\n",
    "\n",
    "merged_df.to_csv('Andres(2).csv', index=False)\n"
   ]
  },
  {
   "cell_type": "markdown",
   "id": "2dca4ff2",
   "metadata": {},
   "source": [
    "Create Cumulative Columns for Fighter 2"
   ]
  },
  {
   "cell_type": "code",
   "execution_count": 559,
   "id": "d07b62fc",
   "metadata": {},
   "outputs": [],
   "source": [
    "# # merged_df.sort_values(by=[\"fighter_id\", 'fight_stat_id'], ascending=[True, True], inplace=True)\n",
    "# merged_df[\"f_2_cumulative_ctrl_time\"] = merged_df.groupby(\"f_2\")[\"f_2_ctrl_time\"].cumsum()\n",
    "\n",
    "# # Cumulative for reversals\n",
    "# merged_df[\"f_2_cumulative_reversals\"] = merged_df.groupby(\"f_2\")[\"f_2_reversals\"].cumsum()\n",
    "\n",
    "# # for submission attempts\n",
    "# merged_df[\"f_2_cumulative_submission_att\"] = merged_df.groupby(\"f_2\")[\"f_2_submission_att\"].cumsum()\n",
    "\n",
    "# # for takedown succession\n",
    "# merged_df[\"f_2_cumulative_takedown_succ\"] = merged_df.groupby(\"f_2\")[\"f_2_takedown_succ\"].cumsum()\n",
    "\n",
    "# # for takedown attmepts \n",
    "# merged_df[\"f_2_cumulative_takedown_att\"] = merged_df.groupby(\"f_2\")[\"f_2_takedown_att\"].cumsum()\n",
    "\n",
    "# # for significant strike succession\n",
    "# merged_df[\"f_2_cumulative_sig_strikes_att\"] = merged_df.groupby(\"f_2\")[\"f_2_sig_strikes_att\"].cumsum()\n",
    "\n",
    "# # for total strikes succession\n",
    "# merged_df[\"f_2_cumulative_total_strikes_succ\"] = merged_df.groupby(\"f_2\")[\"f_2_total_strikes_succ\"].cumsum()\n",
    "\n",
    "# # for total strikes ATTEMPTS\n",
    "# merged_df[\"f_2_cumulative_total_strikes_att\"] = merged_df.groupby(\"f_2\")[\"f_2_total_strikes_att\"].cumsum()\n",
    "\n",
    "# # for knockdowns\n",
    "# merged_df[\"f_2_cumulative_knockdowns\"] = merged_df.groupby(\"f_2\")[\"f_2_knockdowns\"].cumsum()\n",
    "\n",
    "# # AVG finish Time\n",
    "# merged_df['f_2_avg_finish_time'] = merged_df.groupby('f_2')['f_2_finish_time'].transform(lambda x: x.expanding().mean())\n",
    "\n",
    "# merged_df.to_csv('Andres.csv', index=False)\n",
    "# print(merged_df.columns)"
   ]
  },
  {
   "cell_type": "code",
   "execution_count": 560,
   "id": "3201a9be",
   "metadata": {},
   "outputs": [],
   "source": [
    "merged_df.sort_values(by=[\"fight_id\", 'fight_stat_id'], ascending=[True, True], inplace=True)\n",
    "merged_df.to_csv('Andres(2).csv', index=False)\n"
   ]
  },
  {
   "cell_type": "markdown",
   "id": "fcb614d1",
   "metadata": {},
   "source": [
    "Remove original numeric stats"
   ]
  },
  {
   "cell_type": "code",
   "execution_count": 561,
   "id": "59e68e1a",
   "metadata": {},
   "outputs": [],
   "source": [
    "# # Need to remove original numeric stats because they are independent and would be hard to implement when creating features for model\n",
    "temp_df = pd.read_csv('final_set.csv')\n",
    "\n",
    "drop_cols = ['knockdowns', 'total_strikes_att', 'total_strikes_succ',\n",
    "            'sig_strikes_att', 'sig_strikes_succ', 'takedown_att',\n",
    "            'takedown_succ', 'submission_att', 'reversals', 'ctrl_time',\n",
    "            'event_id', 'result', 'finish_time'\n",
    "            ]\n",
    "temp_df = merged_df.drop(columns=drop_cols)\n",
    "temp_df = temp_df.iloc[:11000]\n",
    "temp_df.sort_values(by=[\"fighter_id\", 'fight_stat_id'], ascending=[True, True], inplace=True)\n",
    "temp_df.to_csv('Andres.csv', index=False)"
   ]
  },
  {
   "cell_type": "code",
   "execution_count": 564,
   "id": "e4dc258a",
   "metadata": {},
   "outputs": [],
   "source": [
    "data = pd.read_csv('Andres(2).csv')\n",
    "df = pd.DataFrame(data)\n",
    "\n",
    "\n",
    "# Ensure the DataFrame is sorted by 'fight_id' and then by 'fight_stat_id' if necessary\n",
    "df.sort_values(by=['fight_id', 'fight_stat_id'], inplace=True)\n",
    "\n",
    "# Split the DataFrame into two: one for each row in the duplicate pairs\n",
    "first_rows = df.iloc[::2, :].reset_index(drop=True)\n",
    "second_rows = df.iloc[1::2, :].reset_index(drop=True)\n",
    "\n",
    "# Rename the columns of the second DataFrame to have 'f_2_' prefix\n",
    "second_rows.columns = ['f_2_' + col for col in second_rows.columns]\n",
    "\n",
    "# Concatenate the two DataFrames horizontally\n",
    "merged_df = pd.concat([first_rows, second_rows], axis=1)\n",
    "\n",
    "# Optionally, save the result to a new CSV\n",
    "merged_df.to_csv('optimized_merged_fights.csv', index=False)\n",
    "\n",
    "merged_df.sort_values(by=[\"fighter_id\", 'fight_stat_id'], ascending=[True, True], inplace=True)\n",
    "merged_df.to_csv('Andres(3).csv', index=False)\n"
   ]
  },
  {
   "cell_type": "markdown",
   "id": "8d0a9770",
   "metadata": {},
   "source": [
    "Random Forest Algo"
   ]
  },
  {
   "cell_type": "code",
   "execution_count": null,
   "id": "76efda33",
   "metadata": {},
   "outputs": [
    {
     "name": "stdout",
     "output_type": "stream",
     "text": [
      "Accuracy: 0.6205211726384365\n"
     ]
    }
   ],
   "source": [
    "import pandas as pd\n",
    "from sklearn.model_selection import train_test_split\n",
    "from sklearn.preprocessing import StandardScaler\n",
    "from sklearn.ensemble import RandomForestClassifier\n",
    "from sklearn.metrics import accuracy_score\n",
    "\n",
    "merged_df = pd.read_csv('Andres.csv')\n",
    "data = merged_df\n",
    "df = pd.DataFrame(data)\n",
    "\n",
    "# Creating a binary target variable indicating whether the fighter won or not.\n",
    "df['is_winner'] = df['fighter_id'] == df['winner']\n",
    "\n",
    "# Selecting features for the model\n",
    "features = [\n",
    "    \"f_1\",\"f_2\",\"num_rounds\", \"title_fight\", \"weight_class\", \"gender\", \n",
    "    \"fighter_height_cm\", \"fighter_weight_lbs\", \"fighter_reach_cm\", \n",
    "    \"fighter_stance\", \"fighter_dob\",\"fighter_w\", \"fighter_l\", \"fighter_d\", \"fighter_nc_dq\",\n",
    "    'cumulative_ctrl_time', 'cumulative_reversals', 'cumulative_submission_att', \n",
    "    'cumulative_takedown_succ', 'cumulative_takedown_att', 'cumulative_sig_strikes_att',\n",
    "    'cumulative_total_strikes_succ', 'cumulative_total_strikes_att', 'cumulative_knockdowns',\n",
    "    'avg_finish_time'\n",
    "]\n",
    "X = df[features]\n",
    "y = df['is_winner']\n",
    "\n",
    "# Splitting the dataset into training and testing sets\n",
    "X_train, X_test, y_train, y_test = train_test_split(X, y, test_size=0.2, random_state=42)\n",
    "\n",
    "# Normalizing the feature set\n",
    "scaler = StandardScaler()\n",
    "X_train_scaled = scaler.fit_transform(X_train)\n",
    "X_test_scaled = scaler.transform(X_test)\n",
    "\n",
    "# Training a Random Forest Classifier\n",
    "clf = RandomForestClassifier(n_estimators=100, random_state=42)\n",
    "clf.fit(X_train_scaled, y_train)\n",
    "\n",
    "# Predicting and evaluating the model\n",
    "y_pred = clf.predict(X_test_scaled)\n",
    "accuracy = accuracy_score(y_test, y_pred)\n",
    "\n",
    "# Print the accuracy\n",
    "print(\"Accuracy:\", accuracy)"
   ]
  },
  {
   "cell_type": "markdown",
   "id": "40b93089",
   "metadata": {},
   "source": [
    "Preprocessing for Neural Network"
   ]
  },
  {
   "cell_type": "code",
   "execution_count": null,
   "id": "d27ede16",
   "metadata": {},
   "outputs": [],
   "source": [
    "import numpy as np\n",
    "import pandas as pd\n",
    "\n",
    "#X_train_scaled is a numpy array; convert it to a DataFrame for easier manipulation\n",
    "df_train_features = pd.DataFrame(X_train_scaled)\n",
    "\n",
    "# Handling NaN values by imputation\n",
    "df_train_features.fillna(df_train_features.mean(), inplace=True)\n",
    "\n",
    "# Handling infinite values by replacing them with NaN and then imputing\n",
    "df_train_features.replace([np.inf, -np.inf], np.nan, inplace=True)\n",
    "df_train_features.fillna(df_train_features.mean(), inplace=True)\n",
    "\n",
    "# Convert back to numpy array if necessary\n",
    "X_train_scaled_clean = df_train_features.to_numpy()\n"
   ]
  },
  {
   "cell_type": "markdown",
   "id": "d5e7f7a4",
   "metadata": {},
   "source": [
    "Check for NaNs or infinite values in numpy\n"
   ]
  },
  {
   "cell_type": "code",
   "execution_count": null,
   "id": "13a9a6b6",
   "metadata": {},
   "outputs": [],
   "source": [
    "# Example check for NaNs or infinite values in numpy\n",
    "import numpy as np\n",
    "\n",
    "# Assuming X_train_scaled is a numpy array\n",
    "if np.isnan(X_train_scaled).any() or np.isinf(X_train_scaled).any():\n",
    "    print(\"Training features contain NaN or infinite values.\")\n",
    "if np.isnan(y_train.values).any():\n",
    "    print(\"Training labels contain NaN values.\")\n",
    "    "
   ]
  },
  {
   "cell_type": "markdown",
   "id": "94688e60",
   "metadata": {},
   "source": [
    "Neural Network"
   ]
  },
  {
   "cell_type": "code",
   "execution_count": null,
   "id": "441042e7",
   "metadata": {},
   "outputs": [
    {
     "name": "stdout",
     "output_type": "stream",
     "text": [
      "Epoch 1/70, Training Loss: 0.6897732019424438, Validation Loss: 0.6567027270793915\n",
      "Epoch 2/70, Training Loss: 0.6655735613838318, Validation Loss: 0.640634573996067\n",
      "Epoch 3/70, Training Loss: 0.664300472505631, Validation Loss: 0.6407044306397438\n",
      "Epoch 4/70, Training Loss: 0.6550684763539222, Validation Loss: 0.6555258221924305\n",
      "Epoch 5/70, Training Loss: 0.6576034945826377, Validation Loss: 0.6622503101825714\n",
      "Epoch 6/70, Training Loss: 0.6633088329145985, Validation Loss: 0.6431906446814537\n",
      "Epoch 7/70, Training Loss: 0.6518995646507509, Validation Loss: 0.631342738866806\n",
      "Epoch 8/70, Training Loss: 0.6499254722749034, Validation Loss: 0.6293698027729988\n",
      "Epoch 9/70, Training Loss: 0.6451850581553674, Validation Loss: 0.6314225569367409\n",
      "Epoch 10/70, Training Loss: 0.6563736690628913, Validation Loss: 0.6350666210055351\n",
      "Epoch 11/70, Training Loss: 0.6335741021940785, Validation Loss: 0.6260853223502636\n",
      "Epoch 12/70, Training Loss: 0.6325658021434661, Validation Loss: 0.623433630913496\n",
      "Epoch 13/70, Training Loss: 0.6271416689119031, Validation Loss: 0.624638956040144\n",
      "Epoch 14/70, Training Loss: 0.6195314766899231, Validation Loss: 0.6227434203028679\n",
      "Epoch 15/70, Training Loss: 0.6180654408470276, Validation Loss: 0.6214621365070343\n",
      "Epoch 16/70, Training Loss: 0.6244267186810893, Validation Loss: 0.6221120990812778\n",
      "Epoch 17/70, Training Loss: 0.6188970506191254, Validation Loss: 0.6214446760714054\n",
      "Epoch 18/70, Training Loss: 0.6222367469341524, Validation Loss: 0.6204048581421375\n",
      "Epoch 19/70, Training Loss: 0.6135629367443823, Validation Loss: 0.6218278221786022\n",
      "Epoch 20/70, Training Loss: 0.6111441062342736, Validation Loss: 0.6168736182153225\n",
      "Epoch 21/70, Training Loss: 0.6122317915001223, Validation Loss: 0.6172224394977093\n",
      "Epoch 22/70, Training Loss: 0.6091488801663921, Validation Loss: 0.6174200847744942\n",
      "Epoch 23/70, Training Loss: 0.6175480619553597, Validation Loss: 0.6176147051155567\n",
      "Epoch 24/70, Training Loss: 0.6170931338302551, Validation Loss: 0.6179959662258625\n",
      "Epoch 25/70, Training Loss: 0.6164946075408689, Validation Loss: 0.6181761026382446\n",
      "Epoch 26/70, Training Loss: 0.6081398715895991, Validation Loss: 0.6181981489062309\n",
      "Epoch 27/70, Training Loss: 0.6059380216944602, Validation Loss: 0.6178372427821159\n",
      "Epoch 28/70, Training Loss: 0.6161673770796868, Validation Loss: 0.6180466040968895\n",
      "Epoch 29/70, Training Loss: 0.6103627777868702, Validation Loss: 0.6183690428733826\n",
      "Epoch 30/70, Training Loss: 0.6118934635193117, Validation Loss: 0.6183081567287445\n",
      "Epoch 31/70, Training Loss: 0.6095440772271925, Validation Loss: 0.618307214230299\n",
      "Epoch 32/70, Training Loss: 0.6143243630086223, Validation Loss: 0.61829624325037\n",
      "Epoch 33/70, Training Loss: 0.6102932662733139, Validation Loss: 0.6182885803282261\n",
      "Epoch 34/70, Training Loss: 0.6128878305035252, Validation Loss: 0.6182953491806984\n",
      "Epoch 35/70, Training Loss: 0.6082825256932166, Validation Loss: 0.6182798855006695\n",
      "Epoch 36/70, Training Loss: 0.612048170258922, Validation Loss: 0.6182738058269024\n",
      "Epoch 37/70, Training Loss: 0.6107130723614846, Validation Loss: 0.6182505711913109\n",
      "Epoch 38/70, Training Loss: 0.6104689807661118, Validation Loss: 0.6182570084929466\n",
      "Epoch 39/70, Training Loss: 0.6081901019619357, Validation Loss: 0.6182314492762089\n",
      "Epoch 40/70, Training Loss: 0.6107200081309965, Validation Loss: 0.6182305552065372\n",
      "Epoch 41/70, Training Loss: 0.6095466027336736, Validation Loss: 0.6182291842997074\n",
      "Epoch 42/70, Training Loss: 0.6077640556520031, Validation Loss: 0.6182280294597149\n",
      "Epoch 43/70, Training Loss: 0.6110260880762531, Validation Loss: 0.6182235144078732\n",
      "Epoch 44/70, Training Loss: 0.6071262917210979, Validation Loss: 0.6182207092642784\n",
      "Epoch 45/70, Training Loss: 0.6147545768368629, Validation Loss: 0.618221141397953\n",
      "Epoch 46/70, Training Loss: 0.61088587199488, Validation Loss: 0.6182237304747105\n",
      "Epoch 47/70, Training Loss: 0.6102414991586439, Validation Loss: 0.6182219684123993\n",
      "Epoch 48/70, Training Loss: 0.6063167135561666, Validation Loss: 0.6182192042469978\n",
      "Epoch 49/70, Training Loss: 0.6126954632420694, Validation Loss: 0.6182199455797672\n",
      "Epoch 50/70, Training Loss: 0.6077668291907157, Validation Loss: 0.6182175688445568\n",
      "Epoch 51/70, Training Loss: 0.6093182453224736, Validation Loss: 0.6182174198329449\n",
      "Epoch 52/70, Training Loss: 0.6078957107759291, Validation Loss: 0.6182172521948814\n",
      "Epoch 53/70, Training Loss: 0.6156092641815063, Validation Loss: 0.6182174608111382\n",
      "Epoch 54/70, Training Loss: 0.6110791189055289, Validation Loss: 0.6182171702384949\n",
      "Epoch 55/70, Training Loss: 0.614679753780365, Validation Loss: 0.6182177737355232\n",
      "Epoch 56/70, Training Loss: 0.6123065765826933, Validation Loss: 0.6182173527777195\n",
      "Epoch 57/70, Training Loss: 0.6120968230309025, Validation Loss: 0.6182173751294613\n",
      "Epoch 58/70, Training Loss: 0.6082550700633756, Validation Loss: 0.618217334151268\n",
      "Epoch 59/70, Training Loss: 0.6214264102520481, Validation Loss: 0.6182173453271389\n",
      "Epoch 60/70, Training Loss: 0.6136227298167444, Validation Loss: 0.6182172819972038\n",
      "Epoch 61/70, Training Loss: 0.6133546271631795, Validation Loss: 0.6182173043489456\n",
      "Epoch 62/70, Training Loss: 0.608252526290955, Validation Loss: 0.6182173006236553\n",
      "Epoch 63/70, Training Loss: 0.6022045439289462, Validation Loss: 0.6182172894477844\n",
      "Epoch 64/70, Training Loss: 0.6053760753523919, Validation Loss: 0.6182172745466232\n",
      "Epoch 65/70, Training Loss: 0.6044917635379299, Validation Loss: 0.6182172633707523\n",
      "Epoch 66/70, Training Loss: 0.6060794015084544, Validation Loss: 0.6182172708213329\n",
      "Epoch 67/70, Training Loss: 0.616093119305949, Validation Loss: 0.6182172782719135\n",
      "Epoch 68/70, Training Loss: 0.6116597008320593, Validation Loss: 0.6182172819972038\n",
      "Epoch 69/70, Training Loss: 0.6067504397323055, Validation Loss: 0.6182172670960426\n",
      "Epoch 70/70, Training Loss: 0.6096233143921821, Validation Loss: 0.6182172857224941\n",
      "Accuracy of the network on the test dataset: 64.90228013029316%\n"
     ]
    }
   ],
   "source": [
    "import torch\n",
    "import torch.nn as nn\n",
    "import torch.optim as optim\n",
    "from torch.utils.data import DataLoader, TensorDataset, random_split\n",
    "from torch.optim.lr_scheduler import StepLR\n",
    "import matplotlib.pyplot as plt\n",
    "\n",
    "\n",
    "# Convert data to PyTorch tensors, ensuring y_train and y_test are converted from pandas Series to numpy arrays first\n",
    "X_train_tensor = torch.tensor(X_train_scaled).float()\n",
    "y_train_tensor = torch.tensor(y_train.to_numpy()).long()  \n",
    "X_test_tensor = torch.tensor(X_test_scaled).float()\n",
    "y_test_tensor = torch.tensor(y_test.to_numpy()).long()\n",
    "\n",
    "# Creating Dataset and DataLoader\n",
    "train_dataset = TensorDataset(X_train_tensor, y_train_tensor)\n",
    "test_dataset = TensorDataset(X_test_tensor, y_test_tensor)\n",
    "\n",
    "# Splitting train dataset into train and validation sets\n",
    "train_size = int(0.8 * len(train_dataset))\n",
    "val_size = len(train_dataset) - train_size\n",
    "train_dataset, val_dataset = random_split(train_dataset, [train_size, val_size])\n",
    "\n",
    "batch_size = 64\n",
    "train_loader = DataLoader(train_dataset, batch_size=batch_size, shuffle=True)\n",
    "val_loader = DataLoader(val_dataset, batch_size=batch_size, shuffle=False)\n",
    "test_loader = DataLoader(test_dataset, batch_size=batch_size)\n",
    "\n",
    "# Neural Network Model with Dropout\n",
    "class FightPredictor(nn.Module):\n",
    "    def __init__(self):\n",
    "        super(FightPredictor, self).__init__()\n",
    "        self.fc1 = nn.Linear(X_train_scaled.shape[1], 128)\n",
    "        self.dropout1 = nn.Dropout(0.5)  # Adding dropout\n",
    "        self.fc2 = nn.Linear(128, 64)\n",
    "        self.dropout2 = nn.Dropout(0.5)  # Adding dropout\n",
    "        self.fc3 = nn.Linear(64, 2)\n",
    "\n",
    "    def forward(self, x):\n",
    "        x = torch.relu(self.fc1(x))\n",
    "        x = self.dropout1(x)\n",
    "        x = torch.relu(self.fc2(x))\n",
    "        x = self.dropout2(x)\n",
    "        x = self.fc3(x)\n",
    "        return x\n",
    "\n",
    "model = FightPredictor()\n",
    "\n",
    "# Loss and Optimizer\n",
    "criterion = nn.CrossEntropyLoss()\n",
    "optimizer = optim.Adam(model.parameters(), lr=0.01)\n",
    "\n",
    "# Learning Rate Scheduler\n",
    "scheduler = StepLR(optimizer, step_size=10, gamma=0.1)\n",
    "\n",
    "# Training with Early Stopping\n",
    "num_epochs = 70\n",
    "best_val_loss = float('inf')\n",
    "\n",
    "training_losses = []\n",
    "validation_losses = []\n",
    "\n",
    "for epoch in range(num_epochs):\n",
    "    model.train()  # Set model to training mode\n",
    "    running_loss = 0.0\n",
    "    \n",
    "    for inputs, labels in train_loader:\n",
    "        optimizer.zero_grad()\n",
    "        outputs = model(inputs)\n",
    "        loss = criterion(outputs, labels)\n",
    "        loss.backward()\n",
    "        optimizer.step()\n",
    "        running_loss += loss.item()\n",
    "    \n",
    "    training_loss = running_loss / len(train_loader)\n",
    "    training_losses.append(training_loss)\n",
    "\n",
    "    # Validation loss\n",
    "    model.eval()  # Set model to evaluation mode\n",
    "    val_loss = 0.0\n",
    "    with torch.no_grad():\n",
    "        for inputs, labels in val_loader:\n",
    "            outputs = model(inputs)\n",
    "            loss = criterion(outputs, labels)\n",
    "            val_loss += loss.item()\n",
    "\n",
    "    validation_loss = val_loss / len(val_loader)\n",
    "    validation_losses.append(validation_loss)\n",
    "    \n",
    "    if val_loss < best_val_loss:\n",
    "        best_val_loss = val_loss\n",
    "        # Save the best model\n",
    "        torch.save(model.state_dict(), 'best_model_TEST.pth')\n",
    "    \n",
    "    scheduler.step()  # Update learning rate\n",
    "    \n",
    "    print(f'Epoch {epoch+1}/{num_epochs}, Training Loss: {running_loss/len(train_loader)}, Validation Loss: {val_loss/len(val_loader)}')\n",
    "\n",
    "# Load the best model for testing\n",
    "model.load_state_dict(torch.load('best_model_TEST.pth'))\n",
    "\n",
    "# Evaluate the model\n",
    "model.eval()\n",
    "correct = 0\n",
    "total = 0\n",
    "with torch.no_grad():\n",
    "    for inputs, labels in test_loader:\n",
    "        outputs = model(inputs)\n",
    "        _, predicted = torch.max(outputs.data, 1)\n",
    "        total += labels.size(0)\n",
    "        correct += (predicted == labels).sum().item()\n",
    "\n",
    "print(f'Accuracy of the network on the test dataset: {100 * correct / total}%')\n"
   ]
  },
  {
   "cell_type": "code",
   "execution_count": null,
   "id": "4f293f2e",
   "metadata": {},
   "outputs": [
    {
     "data": {
      "image/png": "[encoded data removed]",
      "text/plain": [
       "<Figure size 432x288 with 1 Axes>"
      ]
     },
     "metadata": {
      "needs_background": "light"
     },
     "output_type": "display_data"
    }
   ],
   "source": [
    "plt.plot(training_losses, label='Training Loss')\n",
    "plt.plot(validation_losses, label='Validation Loss')\n",
    "plt.xlabel('Epochs')\n",
    "plt.ylabel('Loss')\n",
    "plt.legend()\n",
    "plt.show()\n"
   ]
  },
  {
   "cell_type": "markdown",
   "id": "c012b732",
   "metadata": {},
   "source": [
    "Testing New Unseen Data"
   ]
  },
  {
   "cell_type": "code",
   "execution_count": null,
   "id": "620c4add",
   "metadata": {},
   "outputs": [
    {
     "data": {
      "text/plain": [
       "<bound method Module.eval of FightPredictor(\n",
       "  (fc1): Linear(in_features=25, out_features=128, bias=True)\n",
       "  (dropout1): Dropout(p=0.5, inplace=False)\n",
       "  (fc2): Linear(in_features=128, out_features=64, bias=True)\n",
       "  (dropout2): Dropout(p=0.5, inplace=False)\n",
       "  (fc3): Linear(in_features=64, out_features=2, bias=True)\n",
       ")>"
      ]
     },
     "execution_count": 463,
     "metadata": {},
     "output_type": "execute_result"
    }
   ],
   "source": [
    "model = FightPredictor()\n",
    "model.load_state_dict(torch.load('best_model.pth'))\n",
    "model.eval"
   ]
  },
  {
   "cell_type": "code",
   "execution_count": null,
   "id": "a5a351c6",
   "metadata": {},
   "outputs": [
    {
     "ename": "NameError",
     "evalue": "name 'new_fight_tensor' is not defined",
     "output_type": "error",
     "traceback": [
      "\u001b[0;31m---------------------------------------------------------------------------\u001b[0m",
      "\u001b[0;31mNameError\u001b[0m                                 Traceback (most recent call last)",
      "\u001b[0;32m/tmp/ipykernel_1482/24298357.py\u001b[0m in \u001b[0;36m<module>\u001b[0;34m\u001b[0m\n\u001b[1;32m      1\u001b[0m \u001b[0;32mwith\u001b[0m \u001b[0mtorch\u001b[0m\u001b[0;34m.\u001b[0m\u001b[0mno_grad\u001b[0m\u001b[0;34m(\u001b[0m\u001b[0;34m)\u001b[0m\u001b[0;34m:\u001b[0m\u001b[0;34m\u001b[0m\u001b[0;34m\u001b[0m\u001b[0m\n\u001b[0;32m----> 2\u001b[0;31m     \u001b[0mprediction\u001b[0m \u001b[0;34m=\u001b[0m \u001b[0mmodel\u001b[0m\u001b[0;34m(\u001b[0m\u001b[0mnew_fight_tensor\u001b[0m\u001b[0;34m)\u001b[0m\u001b[0;34m\u001b[0m\u001b[0;34m\u001b[0m\u001b[0m\n\u001b[0m\u001b[1;32m      3\u001b[0m     \u001b[0mpredicted_winner\u001b[0m \u001b[0;34m=\u001b[0m \u001b[0mtorch\u001b[0m\u001b[0;34m.\u001b[0m\u001b[0margmax\u001b[0m\u001b[0;34m(\u001b[0m\u001b[0mprediction\u001b[0m\u001b[0;34m,\u001b[0m \u001b[0mdim\u001b[0m\u001b[0;34m=\u001b[0m\u001b[0;36m1\u001b[0m\u001b[0;34m)\u001b[0m\u001b[0;34m.\u001b[0m\u001b[0mitem\u001b[0m\u001b[0;34m(\u001b[0m\u001b[0;34m)\u001b[0m\u001b[0;34m\u001b[0m\u001b[0;34m\u001b[0m\u001b[0m\n\u001b[1;32m      4\u001b[0m \u001b[0;34m\u001b[0m\u001b[0m\n\u001b[1;32m      5\u001b[0m \u001b[0;31m# Assuming 0 represents f_1 and 1 represents f_2 as the winner\u001b[0m\u001b[0;34m\u001b[0m\u001b[0;34m\u001b[0m\u001b[0m\n",
      "\u001b[0;31mNameError\u001b[0m: name 'new_fight_tensor' is not defined"
     ]
    }
   ],
   "source": [
    "with torch.no_grad():\n",
    "    prediction = model(new_fight_tensor)\n",
    "    predicted_winner = torch.argmax(prediction, dim=1).item()\n",
    "\n",
    "# Assuming 0 represents f_1 and 1 represents f_2 as the winner\n",
    "winner = \"f_1\" if predicted_winner == 0 else \"f_2\"\n",
    "print(f\"Predicted winner: {winner}\")"
   ]
  },
  {
   "cell_type": "code",
   "execution_count": null,
   "id": "07357543",
   "metadata": {},
   "outputs": [],
   "source": []
  }
 ],
 "metadata": {
  "kernelspec": {
   "display_name": "Python 3 (ipykernel)",
   "language": "python",
   "name": "python3"
  },
  "language_info": {
   "codemirror_mode": {
    "name": "ipython",
    "version": 3
   },
   "file_extension": ".py",
   "mimetype": "text/x-python",
   "name": "python",
   "nbconvert_exporter": "python",
   "pygments_lexer": "ipython3",
   "version": "3.10.12"
  }
 },
 "nbformat": 4,
 "nbformat_minor": 5
}
