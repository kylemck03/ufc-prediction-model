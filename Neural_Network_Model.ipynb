{
 "cells": [
  {
   "cell_type": "code",
   "execution_count": 1,
   "id": "1908c404-f1a4-4b1f-af03-a89888c67535",
   "metadata": {},
   "outputs": [],
   "source": [
    "#Hello"
   ]
  },
  {
   "cell_type": "code",
   "execution_count": 2,
   "id": "5f59e507-e8df-425c-942f-fb16d0a44633",
   "metadata": {},
   "outputs": [],
   "source": [
    "import os\n",
    "import pandas as pd\n",
    "from torch.utils.data import DataLoader\n",
    "from datetime import datetime"
   ]
  },
  {
   "cell_type": "markdown",
   "id": "d6ec8edb",
   "metadata": {},
   "source": [
    "Load Datasets"
   ]
  },
  {
   "cell_type": "code",
   "execution_count": 3,
   "id": "dad496fb-ba62-4ee8-af4c-f14940e81945",
   "metadata": {},
   "outputs": [
    {
     "name": "stdout",
     "output_type": "stream",
     "text": [
      "Index(['fighter_id', 'fighter_f_name', 'fighter_l_name', 'fighter_nickname',\n",
      "       'fighter_height_cm', 'fighter_weight_lbs', 'fighter_reach_cm',\n",
      "       'fighter_stance', 'fighter_dob', 'fighter_w', 'fighter_l', 'fighter_d',\n",
      "       'fighter_nc_dq', 'fighter_url'],\n",
      "      dtype='object')\n"
     ]
    }
   ],
   "source": [
    "#Load the fight data\n",
    "fight_stats_df = pd.read_csv('datasets/ufc_fight_stat_data.csv')\n",
    "\n",
    "#Load fight data\n",
    "fight_data_df = pd.read_csv('datasets/ufc_fight_data.csv')\n",
    "\n",
    "#Load fighter data \n",
    "fighter_data_df = pd.read_csv('datasets/ufc_fighter_data.csv')\n",
    "\n",
    "#Load event data\n",
    "event_data_df = pd.read_csv('datasets/ufc_event_data.csv')\n",
    "\n",
    "print(fighter_data_df.columns)"
   ]
  },
  {
   "cell_type": "markdown",
   "id": "2708715e",
   "metadata": {},
   "source": [
    "Clean and Process Data"
   ]
  },
  {
   "cell_type": "code",
   "execution_count": 4,
   "id": "e3c5cf64",
   "metadata": {},
   "outputs": [],
   "source": [
    "#Convert data columns to datetime format\n",
    "fighter_data_df['fighter_dob'] = pd.to_datetime(fighter_data_df['fighter_dob'])\n",
    "\n",
    "#Handle Missing Value, if any\n",
    "fight_stats_df = fight_stats_df.dropna(subset=['fighter_id', 'ctrl_time'])\n",
    "fight_data_df = fight_data_df.dropna(subset=['fight_id', 'f_1', 'f_2', 'winner', 'num_rounds'])\n",
    "fighter_data_df = fighter_data_df.dropna(subset=['fighter_id', 'fighter_reach_cm', 'fighter_height_cm', 'fighter_stance', 'fighter_dob'])\n",
    "\n",
    "fighter_data_df['fighter_nc_dq'] = fighter_data_df['fighter_nc_dq'].fillna(0)\n",
    "fighter_data_df['fighter_stance'] = fighter_data_df['fighter_stance'].fillna(0)\n",
    "\n",
    "event_data_df = event_data_df.dropna(subset=['event_id'])\n",
    "\n",
    "#Encode categorical variables (if needed)\n",
    "fighter_data_df['fighter_stance'] = fighter_data_df['fighter_stance'].map({'Orthodox': 0, 'Southpaw': 1, 'Switch': 2})\n",
    "\n"
   ]
  },
  {
   "cell_type": "markdown",
   "id": "66d5c72e",
   "metadata": {},
   "source": [
    "Merge Datasets"
   ]
  },
  {
   "cell_type": "code",
   "execution_count": 5,
   "id": "a0d768d8",
   "metadata": {},
   "outputs": [],
   "source": [
    "    \n",
    "merged_df = pd.merge(fight_stats_df, fight_data_df, how='inner', on='fight_id')\n",
    "merged_df = pd.merge(merged_df, fighter_data_df, how='inner', on='fighter_id')\n",
    "merged_df = pd.merge(merged_df, event_data_df, how='inner', on='event_id')\n"
   ]
  },
  {
   "cell_type": "markdown",
   "id": "626c8a5c",
   "metadata": {},
   "source": [
    "Cleaning"
   ]
  },
  {
   "cell_type": "code",
   "execution_count": 6,
   "id": "4be13256",
   "metadata": {},
   "outputs": [],
   "source": [
    "# Convert ctrl_time from minute format to seconds\n",
    "def time_to_seconds(time_str):\n",
    "    if time_str == '--':\n",
    "        return None  # or any other suitable value, like np.nan\n",
    "    else:\n",
    "        minutes, seconds = map(int, time_str.split(':'))\n",
    "        return minutes * 60 + seconds\n",
    "    \n",
    "merged_df['ctrl_time'] = merged_df['ctrl_time'].apply(time_to_seconds)\n",
    "merged_df['finish_time'] = merged_df['finish_time'].apply(time_to_seconds)\n",
    "\n",
    "#Convert each column to unique ID\n",
    "merged_df['referee'] = pd.factorize(merged_df['referee'])[0]\n",
    "merged_df['event_city'] = pd.factorize(merged_df['event_city'])[0]\n",
    "merged_df['event_state'] = pd.factorize(merged_df['event_state'])[0]\n",
    "merged_df['event_country'] = pd.factorize(merged_df['event_country'])[0]\n",
    "merged_df['result_details'] = pd.factorize(merged_df['result_details'])[0]\n",
    "merged_df['title_fight'] = pd.factorize(merged_df['title_fight'])[0]\n",
    "merged_df['weight_class'] = pd.factorize(merged_df['weight_class'])[0]\n",
    "merged_df['gender'] = pd.factorize(merged_df['gender'])[0]\n",
    "merged_df['result'] = pd.factorize(merged_df['result'])[0]\n",
    "\n",
    "# NOTE: add column that contains value age at the event date\n",
    "\n",
    "# Convert num_rounds to int\n",
    "merged_df['num_rounds'] = pd.to_numeric(merged_df['num_rounds'], errors='coerce')\n",
    "\n",
    "\n",
    "# Convert dob to age in years at the date of 3/25/2024\n",
    "hard_coded_datetime = datetime(2024, 3, 25)\n",
    "merged_df['fighter_dob'] = (hard_coded_datetime.date() - pd.to_datetime(merged_df['fighter_dob']).dt.date).apply(lambda x: x.days / 365.25)\n",
    "\n",
    "\n",
    "# List of columns to drop (temp drop 'event_date' *add later*)\n",
    "cols_to_drop = ['fight_url_x', 'fighter_url', 'event_url', 'fight_url_x', \n",
    "                'fight_url_y', 'event_url', 'fighter_url', 'event_name', \n",
    "                'fighter_nickname', 'fighter_l_name', 'fighter_f_name', \n",
    "                'event_date', 'event_state', 'fight_id', 'finish_round',\n",
    "                'result_details'\n",
    "                ]\n",
    "\n",
    "# Drop the specified columns\n",
    "merged_df = merged_df.drop(columns=cols_to_drop)\n",
    "\n"
   ]
  },
  {
   "cell_type": "markdown",
   "id": "f80b383e",
   "metadata": {},
   "source": [
    "Create Cumulative Columns"
   ]
  },
  {
   "cell_type": "code",
   "execution_count": 7,
   "id": "a9beb051",
   "metadata": {},
   "outputs": [
    {
     "name": "stdout",
     "output_type": "stream",
     "text": [
      "Index(['fight_stat_id', 'fighter_id', 'knockdowns', 'total_strikes_att',\n",
      "       'total_strikes_succ', 'sig_strikes_att', 'sig_strikes_succ',\n",
      "       'takedown_att', 'takedown_succ', 'submission_att', 'reversals',\n",
      "       'ctrl_time', 'event_id', 'referee', 'f_1', 'f_2', 'winner',\n",
      "       'num_rounds', 'title_fight', 'weight_class', 'gender', 'result',\n",
      "       'finish_time', 'fighter_height_cm', 'fighter_weight_lbs',\n",
      "       'fighter_reach_cm', 'fighter_stance', 'fighter_dob', 'fighter_w',\n",
      "       'fighter_l', 'fighter_d', 'fighter_nc_dq', 'event_city',\n",
      "       'event_country', 'avg_ctrl_time', 'avg_reversals', 'avg_submission_att',\n",
      "       'avg_takedown_succ', 'avg_takedown_att', 'avg_sig_strikes_att',\n",
      "       'avg_total_strikes_succ', 'avg_total_strikes_att', 'avg_knockdowns',\n",
      "       'avg_finish_time'],\n",
      "      dtype='object')\n"
     ]
    }
   ],
   "source": [
    "#create cumulative column for ctrl_time\n",
    "\n",
    "# merged_df.sort_values(by=[\"fighter_id\", 'fight_stat_id'], ascending=[True, True], inplace=True)\n",
    "merged_df[\"avg_ctrl_time\"] = merged_df.groupby(\"fighter_id\")[\"ctrl_time\"].transform(lambda x: x.expanding().mean())\n",
    "# Cumulative for reversals\n",
    "merged_df[\"avg_reversals\"] = merged_df.groupby(\"fighter_id\")[\"reversals\"].transform(lambda x: x.expanding().mean())\n",
    "\n",
    "# for submission attempts\n",
    "merged_df[\"avg_submission_att\"] = merged_df.groupby(\"fighter_id\")[\"submission_att\"].transform(lambda x: x.expanding().mean())\n",
    "\n",
    "# for takedown succession\n",
    "merged_df[\"avg_takedown_succ\"] = merged_df.groupby(\"fighter_id\")[\"takedown_succ\"].transform(lambda x: x.expanding().mean())\n",
    "\n",
    "# for takedown attmepts \n",
    "merged_df[\"avg_takedown_att\"] = merged_df.groupby(\"fighter_id\")[\"takedown_att\"].transform(lambda x: x.expanding().mean())\n",
    "\n",
    "# for significant strike succession\n",
    "merged_df[\"avg_sig_strikes_att\"] = merged_df.groupby(\"fighter_id\")[\"sig_strikes_att\"].transform(lambda x: x.expanding().mean())\n",
    "\n",
    "# for total strikes succession\n",
    "merged_df[\"avg_total_strikes_succ\"] = merged_df.groupby(\"fighter_id\")[\"total_strikes_succ\"].transform(lambda x: x.expanding().mean())\n",
    "\n",
    "# for total strikes ATTEMPTS\n",
    "merged_df[\"avg_total_strikes_att\"] = merged_df.groupby(\"fighter_id\")[\"total_strikes_att\"].transform(lambda x: x.expanding().mean())\n",
    "\n",
    "# for knockdowns\n",
    "merged_df[\"avg_knockdowns\"] = merged_df.groupby(\"fighter_id\")[\"knockdowns\"].transform(lambda x: x.expanding().mean())\n",
    "\n",
    "# AVG finish Time\n",
    "merged_df['avg_finish_time'] = merged_df.groupby('fighter_id')['finish_time'].transform(lambda x: x.expanding().mean())\n",
    "\n",
    "\n",
    "# merged_df = pd.read_csv('final_set.csv')\n",
    "\n",
    "print(merged_df.columns)\n",
    "# print(\"num of columns\" , merged_df.shape[1])\n",
    "# print(merged_df['finish_time'])\n",
    "\n",
    "merged_df.to_csv('final_set(2).csv', index=False)\n"
   ]
  },
  {
   "cell_type": "markdown",
   "id": "fcb614d1",
   "metadata": {},
   "source": [
    "Remove original numeric stats"
   ]
  },
  {
   "cell_type": "code",
   "execution_count": 8,
   "id": "59e68e1a",
   "metadata": {},
   "outputs": [],
   "source": [
    "# Need to remove original numeric stats because they are independent and would be hard to implement when creating features for model\n",
    "temp_df = pd.read_csv('final_set(2).csv')\n",
    "\n",
    "drop_cols = ['knockdowns', 'total_strikes_att', 'total_strikes_succ',\n",
    "            'sig_strikes_att', 'sig_strikes_succ', 'takedown_att',\n",
    "            'takedown_succ', 'submission_att', 'reversals', 'ctrl_time',\n",
    "            'event_id', 'result', 'finish_time'\n",
    "            ]\n",
    "# temp_df = temp_df[temp_df['fight_stat_id'] > 1200]\n",
    "temp_df = merged_df.drop(columns=drop_cols)\n",
    "temp_df = temp_df.iloc[:10550]\n",
    "temp_df.sort_values(by=[\"fighter_id\", 'fight_stat_id'], ascending=[True, True], inplace=True)\n",
    "temp_df.to_csv('final_set(2).csv', index=False)"
   ]
  },
  {
   "cell_type": "markdown",
   "id": "8d0a9770",
   "metadata": {},
   "source": [
    "Random Forest Algo"
   ]
  },
  {
   "cell_type": "code",
   "execution_count": 9,
   "id": "76efda33",
   "metadata": {},
   "outputs": [
    {
     "name": "stderr",
     "output_type": "stream",
     "text": [
      "/usr/lib/python3/dist-packages/scipy/__init__.py:146: UserWarning: A NumPy version >=1.17.3 and <1.25.0 is required for this version of SciPy (detected version 1.26.4\n",
      "  warnings.warn(f\"A NumPy version >={np_minversion} and <{np_maxversion}\"\n"
     ]
    },
    {
     "name": "stdout",
     "output_type": "stream",
     "text": [
      "Accuracy: 0.6625592417061611\n"
     ]
    }
   ],
   "source": [
    "import pandas as pd\n",
    "from sklearn.model_selection import train_test_split\n",
    "from sklearn.preprocessing import StandardScaler\n",
    "from sklearn.ensemble import RandomForestClassifier\n",
    "from sklearn.metrics import accuracy_score\n",
    "\n",
    "merged_df = pd.read_csv('final_set(2).csv')\n",
    "data = merged_df\n",
    "df = pd.DataFrame(data)\n",
    "\n",
    "# Creating a binary target variable indicating whether the fighter won or not.\n",
    "df['is_winner'] = df['fighter_id'] == df['winner']\n",
    "\n",
    "# Selecting features for the model\n",
    "features = [\n",
    "    \"f_1\",\"f_2\",\"num_rounds\", \"title_fight\", \"weight_class\", \"gender\", \n",
    "    \"fighter_height_cm\", \"fighter_weight_lbs\", \"fighter_reach_cm\", \n",
    "    \"fighter_stance\", \"fighter_w\", \"fighter_l\", \"fighter_d\", \"fighter_dob\",\n",
    "    'avg_ctrl_time', 'avg_reversals', 'avg_submission_att', \n",
    "    'avg_takedown_succ', 'avg_takedown_att', 'avg_sig_strikes_att',\n",
    "    'avg_total_strikes_succ', 'avg_total_strikes_att', 'avg_knockdowns',\n",
    "    'avg_finish_time'\n",
    "]\n",
    "X = df[features]\n",
    "y = df['is_winner']\n",
    "\n",
    "# Splitting the dataset into training and testing sets\n",
    "X_train, X_test, y_train, y_test = train_test_split(X, y, test_size=0.2, random_state=42)\n",
    "\n",
    "# Normalizing the feature set\n",
    "scaler = StandardScaler()\n",
    "X_train_scaled = scaler.fit_transform(X_train)\n",
    "X_test_scaled = scaler.transform(X_test)\n",
    "\n",
    "# Training a Random Forest Classifier\n",
    "clf = RandomForestClassifier(n_estimators=100, random_state=42)\n",
    "clf.fit(X_train_scaled, y_train)\n",
    "\n",
    "# Predicting and evaluating the model\n",
    "y_pred = clf.predict(X_test_scaled)\n",
    "accuracy = accuracy_score(y_test, y_pred)\n",
    "\n",
    "# Print the accuracy\n",
    "print(\"Accuracy:\", accuracy)"
   ]
  },
  {
   "cell_type": "code",
   "execution_count": 10,
   "id": "7df1eda2",
   "metadata": {},
   "outputs": [
    {
     "name": "stdout",
     "output_type": "stream",
     "text": [
      "Winner is f_1 with probability: 0.91\n"
     ]
    },
    {
     "name": "stderr",
     "output_type": "stream",
     "text": [
      "/home/kyle/.local/lib/python3.10/site-packages/sklearn/base.py:493: UserWarning: X does not have valid feature names, but StandardScaler was fitted with feature names\n",
      "  warnings.warn(\n",
      "/home/kyle/.local/lib/python3.10/site-packages/sklearn/base.py:493: UserWarning: X does not have valid feature names, but StandardScaler was fitted with feature names\n",
      "  warnings.warn(\n"
     ]
    }
   ],
   "source": [
    "import numpy as np\n",
    "\n",
    "# Example feature arrays for f_1 and f_2\n",
    "# These should include all the features used by your model, except the 'fighter_id'.\n",
    "data_f1 = np.array([[2902,2532,5,1,0,0,180.34,155.0,177.8,0.0,25,4,0,35.35934291581109,21.416666666666668,0.0,0.0,0.08333333333333333,0.3333333333333333,119.08333333333333,73.83333333333333,121.75,0.5,185.83333333333334]]) # Justin    \n",
    "data_f2 = np.array([[2532,2902,5,1,0,0,180.34,145.0,175.26,0.0,25,7,0,32.3066392881588,59.76,0.0,0.4,0.32,0.6,251.64,131.28,262.52,0.32,259.12]]) # Max\n",
    "\n",
    "# Scale the data using the existing scaler\n",
    "data_f1_scaled = scaler.transform(data_f1)\n",
    "data_f2_scaled = scaler.transform(data_f2)\n",
    "\n",
    "# Predict the outcomes using the trained classifier\n",
    "pred_f1 = clf.predict_proba(data_f1_scaled)[0][1]  # Probability of f_1 winning\n",
    "pred_f2 = clf.predict_proba(data_f2_scaled)[0][1]  # Probability of f_2 winning\n",
    "\n",
    "# Compare the probabilities and print the winner\n",
    "if pred_f1 > pred_f2:\n",
    "    print(\"Winner is f_1 with probability:\", pred_f1)\n",
    "else:\n",
    "    print(\"Winner is f_2 with probability:\", pred_f2)\n"
   ]
  },
  {
   "cell_type": "markdown",
   "id": "40b93089",
   "metadata": {},
   "source": [
    "Preprocessing for Neural Network"
   ]
  },
  {
   "cell_type": "code",
   "execution_count": 11,
   "id": "d27ede16",
   "metadata": {},
   "outputs": [],
   "source": [
    "import numpy as np\n",
    "import pandas as pd\n",
    "\n",
    "#X_train_scaled is a numpy array; convert it to a DataFrame for easier manipulation\n",
    "df_train_features = pd.DataFrame(X_train_scaled)\n",
    "\n",
    "# Handling NaN values by imputation\n",
    "df_train_features.fillna(df_train_features.mean(), inplace=True)\n",
    "\n",
    "# Handling infinite values by replacing them with NaN and then imputing\n",
    "df_train_features.replace([np.inf, -np.inf], np.nan, inplace=True)\n",
    "df_train_features.fillna(df_train_features.mean(), inplace=True)\n",
    "\n",
    "# Convert back to numpy array if necessary\n",
    "X_train_scaled_clean = df_train_features.to_numpy()\n"
   ]
  },
  {
   "cell_type": "markdown",
   "id": "d5e7f7a4",
   "metadata": {},
   "source": [
    "Check for NaNs or infinite values in numpy\n"
   ]
  },
  {
   "cell_type": "code",
   "execution_count": 12,
   "id": "13a9a6b6",
   "metadata": {},
   "outputs": [],
   "source": [
    "# Example check for NaNs or infinite values in numpy\n",
    "import numpy as np\n",
    "\n",
    "# Assuming X_train_scaled is a numpy array\n",
    "if np.isnan(X_train_scaled).any() or np.isinf(X_train_scaled).any():\n",
    "    print(\"Training features contain NaN or infinite values.\")\n",
    "if np.isnan(y_train.values).any():\n",
    "    print(\"Training labels contain NaN values.\")\n",
    "    "
   ]
  },
  {
   "cell_type": "markdown",
   "id": "94688e60",
   "metadata": {},
   "source": [
    "Neural Network"
   ]
  },
  {
   "cell_type": "code",
   "execution_count": 13,
   "id": "441042e7",
   "metadata": {},
   "outputs": [
    {
     "name": "stdout",
     "output_type": "stream",
     "text": [
      "Epoch 1/70, Training Loss: 0.6402927867646487, Validation Loss: 0.5992995213579249\n",
      "Epoch 2/70, Training Loss: 0.6179744404441906, Validation Loss: 0.5952191330768444\n",
      "Epoch 3/70, Training Loss: 0.6144878698407479, Validation Loss: 0.589755755883676\n",
      "Epoch 4/70, Training Loss: 0.6140466231220173, Validation Loss: 0.5936468376053704\n",
      "Epoch 5/70, Training Loss: 0.6095126636748044, Validation Loss: 0.5861635616532078\n",
      "Epoch 6/70, Training Loss: 0.6106544302881889, Validation Loss: 0.6039517830919336\n",
      "Epoch 7/70, Training Loss: 0.6051235710674862, Validation Loss: 0.5778263983903108\n",
      "Epoch 8/70, Training Loss: 0.6048118199379939, Validation Loss: 0.5773287680413988\n",
      "Epoch 9/70, Training Loss: 0.6059386707701773, Validation Loss: 0.5972081444881581\n",
      "Epoch 10/70, Training Loss: 0.6066352311732635, Validation Loss: 0.5941114381507591\n",
      "Epoch 11/70, Training Loss: 0.5914097175283252, Validation Loss: 0.5877186744301407\n",
      "Epoch 12/70, Training Loss: 0.5855709845727345, Validation Loss: 0.5825753432733042\n",
      "Epoch 13/70, Training Loss: 0.5861914503686833, Validation Loss: 0.5854086809688144\n",
      "Epoch 14/70, Training Loss: 0.5815185806098974, Validation Loss: 0.5795640393539712\n",
      "Epoch 15/70, Training Loss: 0.5724382704158999, Validation Loss: 0.578331708908081\n",
      "Epoch 16/70, Training Loss: 0.5747263507460648, Validation Loss: 0.5778573221630521\n",
      "Epoch 17/70, Training Loss: 0.5721302715674886, Validation Loss: 0.5779896996639393\n",
      "Epoch 18/70, Training Loss: 0.5778034188837375, Validation Loss: 0.5785098451155203\n",
      "Epoch 19/70, Training Loss: 0.576326532746261, Validation Loss: 0.577885976544133\n",
      "Epoch 20/70, Training Loss: 0.5774464722511903, Validation Loss: 0.5777044980614273\n",
      "Epoch 21/70, Training Loss: 0.5746044839890498, Validation Loss: 0.5773094627592299\n",
      "Epoch 22/70, Training Loss: 0.5728055424285385, Validation Loss: 0.5769749151335822\n",
      "Epoch 23/70, Training Loss: 0.5684023971827525, Validation Loss: 0.5769399073388841\n",
      "Epoch 24/70, Training Loss: 0.5675657540559769, Validation Loss: 0.5766444736056857\n",
      "Epoch 25/70, Training Loss: 0.5690327146143284, Validation Loss: 0.5764888635388127\n",
      "Epoch 26/70, Training Loss: 0.5684856013307031, Validation Loss: 0.576261231192836\n",
      "Epoch 27/70, Training Loss: 0.5692176776674559, Validation Loss: 0.5761837319091514\n",
      "Epoch 28/70, Training Loss: 0.5696123723151549, Validation Loss: 0.5762355504212556\n",
      "Epoch 29/70, Training Loss: 0.5713860510655169, Validation Loss: 0.5762966628427859\n",
      "Epoch 30/70, Training Loss: 0.5711562194914188, Validation Loss: 0.5766291772877729\n",
      "Epoch 31/70, Training Loss: 0.5710280686616898, Validation Loss: 0.576604547324004\n",
      "Epoch 32/70, Training Loss: 0.5673134487192586, Validation Loss: 0.5766196824886181\n",
      "Epoch 33/70, Training Loss: 0.5645770275930189, Validation Loss: 0.5765732063187493\n",
      "Epoch 34/70, Training Loss: 0.5694126076293442, Validation Loss: 0.5765891516650165\n",
      "Epoch 35/70, Training Loss: 0.5701157647483753, Validation Loss: 0.5765834605252301\n",
      "Epoch 36/70, Training Loss: 0.5686467973128805, Validation Loss: 0.576567393762094\n",
      "Epoch 37/70, Training Loss: 0.5671507530617264, Validation Loss: 0.5765090827588681\n",
      "Epoch 38/70, Training Loss: 0.5651419559177363, Validation Loss: 0.576472712887658\n",
      "Epoch 39/70, Training Loss: 0.5720834911994215, Validation Loss: 0.5765307700192487\n",
      "Epoch 40/70, Training Loss: 0.5659212981754879, Validation Loss: 0.576563384797838\n",
      "Epoch 41/70, Training Loss: 0.5654131840422468, Validation Loss: 0.576559046904246\n",
      "Epoch 42/70, Training Loss: 0.5721019132519668, Validation Loss: 0.5765601727697585\n",
      "Epoch 43/70, Training Loss: 0.5672549571631089, Validation Loss: 0.5765592279257598\n",
      "Epoch 44/70, Training Loss: 0.565919281457955, Validation Loss: 0.5765574817304258\n",
      "Epoch 45/70, Training Loss: 0.5709593386020301, Validation Loss: 0.5765567223230997\n",
      "Epoch 46/70, Training Loss: 0.5713823128421351, Validation Loss: 0.5765563558649134\n",
      "Epoch 47/70, Training Loss: 0.5669856858703325, Validation Loss: 0.5765547840683548\n",
      "Epoch 48/70, Training Loss: 0.5677335667160323, Validation Loss: 0.5765505344779404\n",
      "Epoch 49/70, Training Loss: 0.5661311919959087, Validation Loss: 0.5765461612630773\n",
      "Epoch 50/70, Training Loss: 0.5632136101430317, Validation Loss: 0.5765462672268903\n",
      "Epoch 51/70, Training Loss: 0.5688317238159899, Validation Loss: 0.5765461082811709\n",
      "Epoch 52/70, Training Loss: 0.5708744694601815, Validation Loss: 0.5765460001097785\n",
      "Epoch 53/70, Training Loss: 0.5678769164490249, Validation Loss: 0.5765462606041519\n",
      "Epoch 54/70, Training Loss: 0.5706378266496478, Validation Loss: 0.576546291510264\n",
      "Epoch 55/70, Training Loss: 0.5711259417376429, Validation Loss: 0.5765459956946196\n",
      "Epoch 56/70, Training Loss: 0.5697732191040831, Validation Loss: 0.5765454835361905\n",
      "Epoch 57/70, Training Loss: 0.5687630342425041, Validation Loss: 0.5765455188574614\n",
      "Epoch 58/70, Training Loss: 0.5654879456983423, Validation Loss: 0.5765452164190786\n",
      "Epoch 59/70, Training Loss: 0.5683050515516749, Validation Loss: 0.5765450663036771\n",
      "Epoch 60/70, Training Loss: 0.5706213445595976, Validation Loss: 0.5765449735853407\n",
      "Epoch 61/70, Training Loss: 0.5670132982843327, Validation Loss: 0.5765449647550229\n",
      "Epoch 62/70, Training Loss: 0.5664890810566129, Validation Loss: 0.5765449603398641\n",
      "Epoch 63/70, Training Loss: 0.5637234457821216, Validation Loss: 0.5765449206034342\n",
      "Epoch 64/70, Training Loss: 0.5663562543549627, Validation Loss: 0.5765448985276399\n",
      "Epoch 65/70, Training Loss: 0.5671276219610898, Validation Loss: 0.5765448985276399\n",
      "Epoch 66/70, Training Loss: 0.5673913123472681, Validation Loss: 0.5765448830745838\n",
      "Epoch 67/70, Training Loss: 0.5775784900728261, Validation Loss: 0.576544894112481\n",
      "Epoch 68/70, Training Loss: 0.5654015465165084, Validation Loss: 0.5765448919049015\n",
      "Epoch 69/70, Training Loss: 0.5677471835658235, Validation Loss: 0.5765448609987894\n",
      "Epoch 70/70, Training Loss: 0.5694073944721582, Validation Loss: 0.5765448919049015\n",
      "Accuracy of the network on the test dataset: 69.0521327014218%\n"
     ]
    }
   ],
   "source": [
    "import torch\n",
    "import torch.nn as nn\n",
    "import torch.optim as optim\n",
    "from torch.utils.data import DataLoader, TensorDataset, random_split\n",
    "from torch.optim.lr_scheduler import StepLR\n",
    "import matplotlib.pyplot as plt\n",
    "\n",
    "\n",
    "# Convert data to PyTorch tensors, ensuring y_train and y_test are converted from pandas Series to numpy arrays first\n",
    "X_train_tensor = torch.tensor(X_train_scaled).float()\n",
    "y_train_tensor = torch.tensor(y_train.to_numpy()).long()  \n",
    "X_test_tensor = torch.tensor(X_test_scaled).float()\n",
    "y_test_tensor = torch.tensor(y_test.to_numpy()).long()\n",
    "\n",
    "# Creating Dataset and DataLoader\n",
    "train_dataset = TensorDataset(X_train_tensor, y_train_tensor)\n",
    "test_dataset = TensorDataset(X_test_tensor, y_test_tensor)\n",
    "\n",
    "# Splitting train dataset into train and validation sets\n",
    "train_size = int(0.8 * len(train_dataset))\n",
    "val_size = len(train_dataset) - train_size\n",
    "train_dataset, val_dataset = random_split(train_dataset, [train_size, val_size])\n",
    "\n",
    "batch_size = 64\n",
    "train_loader = DataLoader(train_dataset, batch_size=batch_size, shuffle=True)\n",
    "val_loader = DataLoader(val_dataset, batch_size=batch_size, shuffle=False)\n",
    "test_loader = DataLoader(test_dataset, batch_size=batch_size)\n",
    "\n",
    "# Neural Network Model with Dropout\n",
    "class FightPredictor(nn.Module):\n",
    "    def __init__(self):\n",
    "        super(FightPredictor, self).__init__()\n",
    "        self.fc1 = nn.Linear(X_train_scaled.shape[1], 128)\n",
    "        self.dropout1 = nn.Dropout(0.5)  # Adding dropout\n",
    "        self.fc2 = nn.Linear(128, 64)\n",
    "        self.dropout2 = nn.Dropout(0.5)  # Adding dropout\n",
    "        self.fc3 = nn.Linear(64, 2)\n",
    "\n",
    "    def forward(self, x):\n",
    "        x = torch.relu(self.fc1(x))\n",
    "        x = self.dropout1(x)\n",
    "        x = torch.relu(self.fc2(x))\n",
    "        x = self.dropout2(x)\n",
    "        x = self.fc3(x)\n",
    "        return x\n",
    "\n",
    "model = FightPredictor()\n",
    "\n",
    "# Loss and Optimizer\n",
    "criterion = nn.CrossEntropyLoss()\n",
    "optimizer = optim.Adam(model.parameters(), lr=0.01)\n",
    "\n",
    "# Learning Rate Scheduler\n",
    "scheduler = StepLR(optimizer, step_size=10, gamma=0.1)\n",
    "\n",
    "# Training with Early Stopping\n",
    "num_epochs = 70\n",
    "best_val_loss = float('inf')\n",
    "\n",
    "training_losses = []\n",
    "validation_losses = []\n",
    "\n",
    "for epoch in range(num_epochs):\n",
    "    model.train()  # Set model to training mode\n",
    "    running_loss = 0.0\n",
    "    \n",
    "    for inputs, labels in train_loader:\n",
    "        optimizer.zero_grad()\n",
    "        outputs = model(inputs)\n",
    "        loss = criterion(outputs, labels)\n",
    "        loss.backward()\n",
    "        optimizer.step()\n",
    "        running_loss += loss.item()\n",
    "    \n",
    "    training_loss = running_loss / len(train_loader)\n",
    "    training_losses.append(training_loss)\n",
    "\n",
    "    # Validation loss\n",
    "    model.eval()  # Set model to evaluation mode\n",
    "    val_loss = 0.0\n",
    "    with torch.no_grad():\n",
    "        for inputs, labels in val_loader:\n",
    "            outputs = model(inputs)\n",
    "            loss = criterion(outputs, labels)\n",
    "            val_loss += loss.item()\n",
    "\n",
    "    validation_loss = val_loss / len(val_loader)\n",
    "    validation_losses.append(validation_loss)\n",
    "    \n",
    "    if val_loss < best_val_loss:\n",
    "        best_val_loss = val_loss\n",
    "        # Save the best model\n",
    "        torch.save(model.state_dict(), 'best_test_model(2).pth')\n",
    "    \n",
    "    scheduler.step()  # Update learning rate\n",
    "    \n",
    "    print(f'Epoch {epoch+1}/{num_epochs}, Training Loss: {running_loss/len(train_loader)}, Validation Loss: {val_loss/len(val_loader)}')\n",
    "\n",
    "# Load the best model for testing\n",
    "model.load_state_dict(torch.load('best_test_model(2).pth'))\n",
    "\n",
    "# Evaluate the model\n",
    "model.eval()\n",
    "correct = 0\n",
    "total = 0\n",
    "with torch.no_grad():\n",
    "    for inputs, labels in test_loader:\n",
    "        outputs = model(inputs)\n",
    "        _, predicted = torch.max(outputs.data, 1)\n",
    "        total += labels.size(0)\n",
    "        correct += (predicted == labels).sum().item()\n",
    "\n",
    "print(f'Accuracy of the network on the test dataset: {100 * correct / total}%')\n"
   ]
  },
  {
   "cell_type": "code",
   "execution_count": 14,
   "id": "4f293f2e",
   "metadata": {},
   "outputs": [
    {
     "data": {
      "image/png": "[encoded data removed]",
      "text/plain": [
       "<Figure size 432x288 with 1 Axes>"
      ]
     },
     "metadata": {
      "needs_background": "light"
     },
     "output_type": "display_data"
    }
   ],
   "source": [
    "plt.plot(training_losses, label='Training Loss')\n",
    "plt.plot(validation_losses, label='Validation Loss')\n",
    "plt.xlabel('Epochs')\n",
    "plt.ylabel('Loss')\n",
    "plt.legend()\n",
    "plt.show()\n"
   ]
  },
  {
   "cell_type": "markdown",
   "id": "c012b732",
   "metadata": {},
   "source": [
    "Testing New Unseen Data"
   ]
  },
  {
   "cell_type": "code",
   "execution_count": 21,
   "id": "7428c7d9",
   "metadata": {},
   "outputs": [
    {
     "name": "stdout",
     "output_type": "stream",
     "text": [
      "Winner is f_1 \n"
     ]
    }
   ],
   "source": [
    "import numpy as np\n",
    "\n",
    "# Example feature arrays for two fighters (ensure these feature arrays match the input dimensions expected by the model)\n",
    "data_f1 = np.array([[332,1644,3,0,0,0,190.5,155.0,195.58,1.0,13,7,0,28.854209445585216,65.6,0.1,0.7,0.4,0.8,87.1,51.3,97.9,0.5,195.8]]) # Turner \n",
    "data_f2 = np.array([[1644,322,3,0,0,0,180.34,155.0,182.88,0.0,17,5,1,34.84462696783025,65.71428571428571,0.0,0.42857142857142855,1.0,2.142857142857143,90.14285714285714,48.642857142857146,96.64285714285714,0.07142857142857142,199.42857142857142]]) # Moicano\n",
    "\n",
    "# Convert numpy arrays to PyTorch tensors\n",
    "data_f1_tensor = torch.tensor(data_f1).float()\n",
    "data_f2_tensor = torch.tensor(data_f2).float()\n",
    "\n",
    "# Predict the outcomes using the trained neural network\n",
    "model.load_state_dict(torch.load('best_test_model.pth'))\n",
    "model.eval()\n",
    "with torch.no_grad():\n",
    "    pred_f1 = model(data_f1_tensor)\n",
    "    pred_f2 = model(data_f2_tensor)\n",
    "    prob_f1 = torch.nn.functional.softmax(pred_f1, dim=1)[:, 1]  # Probability of f_1 winning\n",
    "    prob_f2 = torch.nn.functional.softmax(pred_f2, dim=1)[:, 1]  # Probability of f_2 winning\n",
    "\n",
    "# Compare the probabilities and print the winner\n",
    "if prob_f1 > prob_f2:\n",
    "    print(\"Winner is f_1 \")\n",
    "else:\n",
    "    print(\"Winner is f_2 \")\n"
   ]
  },
  {
   "cell_type": "code",
   "execution_count": 16,
   "id": "620c4add",
   "metadata": {},
   "outputs": [],
   "source": [
    "# model = FightPredictor()\n",
    "# model.load_state_dict(torch.load('best_model.pth'))\n",
    "# model.eval"
   ]
  },
  {
   "cell_type": "code",
   "execution_count": 17,
   "id": "9ca17ece",
   "metadata": {},
   "outputs": [],
   "source": [
    "# new_fight_features = [2980,7,5,1,1,0,180.34,155.0,177.8,0.0,25,4,0,35.35934291581109,257.0,0.0,0.0,1.0,4.0,1429.0,886.0,1461.0,6.0,185.83333333333334]\n",
    "# new_fight_data_scaled = scaler.transform([new_fight_features])\n",
    "# new_fight_tensor = torch.tensor(new_fight_data_scaled).float()\n"
   ]
  },
  {
   "cell_type": "code",
   "execution_count": 18,
   "id": "a5a351c6",
   "metadata": {},
   "outputs": [],
   "source": [
    "# with torch.no_grad():\n",
    "#     prediction = model(new_fight_tensor)\n",
    "#     predicted_winner = torch.argmax(prediction, dim=1).item()\n",
    "\n",
    "# # Assuming 0 represents f_1 and 1 represents f_2 as the winner\n",
    "# winner = \"f_1\" if predicted_winner == 0 else \"f_2\"\n",
    "# print(f\"Predicted winner: {winner}\")\n",
    "# print(winner)"
   ]
  },
  {
   "cell_type": "code",
   "execution_count": 19,
   "id": "717b5191",
   "metadata": {},
   "outputs": [],
   "source": [
    "# scaler = StandardScaler()\n",
    "# X_train_scaled = scaler.fit_transform(X_train)\n",
    "# X_test_scaled = scaler.transform(X_test)\n",
    "\n",
    "# X_train_tensor = torch.tensor(X_train_scaled).float()\n",
    "# y_train_tensor = torch.tensor(y_train.to_numpy()).long()  \n",
    "# X_test_tensor = torch.tensor(X_test_scaled).float()\n",
    "# y_test_tensor = torch.tensor(y_test.to_numpy()).long()\n",
    "\n",
    "# # Creating Dataset and DataLoader\n",
    "# train_dataset = TensorDataset(X_train_tensor, y_train_tensor)\n",
    "# test_dataset = TensorDataset(X_test_tensor, y_test_tensor)\n",
    "\n"
   ]
  },
  {
   "cell_type": "code",
   "execution_count": 20,
   "id": "20f9e0e1",
   "metadata": {},
   "outputs": [
    {
     "name": "stdout",
     "output_type": "stream",
     "text": [
      "Predicted Class: 1\n"
     ]
    }
   ],
   "source": [
    "import numpy as np\n",
    "import pandas as pd\n",
    "import torch\n",
    "from sklearn.preprocessing import StandardScaler\n",
    "\n",
    "# Features used in the model\n",
    "features = [\n",
    "    \"f_1\", \"f_2\", \"num_rounds\", \"title_fight\", \"weight_class\", \"gender\",\n",
    "    \"fighter_height_cm\", \"fighter_weight_lbs\", \"fighter_reach_cm\",\n",
    "    \"fighter_stance\", \"fighter_w\", \"fighter_l\", \"fighter_d\", \"fighter_dob\",\n",
    "    'avg_ctrl_time', 'avg_reversals', 'avg_submission_att',\n",
    "    'avg_takedown_succ', 'avg_takedown_att', 'avg_sig_strikes_att',\n",
    "    'avg_total_strikes_succ', 'avg_total_strikes_att', 'avg_knockdowns',\n",
    "    'avg_finish_time'\n",
    "]\n",
    "\n",
    "# Data for prediction\n",
    "data = [\n",
    "    2902,2532,5,1,1,0,180.34,155.0,177.8,0.0,25,4,0,35.35934291581109,257.0,0.0,0.0,1.0,4.0,1429.0,886.0,1461.0,6.0,185.83333333333334\n",
    "\n",
    "]\n",
    "\n",
    "# Create DataFrame with proper columns\n",
    "df = pd.DataFrame([data], columns=features)\n",
    "\n",
    "# Initialize and fit scaler on the new data (this is a fallback, not recommended)\n",
    "scaler = StandardScaler()\n",
    "scaler.fit(df)  # Fit scaler to new data\n",
    "\n",
    "# Scale the data\n",
    "X_scaled = scaler.transform(df)\n",
    "\n",
    "# Convert scaled data to PyTorch tensor\n",
    "X_new = torch.tensor(X_scaled).float()\n",
    "\n",
    "# Load the best model\n",
    "model = FightPredictor()\n",
    "model.load_state_dict(torch.load('best_test_model.pth'))\n",
    "model.eval()\n",
    "\n",
    "# Predict\n",
    "with torch.no_grad():\n",
    "    outputs = model(X_new)\n",
    "    _, predicted = torch.max(outputs.data, 1)\n",
    "\n",
    "# Display Predicted Class\n",
    "print(\"Predicted Class:\", predicted.item())  # 0 for f_1 wins, 1 for f_2 wins\n"
   ]
  },
  {
   "cell_type": "code",
   "execution_count": null,
   "id": "07357543",
   "metadata": {},
   "outputs": [],
   "source": []
  },
  {
   "cell_type": "code",
   "execution_count": null,
   "id": "3bb9f864",
   "metadata": {},
   "outputs": [],
   "source": []
  }
 ],
 "metadata": {
  "kernelspec": {
   "display_name": "Python 3 (ipykernel)",
   "language": "python",
   "name": "python3"
  },
  "language_info": {
   "codemirror_mode": {
    "name": "ipython",
    "version": 3
   },
   "file_extension": ".py",
   "mimetype": "text/x-python",
   "name": "python",
   "nbconvert_exporter": "python",
   "pygments_lexer": "ipython3",
   "version": "3.10.12"
  }
 },
 "nbformat": 4,
 "nbformat_minor": 5
}
