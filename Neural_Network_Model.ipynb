{
 "cells": [
  {
   "cell_type": "code",
   "execution_count": 2,
   "id": "1908c404-f1a4-4b1f-af03-a89888c67535",
   "metadata": {},
   "outputs": [],
   "source": [
    "#Hello"
   ]
  },
  {
   "cell_type": "code",
   "execution_count": 3,
   "id": "5f59e507-e8df-425c-942f-fb16d0a44633",
   "metadata": {},
   "outputs": [],
   "source": [
    "import os\n",
    "import pandas as pd\n",
    "from torch.utils.data import DataLoader\n",
    "from datetime import datetime"
   ]
  },
  {
   "cell_type": "markdown",
   "id": "d6ec8edb",
   "metadata": {},
   "source": [
    "Load Datasets"
   ]
  },
  {
   "cell_type": "code",
   "execution_count": 4,
   "id": "dad496fb-ba62-4ee8-af4c-f14940e81945",
   "metadata": {},
   "outputs": [
    {
     "name": "stdout",
     "output_type": "stream",
     "text": [
      "Index(['fighter_id', 'fighter_f_name', 'fighter_l_name', 'fighter_nickname',\n",
      "       'fighter_height_cm', 'fighter_weight_lbs', 'fighter_reach_cm',\n",
      "       'fighter_stance', 'fighter_dob', 'fighter_w', 'fighter_l', 'fighter_d',\n",
      "       'fighter_nc_dq', 'fighter_url'],\n",
      "      dtype='object')\n"
     ]
    }
   ],
   "source": [
    "#Load the fight data\n",
    "fight_stats_df = pd.read_csv('datasets/ufc_fight_stat_data.csv')\n",
    "\n",
    "#Load fight data\n",
    "fight_data_df = pd.read_csv('datasets/ufc_fight_data.csv')\n",
    "\n",
    "#Load fighter data \n",
    "fighter_data_df = pd.read_csv('datasets/ufc_fighter_data.csv')\n",
    "\n",
    "#Load event data\n",
    "event_data_df = pd.read_csv('datasets/ufc_event_data.csv')\n",
    "\n",
    "print(fighter_data_df.columns)"
   ]
  },
  {
   "cell_type": "markdown",
   "id": "2708715e",
   "metadata": {},
   "source": [
    "Clean and Process Data"
   ]
  },
  {
   "cell_type": "code",
   "execution_count": 5,
   "id": "e3c5cf64",
   "metadata": {},
   "outputs": [],
   "source": [
    "#Convert data columns to datetime format\n",
    "fighter_data_df['fighter_dob'] = pd.to_datetime(fighter_data_df['fighter_dob'])\n",
    "\n",
    "#Handle Missing Value, if any\n",
    "fight_stats_df = fight_stats_df.dropna(subset=['fighter_id', 'ctrl_time'])\n",
    "fight_data_df = fight_data_df.dropna(subset=['fight_id', 'f_1', 'f_2', 'winner', 'num_rounds'])\n",
    "fighter_data_df = fighter_data_df.dropna(subset=['fighter_id', 'fighter_reach_cm', 'fighter_height_cm', 'fighter_stance', 'fighter_dob'])\n",
    "\n",
    "fighter_data_df['fighter_nc_dq'] = fighter_data_df['fighter_nc_dq'].fillna(0)\n",
    "fighter_data_df['fighter_stance'] = fighter_data_df['fighter_stance'].fillna(0)\n",
    "\n",
    "event_data_df = event_data_df.dropna(subset=['event_id'])\n",
    "\n",
    "#Encode categorical variables (if needed)\n",
    "fighter_data_df['fighter_stance'] = fighter_data_df['fighter_stance'].map({'Orthodox': 0, 'Southpaw': 1, 'Switch': 2})\n",
    "\n"
   ]
  },
  {
   "cell_type": "markdown",
   "id": "66d5c72e",
   "metadata": {},
   "source": [
    "Merge Datasets"
   ]
  },
  {
   "cell_type": "code",
   "execution_count": 6,
   "id": "a0d768d8",
   "metadata": {},
   "outputs": [],
   "source": [
    "    \n",
    "merged_df = pd.merge(fight_stats_df, fight_data_df, how='inner', on='fight_id')\n",
    "merged_df = pd.merge(merged_df, fighter_data_df, how='inner', on='fighter_id')\n",
    "merged_df = pd.merge(merged_df, event_data_df, how='inner', on='event_id')\n"
   ]
  },
  {
   "cell_type": "markdown",
   "id": "626c8a5c",
   "metadata": {},
   "source": [
    "Cleaning"
   ]
  },
  {
   "cell_type": "code",
   "execution_count": 7,
   "id": "4be13256",
   "metadata": {},
   "outputs": [],
   "source": [
    "# Convert ctrl_time from minute format to seconds\n",
    "def time_to_seconds(time_str):\n",
    "    if time_str == '--':\n",
    "        return None  # or any other suitable value, like np.nan\n",
    "    else:\n",
    "        minutes, seconds = map(int, time_str.split(':'))\n",
    "        return minutes * 60 + seconds\n",
    "    \n",
    "merged_df['ctrl_time'] = merged_df['ctrl_time'].apply(time_to_seconds)\n",
    "merged_df['finish_time'] = merged_df['finish_time'].apply(time_to_seconds)\n",
    "\n",
    "#Convert each column to unique ID\n",
    "merged_df['referee'] = pd.factorize(merged_df['referee'])[0]\n",
    "merged_df['event_city'] = pd.factorize(merged_df['event_city'])[0]\n",
    "merged_df['event_state'] = pd.factorize(merged_df['event_state'])[0]\n",
    "merged_df['event_country'] = pd.factorize(merged_df['event_country'])[0]\n",
    "merged_df['result_details'] = pd.factorize(merged_df['result_details'])[0]\n",
    "merged_df['title_fight'] = pd.factorize(merged_df['title_fight'])[0]\n",
    "merged_df['weight_class'] = pd.factorize(merged_df['weight_class'])[0]\n",
    "merged_df['gender'] = pd.factorize(merged_df['gender'])[0]\n",
    "merged_df['result'] = pd.factorize(merged_df['result'])[0]\n",
    "\n",
    "# NOTE: add column that contains value age at the event date\n",
    "\n",
    "# Convert num_rounds to int\n",
    "merged_df['num_rounds'] = pd.to_numeric(merged_df['num_rounds'], errors='coerce')\n",
    "\n",
    "\n",
    "# Convert dob to age in years at the date of 3/25/2024\n",
    "hard_coded_datetime = datetime(2024, 3, 25)\n",
    "merged_df['fighter_dob'] = (hard_coded_datetime.date() - pd.to_datetime(merged_df['fighter_dob']).dt.date).apply(lambda x: x.days / 365.25)\n",
    "\n",
    "\n",
    "# List of columns to drop (temp drop 'event_date' *add later*)\n",
    "cols_to_drop = ['fight_url_x', 'fighter_url', 'event_url', 'fight_url_x', \n",
    "                'fight_url_y', 'event_url', 'fighter_url', 'event_name', \n",
    "                'fighter_nickname', 'fighter_l_name', 'fighter_f_name', \n",
    "                'event_date', 'event_state', 'fight_id', 'finish_round',\n",
    "                'result_details'\n",
    "                ]\n",
    "\n",
    "# Drop the specified columns\n",
    "merged_df = merged_df.drop(columns=cols_to_drop)\n",
    "\n"
   ]
  },
  {
   "cell_type": "markdown",
   "id": "f80b383e",
   "metadata": {},
   "source": [
    "Create Cumulative Columns"
   ]
  },
  {
   "cell_type": "code",
   "execution_count": 8,
   "id": "a9beb051",
   "metadata": {},
   "outputs": [
    {
     "name": "stdout",
     "output_type": "stream",
     "text": [
      "Index(['fight_stat_id', 'fighter_id', 'knockdowns', 'total_strikes_att',\n",
      "       'total_strikes_succ', 'sig_strikes_att', 'sig_strikes_succ',\n",
      "       'takedown_att', 'takedown_succ', 'submission_att', 'reversals',\n",
      "       'ctrl_time', 'event_id', 'referee', 'f_1', 'f_2', 'winner',\n",
      "       'num_rounds', 'title_fight', 'weight_class', 'gender', 'result',\n",
      "       'finish_time', 'fighter_height_cm', 'fighter_weight_lbs',\n",
      "       'fighter_reach_cm', 'fighter_stance', 'fighter_dob', 'fighter_w',\n",
      "       'fighter_l', 'fighter_d', 'fighter_nc_dq', 'event_city',\n",
      "       'event_country', 'avg_ctrl_time', 'avg_reversals', 'avg_submission_att',\n",
      "       'avg_takedown_succ', 'avg_takedown_att', 'avg_sig_strikes_att',\n",
      "       'avg_total_strikes_succ', 'avg_total_strikes_att', 'avg_knockdowns',\n",
      "       'avg_finish_time'],\n",
      "      dtype='object')\n"
     ]
    }
   ],
   "source": [
    "#create avg column for ctrl_time\n",
    "\n",
    "# merged_df.sort_values(by=[\"fighter_id\", 'fight_stat_id'], ascending=[True, True], inplace=True)\n",
    "merged_df[\"avg_ctrl_time\"] = merged_df.groupby(\"fighter_id\")[\"ctrl_time\"].transform(lambda x: x.expanding().mean())\n",
    "# Cumulative for reversals\n",
    "merged_df[\"avg_reversals\"] = merged_df.groupby(\"fighter_id\")[\"reversals\"].transform(lambda x: x.expanding().mean())\n",
    "\n",
    "# for submission attempts\n",
    "merged_df[\"avg_submission_att\"] = merged_df.groupby(\"fighter_id\")[\"submission_att\"].transform(lambda x: x.expanding().mean())\n",
    "\n",
    "# for takedown succession\n",
    "merged_df[\"avg_takedown_succ\"] = merged_df.groupby(\"fighter_id\")[\"takedown_succ\"].transform(lambda x: x.expanding().mean())\n",
    "\n",
    "# for takedown attmepts \n",
    "merged_df[\"avg_takedown_att\"] = merged_df.groupby(\"fighter_id\")[\"takedown_att\"].transform(lambda x: x.expanding().mean())\n",
    "\n",
    "# for significant strike succession\n",
    "merged_df[\"avg_sig_strikes_att\"] = merged_df.groupby(\"fighter_id\")[\"sig_strikes_att\"].transform(lambda x: x.expanding().mean())\n",
    "\n",
    "# for total strikes succession\n",
    "merged_df[\"avg_total_strikes_succ\"] = merged_df.groupby(\"fighter_id\")[\"total_strikes_succ\"].transform(lambda x: x.expanding().mean())\n",
    "\n",
    "# for total strikes ATTEMPTS\n",
    "merged_df[\"avg_total_strikes_att\"] = merged_df.groupby(\"fighter_id\")[\"total_strikes_att\"].transform(lambda x: x.expanding().mean())\n",
    "\n",
    "# for knockdowns\n",
    "merged_df[\"avg_knockdowns\"] = merged_df.groupby(\"fighter_id\")[\"knockdowns\"].transform(lambda x: x.expanding().mean())\n",
    "\n",
    "# AVG finish Time\n",
    "merged_df['avg_finish_time'] = merged_df.groupby('fighter_id')['finish_time'].transform(lambda x: x.expanding().mean())\n",
    "\n",
    "\n",
    "# merged_df = pd.read_csv('final_set.csv')\n",
    "\n",
    "print(merged_df.columns)\n",
    "# print(\"num of columns\" , merged_df.shape[1])\n",
    "# print(merged_df['finish_time'])\n",
    "\n",
    "merged_df.to_csv('final_set(2).csv', index=False)\n"
   ]
  },
  {
   "cell_type": "markdown",
   "id": "fcb614d1",
   "metadata": {},
   "source": [
    "Remove original numeric stats"
   ]
  },
  {
   "cell_type": "code",
   "execution_count": 9,
   "id": "59e68e1a",
   "metadata": {},
   "outputs": [],
   "source": [
    "# Need to remove original numeric stats because they are independent and would be hard to implement when creating features for model\n",
    "temp_df = pd.read_csv('final_set(2).csv')\n",
    "\n",
    "drop_cols = ['knockdowns', 'total_strikes_att', 'total_strikes_succ',\n",
    "            'sig_strikes_att', 'sig_strikes_succ', 'takedown_att',\n",
    "            'takedown_succ', 'submission_att', 'reversals', 'ctrl_time',\n",
    "            'event_id', 'result', 'finish_time'\n",
    "            ]\n",
    "# temp_df = temp_df[temp_df['fight_stat_id'] > 1200]\n",
    "temp_df = merged_df.drop(columns=drop_cols)\n",
    "temp_df = temp_df.iloc[:10450]\n",
    "temp_df.sort_values(by=[\"fighter_id\", 'fight_stat_id'], ascending=[True, True], inplace=True)\n",
    "temp_df.to_csv('final_set(2).csv', index=False)"
   ]
  },
  {
   "cell_type": "markdown",
   "id": "8d0a9770",
   "metadata": {},
   "source": [
    "Random Forest Algo"
   ]
  },
  {
   "cell_type": "code",
   "execution_count": 23,
   "id": "76efda33",
   "metadata": {},
   "outputs": [
    {
     "name": "stdout",
     "output_type": "stream",
     "text": [
      "Accuracy: 0.6669856459330143\n"
     ]
    }
   ],
   "source": [
    "from sklearn.model_selection import train_test_split\n",
    "from sklearn.preprocessing import StandardScaler\n",
    "from sklearn.ensemble import RandomForestClassifier\n",
    "from sklearn.metrics import accuracy_score\n",
    "import warnings\n",
    "\n",
    "warnings.filterwarnings(\"ignore\", category=UserWarning)\n",
    "\n",
    "merged_df = pd.read_csv('final_set(2).csv')\n",
    "data = merged_df\n",
    "df = pd.DataFrame(data)\n",
    "\n",
    "# Creating a binary target variable indicating whether the fighter won or not.\n",
    "df['is_winner'] = df['fighter_id'] == df['winner']\n",
    "\n",
    "# Selecting features for the model\n",
    "features = [\n",
    "    \"f_1\",\"f_2\",\"num_rounds\", \"title_fight\", \"weight_class\", \"gender\", \n",
    "    \"fighter_height_cm\", \"fighter_weight_lbs\", \"fighter_reach_cm\", \n",
    "    \"fighter_stance\", \"fighter_w\", \"fighter_l\", \"fighter_d\", \"fighter_dob\",\n",
    "    'avg_ctrl_time', 'avg_reversals', 'avg_submission_att', \n",
    "    'avg_takedown_succ', 'avg_takedown_att', 'avg_sig_strikes_att',\n",
    "    'avg_total_strikes_succ', 'avg_total_strikes_att', 'avg_knockdowns',\n",
    "    'avg_finish_time'\n",
    "]\n",
    "X = df[features]\n",
    "y = df['is_winner']\n",
    "\n",
    "# Splitting the dataset into training and testing sets\n",
    "X_train, X_test, y_train, y_test = train_test_split(X, y, test_size=0.2, random_state=42)\n",
    "\n",
    "# Normalizing the feature set\n",
    "scaler = StandardScaler()\n",
    "X_train_scaled = scaler.fit_transform(X_train)\n",
    "X_test_scaled = scaler.transform(X_test)\n",
    "\n",
    "# Training a Random Forest Classifier\n",
    "clf = RandomForestClassifier(n_estimators=100, random_state=42)\n",
    "clf.fit(X_train_scaled, y_train)\n",
    "\n",
    "# Predicting and evaluating the model\n",
    "y_pred = clf.predict(X_test_scaled)\n",
    "accuracy = accuracy_score(y_test, y_pred)\n",
    "\n",
    "# Print the accuracy\n",
    "print(\"Accuracy:\", accuracy)"
   ]
  },
  {
   "cell_type": "code",
   "execution_count": 24,
   "id": "7df1eda2",
   "metadata": {},
   "outputs": [
    {
     "name": "stdout",
     "output_type": "stream",
     "text": [
      "Winner is f_1 with probability: 0.76\n"
     ]
    }
   ],
   "source": [
    "import numpy as np\n",
    "\n",
    "warnings.filterwarnings(\"ignore\", category=UserWarning)\n",
    "\n",
    "\n",
    "# Example feature arrays for f_1 and f_2\n",
    "# These should include all the features used by your model, except the 'fighter_id'.\n",
    "data_f1 = np.array([[2902,2532,5,1,0,0,180.34,155.0,177.8,0.0,25,4,0,35.35934291581109,21.416666666666668,0.0,0.0,0.08333333333333333,0.3333333333333333,119.08333333333333,73.83333333333333,121.75,0.5,185.83333333333334]]) # Justin    \n",
    "data_f2 = np.array([[2532,2902,5,1,0,0,180.34,145.0,175.26,0.0,25,7,0,32.3066392881588,59.76,0.0,0.4,0.32,0.6,251.64,131.28,262.52,0.32,259.12]]) # Max\n",
    "\n",
    "# Scale the data using the existing scaler\n",
    "data_f1_scaled = scaler.transform(data_f1)\n",
    "data_f2_scaled = scaler.transform(data_f2)\n",
    "\n",
    "# Predict the outcomes using the trained classifier\n",
    "pred_f1 = clf.predict_proba(data_f1_scaled)[0][1]  # Probability of f_1 winning\n",
    "pred_f2 = clf.predict_proba(data_f2_scaled)[0][1]  # Probability of f_2 winning\n",
    "\n",
    "# Compare the probabilities and print the winner\n",
    "if pred_f1 > pred_f2:\n",
    "    print(\"Winner is f_1 with probability:\", pred_f1)\n",
    "else:\n",
    "    print(\"Winner is f_2 with probability:\", pred_f2)\n"
   ]
  },
  {
   "cell_type": "markdown",
   "id": "40b93089",
   "metadata": {},
   "source": [
    "Preprocessing for Neural Network"
   ]
  },
  {
   "cell_type": "code",
   "execution_count": 12,
   "id": "d27ede16",
   "metadata": {},
   "outputs": [],
   "source": [
    "import numpy as np\n",
    "import pandas as pd\n",
    "\n",
    "#X_train_scaled is a numpy array; convert it to a DataFrame for easier manipulation\n",
    "df_train_features = pd.DataFrame(X_train_scaled)\n",
    "\n",
    "# Handling NaN values by imputation\n",
    "df_train_features.fillna(df_train_features.mean(), inplace=True)\n",
    "\n",
    "# Handling infinite values by replacing them with NaN and then imputing\n",
    "df_train_features.replace([np.inf, -np.inf], np.nan, inplace=True)\n",
    "df_train_features.fillna(df_train_features.mean(), inplace=True)\n",
    "\n",
    "# Convert back to numpy array if necessary\n",
    "X_train_scaled_clean = df_train_features.to_numpy()\n"
   ]
  },
  {
   "cell_type": "markdown",
   "id": "d5e7f7a4",
   "metadata": {},
   "source": [
    "Check for NaNs or infinite values in numpy\n"
   ]
  },
  {
   "cell_type": "code",
   "execution_count": 13,
   "id": "13a9a6b6",
   "metadata": {},
   "outputs": [],
   "source": [
    "# Example check for NaNs or infinite values in numpy\n",
    "import numpy as np\n",
    "\n",
    "# Assuming X_train_scaled is a numpy array\n",
    "if np.isnan(X_train_scaled).any() or np.isinf(X_train_scaled).any():\n",
    "    print(\"Training features contain NaN or infinite values.\")\n",
    "if np.isnan(y_train.values).any():\n",
    "    print(\"Training labels contain NaN values.\")\n",
    "    "
   ]
  },
  {
   "cell_type": "markdown",
   "id": "94688e60",
   "metadata": {},
   "source": [
    "Neural Network"
   ]
  },
  {
   "cell_type": "code",
   "execution_count": 14,
   "id": "441042e7",
   "metadata": {},
   "outputs": [
    {
     "name": "stdout",
     "output_type": "stream",
     "text": [
      "Epoch 1/70, Training Loss: 0.6376321222100939, Validation Loss: 0.5974725517961714\n",
      "Epoch 2/70, Training Loss: 0.6130041380723318, Validation Loss: 0.5948543007727023\n",
      "Epoch 3/70, Training Loss: 0.6120103986490341, Validation Loss: 0.59455022988496\n",
      "Epoch 4/70, Training Loss: 0.6118969125407082, Validation Loss: 0.5863441030184428\n",
      "Epoch 5/70, Training Loss: 0.6087053764434088, Validation Loss: 0.5817489756478204\n",
      "Epoch 6/70, Training Loss: 0.6109134489581698, Validation Loss: 0.5873335312913965\n",
      "Epoch 7/70, Training Loss: 0.6080628667558943, Validation Loss: 0.5960609670038577\n",
      "Epoch 8/70, Training Loss: 0.6027617377894265, Validation Loss: 0.5992012112228958\n",
      "Epoch 9/70, Training Loss: 0.61173572852498, Validation Loss: 0.5919650219104908\n",
      "Epoch 10/70, Training Loss: 0.6063925175439744, Validation Loss: 0.6030205311598601\n",
      "Epoch 11/70, Training Loss: 0.5947187579813458, Validation Loss: 0.5829593848299097\n",
      "Epoch 12/70, Training Loss: 0.5842763228075845, Validation Loss: 0.5811941535384567\n",
      "Epoch 13/70, Training Loss: 0.5814510223411379, Validation Loss: 0.5819890123826487\n",
      "Epoch 14/70, Training Loss: 0.5796238842464628, Validation Loss: 0.5812581424359922\n",
      "Epoch 15/70, Training Loss: 0.5802524731272742, Validation Loss: 0.5814516268394612\n",
      "Epoch 16/70, Training Loss: 0.5808803768385025, Validation Loss: 0.580244207823718\n",
      "Epoch 17/70, Training Loss: 0.5756572609856015, Validation Loss: 0.5767284995979733\n",
      "Epoch 18/70, Training Loss: 0.5684093898250944, Validation Loss: 0.5768016013834212\n",
      "Epoch 19/70, Training Loss: 0.5692697811694373, Validation Loss: 0.5761390780961072\n",
      "Epoch 20/70, Training Loss: 0.5739347628184728, Validation Loss: 0.5759649486453445\n",
      "Epoch 21/70, Training Loss: 0.5705605146430788, Validation Loss: 0.5762049081148924\n",
      "Epoch 22/70, Training Loss: 0.5682009836037953, Validation Loss: 0.5760424368911319\n",
      "Epoch 23/70, Training Loss: 0.5641472947029841, Validation Loss: 0.5759937321698224\n",
      "Epoch 24/70, Training Loss: 0.573806167216528, Validation Loss: 0.5757491125000848\n",
      "Epoch 25/70, Training Loss: 0.5684814870357513, Validation Loss: 0.5754622298258322\n",
      "Epoch 26/70, Training Loss: 0.56605964189484, Validation Loss: 0.5754517692106741\n",
      "Epoch 27/70, Training Loss: 0.5718858645075844, Validation Loss: 0.5754075756779423\n",
      "Epoch 28/70, Training Loss: 0.5638725697994232, Validation Loss: 0.5753893631475943\n",
      "Epoch 29/70, Training Loss: 0.565839398758752, Validation Loss: 0.5750652982128991\n",
      "Epoch 30/70, Training Loss: 0.5649786057926359, Validation Loss: 0.5751185361985807\n",
      "Epoch 31/70, Training Loss: 0.5668860742024013, Validation Loss: 0.5751132093094014\n",
      "Epoch 32/70, Training Loss: 0.5657339416799091, Validation Loss: 0.5750547768893065\n",
      "Epoch 33/70, Training Loss: 0.563960347856794, Validation Loss: 0.5750603808297051\n",
      "Epoch 34/70, Training Loss: 0.5676705658435821, Validation Loss: 0.5750447754506711\n",
      "Epoch 35/70, Training Loss: 0.5637246066615695, Validation Loss: 0.575014571348826\n",
      "Epoch 36/70, Training Loss: 0.5635296855654035, Validation Loss: 0.5749944614039527\n",
      "Epoch 37/70, Training Loss: 0.5701609773295266, Validation Loss: 0.5749682971724758\n",
      "Epoch 38/70, Training Loss: 0.5687153311002822, Validation Loss: 0.5749639261651922\n",
      "Epoch 39/70, Training Loss: 0.5688053871904101, Validation Loss: 0.5749839731940517\n",
      "Epoch 40/70, Training Loss: 0.567826434260323, Validation Loss: 0.574995133611891\n",
      "Epoch 41/70, Training Loss: 0.5647079865137736, Validation Loss: 0.57499556850504\n",
      "Epoch 42/70, Training Loss: 0.5696036900792804, Validation Loss: 0.5749932063950433\n",
      "Epoch 43/70, Training Loss: 0.5695055005096253, Validation Loss: 0.5749911963939667\n",
      "Epoch 44/70, Training Loss: 0.5709535005546752, Validation Loss: 0.5749904976950752\n",
      "Epoch 45/70, Training Loss: 0.5729448060194652, Validation Loss: 0.5749914083215926\n",
      "Epoch 46/70, Training Loss: 0.5657496582894098, Validation Loss: 0.5749922858344184\n",
      "Epoch 47/70, Training Loss: 0.5640206504435766, Validation Loss: 0.5749885484024331\n",
      "Epoch 48/70, Training Loss: 0.5709579195295061, Validation Loss: 0.5749935275978513\n",
      "Epoch 49/70, Training Loss: 0.5707096264475868, Validation Loss: 0.5749949901192276\n",
      "Epoch 50/70, Training Loss: 0.5699831216108231, Validation Loss: 0.5749965089338797\n",
      "Epoch 51/70, Training Loss: 0.5698168814182282, Validation Loss: 0.574996687747814\n",
      "Epoch 52/70, Training Loss: 0.5647342063131786, Validation Loss: 0.5749965552930478\n",
      "Epoch 53/70, Training Loss: 0.5677957006863186, Validation Loss: 0.5749964912732443\n",
      "Epoch 54/70, Training Loss: 0.5695130932898749, Validation Loss: 0.5749964846505059\n",
      "Epoch 55/70, Training Loss: 0.5606195685409364, Validation Loss: 0.5749964173193332\n",
      "Epoch 56/70, Training Loss: 0.5689563842046829, Validation Loss: 0.5749961181923195\n",
      "Epoch 57/70, Training Loss: 0.5652992779300327, Validation Loss: 0.5749959327556469\n",
      "Epoch 58/70, Training Loss: 0.5646779261884235, Validation Loss: 0.5749956479778996\n",
      "Epoch 59/70, Training Loss: 0.5618635855969929, Validation Loss: 0.574995877566161\n",
      "Epoch 60/70, Training Loss: 0.5665235902581897, Validation Loss: 0.5749960011906095\n",
      "Epoch 61/70, Training Loss: 0.5701450804869334, Validation Loss: 0.5749960133322963\n",
      "Epoch 62/70, Training Loss: 0.568877322049368, Validation Loss: 0.5749960100209272\n",
      "Epoch 63/70, Training Loss: 0.5692596035344261, Validation Loss: 0.5749960309929318\n",
      "Epoch 64/70, Training Loss: 0.5634334237802596, Validation Loss: 0.5749960177474551\n",
      "Epoch 65/70, Training Loss: 0.5653964127813067, Validation Loss: 0.5749960309929318\n",
      "Epoch 66/70, Training Loss: 0.5665156483650208, Validation Loss: 0.5749960276815627\n",
      "Epoch 67/70, Training Loss: 0.5680656506901696, Validation Loss: 0.5749960210588243\n",
      "Epoch 68/70, Training Loss: 0.5662473848887852, Validation Loss: 0.5749960343043009\n",
      "Epoch 69/70, Training Loss: 0.5687556618735904, Validation Loss: 0.5749960453421982\n",
      "Epoch 70/70, Training Loss: 0.5651637014888582, Validation Loss: 0.5749960607952542\n",
      "Accuracy of the network on the test dataset: 70.23923444976077%\n"
     ]
    }
   ],
   "source": [
    "import torch\n",
    "import torch.nn as nn\n",
    "import torch.optim as optim\n",
    "from torch.utils.data import DataLoader, TensorDataset, random_split\n",
    "from torch.optim.lr_scheduler import StepLR\n",
    "import matplotlib.pyplot as plt\n",
    "\n",
    "\n",
    "# Convert data to PyTorch tensors, ensuring y_train and y_test are converted from pandas Series to numpy arrays first\n",
    "X_train_tensor = torch.tensor(X_train_scaled).float()\n",
    "y_train_tensor = torch.tensor(y_train.to_numpy()).long()  \n",
    "X_test_tensor = torch.tensor(X_test_scaled).float()\n",
    "y_test_tensor = torch.tensor(y_test.to_numpy()).long()\n",
    "\n",
    "# Creating Dataset and DataLoader\n",
    "train_dataset = TensorDataset(X_train_tensor, y_train_tensor)\n",
    "test_dataset = TensorDataset(X_test_tensor, y_test_tensor)\n",
    "\n",
    "# Splitting train dataset into train and validation sets\n",
    "train_size = int(0.8 * len(train_dataset))\n",
    "val_size = len(train_dataset) - train_size\n",
    "train_dataset, val_dataset = random_split(train_dataset, [train_size, val_size])\n",
    "\n",
    "batch_size = 64\n",
    "train_loader = DataLoader(train_dataset, batch_size=batch_size, shuffle=True)\n",
    "val_loader = DataLoader(val_dataset, batch_size=batch_size, shuffle=False)\n",
    "test_loader = DataLoader(test_dataset, batch_size=batch_size)\n",
    "\n",
    "# Neural Network Model with Dropout\n",
    "class FightPredictor(nn.Module):\n",
    "    def __init__(self):\n",
    "        super(FightPredictor, self).__init__()\n",
    "        self.fc1 = nn.Linear(X_train_scaled.shape[1], 128)\n",
    "        self.dropout1 = nn.Dropout(0.5)  # Adding dropout\n",
    "        self.fc2 = nn.Linear(128, 64)\n",
    "        self.dropout2 = nn.Dropout(0.5)  # Adding dropout\n",
    "        self.fc3 = nn.Linear(64, 2)\n",
    "\n",
    "    def forward(self, x):\n",
    "        x = torch.relu(self.fc1(x))\n",
    "        x = self.dropout1(x)\n",
    "        x = torch.relu(self.fc2(x))\n",
    "        x = self.dropout2(x)\n",
    "        x = self.fc3(x)\n",
    "        return x\n",
    "\n",
    "model = FightPredictor()\n",
    "\n",
    "# Loss and Optimizer\n",
    "criterion = nn.CrossEntropyLoss()\n",
    "optimizer = optim.Adam(model.parameters(), lr=0.01)\n",
    "\n",
    "# Learning Rate Scheduler\n",
    "scheduler = StepLR(optimizer, step_size=10, gamma=0.1)\n",
    "\n",
    "# Training with Early Stopping\n",
    "num_epochs = 70\n",
    "best_val_loss = float('inf')\n",
    "\n",
    "training_losses = []\n",
    "validation_losses = []\n",
    "\n",
    "for epoch in range(num_epochs):\n",
    "    model.train()  # Set model to training mode\n",
    "    running_loss = 0.0\n",
    "    \n",
    "    for inputs, labels in train_loader:\n",
    "        optimizer.zero_grad()\n",
    "        outputs = model(inputs)\n",
    "        loss = criterion(outputs, labels)\n",
    "        loss.backward()\n",
    "        optimizer.step()\n",
    "        running_loss += loss.item()\n",
    "    \n",
    "    training_loss = running_loss / len(train_loader)\n",
    "    training_losses.append(training_loss)\n",
    "\n",
    "    # Validation loss\n",
    "    model.eval()  # Set model to evaluation mode\n",
    "    val_loss = 0.0\n",
    "    with torch.no_grad():\n",
    "        for inputs, labels in val_loader:\n",
    "            outputs = model(inputs)\n",
    "            loss = criterion(outputs, labels)\n",
    "            val_loss += loss.item()\n",
    "\n",
    "    validation_loss = val_loss / len(val_loader)\n",
    "    validation_losses.append(validation_loss)\n",
    "    \n",
    "    if val_loss < best_val_loss:\n",
    "        best_val_loss = val_loss\n",
    "        # Save the best model\n",
    "        torch.save(model.state_dict(), 'best_test_model(4).pth')\n",
    "    \n",
    "    scheduler.step()  # Update learning rate\n",
    "    \n",
    "    print(f'Epoch {epoch+1}/{num_epochs}, Training Loss: {running_loss/len(train_loader)}, Validation Loss: {val_loss/len(val_loader)}')\n",
    "\n",
    "# Load the best model for testing\n",
    "model.load_state_dict(torch.load('best_test_model(4).pth'))\n",
    "\n",
    "# Evaluate the model\n",
    "model.eval()\n",
    "correct = 0\n",
    "total = 0\n",
    "with torch.no_grad():\n",
    "    for inputs, labels in test_loader:\n",
    "        outputs = model(inputs)\n",
    "        _, predicted = torch.max(outputs.data, 1)\n",
    "        total += labels.size(0)\n",
    "        correct += (predicted == labels).sum().item()\n",
    "\n",
    "print(f'Accuracy of the network on the test dataset: {100 * correct / total}%')\n"
   ]
  },
  {
   "cell_type": "code",
   "execution_count": 15,
   "id": "4f293f2e",
   "metadata": {},
   "outputs": [
    {
     "data": {
      "image/png": "[encoded data removed]",
      "text/plain": [
       "<Figure size 432x288 with 1 Axes>"
      ]
     },
     "metadata": {
      "needs_background": "light"
     },
     "output_type": "display_data"
    }
   ],
   "source": [
    "plt.plot(training_losses, label='Training Loss')\n",
    "plt.plot(validation_losses, label='Validation Loss')\n",
    "plt.xlabel('Epochs')\n",
    "plt.ylabel('Loss')\n",
    "plt.legend()\n",
    "plt.show()\n"
   ]
  },
  {
   "cell_type": "markdown",
   "id": "c012b732",
   "metadata": {},
   "source": [
    "Testing New Unseen Data"
   ]
  },
  {
   "cell_type": "code",
   "execution_count": 22,
   "id": "7428c7d9",
   "metadata": {},
   "outputs": [
    {
     "name": "stdout",
     "output_type": "stream",
     "text": [
      "Winner is f_2 \n"
     ]
    }
   ],
   "source": [
    "import numpy as np\n",
    "\n",
    "# Example feature arrays for two fighters (ensure these feature arrays match the input dimensions expected by the model)\n",
    "data_f1 = np.array([[2728,1693,3,0,0,0,177.8,155.0,180.34,0.0,30,14,1,37.541409993155376,113.75,0.2,0.25,0.95,2.35,141.7,87.35,154.1,0.15,268.75]]) # Bobby Green \n",
    "data_f2 = np.array([[1693,2728,3,0,0,0,172.72,155.0,180.34,1.0,36,17,0,40.56947296372348,83.0,0.10714285714285714,0.7142857142857143,0.75,1.7857142857142858,64.64285714285714,37.32142857142857,74.32142857142857,0.10714285714285714,206.14285714285714]]) # Miller \n",
    "\n",
    "# Convert numpy arrays to PyTorch tensors\n",
    "data_f1_tensor = torch.tensor(data_f1).float()\n",
    "data_f2_tensor = torch.tensor(data_f2).float()\n",
    "\n",
    "# Predict the outcomes using the trained neural network\n",
    "model.load_state_dict(torch.load('best_test_model(3).pth'))\n",
    "model.eval()\n",
    "with torch.no_grad():\n",
    "    pred_f1 = model(data_f1_tensor)\n",
    "    pred_f2 = model(data_f2_tensor)\n",
    "    prob_f1 = torch.nn.functional.softmax(pred_f1, dim=1)[:, 1]  # Probability of f_1 winning\n",
    "    prob_f2 = torch.nn.functional.softmax(pred_f2, dim=1)[:, 1]  # Probability of f_2 winning\n",
    "\n",
    "# Compare the probabilities and print the winner\n",
    "if prob_f1 > prob_f2:\n",
    "    print(\"Winner is f_1 \")\n",
    "else:\n",
    "    print(\"Winner is f_2 \")\n"
   ]
  },
  {
   "cell_type": "code",
   "execution_count": null,
   "id": "6291d17a",
   "metadata": {},
   "outputs": [],
   "source": []
  }
 ],
 "metadata": {
  "kernelspec": {
   "display_name": "Python 3 (ipykernel)",
   "language": "python",
   "name": "python3"
  },
  "language_info": {
   "codemirror_mode": {
    "name": "ipython",
    "version": 3
   },
   "file_extension": ".py",
   "mimetype": "text/x-python",
   "name": "python",
   "nbconvert_exporter": "python",
   "pygments_lexer": "ipython3",
   "version": "3.10.12"
  }
 },
 "nbformat": 4,
 "nbformat_minor": 5
}
