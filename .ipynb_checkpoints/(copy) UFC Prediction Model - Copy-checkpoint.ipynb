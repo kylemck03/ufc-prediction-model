{
 "cells": [
  {
   "cell_type": "code",
   "execution_count": 257,
   "id": "1908c404-f1a4-4b1f-af03-a89888c67535",
   "metadata": {},
   "outputs": [],
   "source": [
    "#Hello"
   ]
  },
  {
   "cell_type": "code",
   "execution_count": 258,
   "id": "5f59e507-e8df-425c-942f-fb16d0a44633",
   "metadata": {},
   "outputs": [],
   "source": [
    "import os\n",
    "import pandas as pd\n",
    "from torch.utils.data import DataLoader\n",
    "from datetime import datetime"
   ]
  },
  {
   "cell_type": "code",
   "execution_count": 259,
   "id": "8e0c4224-db85-4c30-a4cc-2c9601895b30",
   "metadata": {},
   "outputs": [
    {
     "name": "stdout",
     "output_type": "stream",
     "text": [
      "Using cuda device\n"
     ]
    }
   ],
   "source": [
    "device = (\n",
    "    \"cuda\"\n",
    "    if torch.cuda.is_available()\n",
    "    else \"mps\"\n",
    "    if torch.backends.mps.is_available()\n",
    "    else \"cpu\"\n",
    ")\n",
    "print(f\"Using {device} device\")"
   ]
  },
  {
   "cell_type": "markdown",
   "id": "d6ec8edb",
   "metadata": {},
   "source": [
    "Load Datasets"
   ]
  },
  {
   "cell_type": "code",
   "execution_count": 260,
   "id": "dad496fb-ba62-4ee8-af4c-f14940e81945",
   "metadata": {},
   "outputs": [
    {
     "name": "stdout",
     "output_type": "stream",
     "text": [
      "Index(['fighter_id', 'fighter_f_name', 'fighter_l_name', 'fighter_nickname',\n",
      "       'fighter_height_cm', 'fighter_weight_lbs', 'fighter_reach_cm',\n",
      "       'fighter_stance', 'fighter_dob', 'fighter_w', 'fighter_l', 'fighter_d',\n",
      "       'fighter_nc_dq', 'fighter_url'],\n",
      "      dtype='object')\n"
     ]
    }
   ],
   "source": [
    "#Load the fight data\n",
    "fight_stats_df = pd.read_csv('datasets/ufc_fight_stat_data.csv')\n",
    "\n",
    "#Load fight data\n",
    "fight_data_df = pd.read_csv('datasets/ufc_fight_data.csv')\n",
    "\n",
    "#Load fighter data \n",
    "fighter_data_df = pd.read_csv('datasets/ufc_fighter_data.csv')\n",
    "\n",
    "#Load event data\n",
    "event_data_df = pd.read_csv('datasets/ufc_event_data.csv')\n",
    "\n",
    "print(fighter_data_df.columns)"
   ]
  },
  {
   "cell_type": "markdown",
   "id": "2708715e",
   "metadata": {},
   "source": [
    "Clean and Process Data"
   ]
  },
  {
   "cell_type": "code",
   "execution_count": 261,
   "id": "e3c5cf64",
   "metadata": {},
   "outputs": [],
   "source": [
    "#Convert data columns to datetime format\n",
    "fighter_data_df['fighter_dob'] = pd.to_datetime(fighter_data_df['fighter_dob'])\n",
    "\n",
    "#Handle Missing Value, if any\n",
    "fight_stats_df = fight_stats_df.dropna(subset=['fighter_id', 'ctrl_time'])\n",
    "fight_data_df = fight_data_df.dropna(subset=['fight_id', 'f_1', 'f_2', 'winner', 'num_rounds'])\n",
    "fighter_data_df = fighter_data_df.dropna(subset=['fighter_id', 'fighter_reach_cm', 'fighter_height_cm', 'fighter_stance', 'fighter_dob'])\n",
    "\n",
    "fighter_data_df['fighter_nc_dq'] = fighter_data_df['fighter_nc_dq'].fillna(0)\n",
    "fighter_data_df['fighter_stance'] = fighter_data_df['fighter_stance'].fillna(0)\n",
    "\n",
    "event_data_df = event_data_df.dropna(subset=['event_id'])\n",
    "\n",
    "#Encode categorical variables (if needed)\n",
    "fighter_data_df['fighter_stance'] = fighter_data_df['fighter_stance'].map({'Orthodox': 0, 'Southpaw': 1, 'Switch': 2})\n",
    "\n"
   ]
  },
  {
   "cell_type": "markdown",
   "id": "66d5c72e",
   "metadata": {},
   "source": [
    "Merge Datasets"
   ]
  },
  {
   "cell_type": "code",
   "execution_count": 262,
   "id": "a0d768d8",
   "metadata": {},
   "outputs": [],
   "source": [
    "    \n",
    "merged_df = pd.merge(fight_stats_df, fight_data_df, how='inner', on='fight_id')\n",
    "merged_df = pd.merge(merged_df, fighter_data_df, how='inner', on='fighter_id')\n",
    "merged_df = pd.merge(merged_df, event_data_df, how='inner', on='event_id')\n"
   ]
  },
  {
   "cell_type": "markdown",
   "id": "626c8a5c",
   "metadata": {},
   "source": [
    "Cleaning"
   ]
  },
  {
   "cell_type": "code",
   "execution_count": 263,
   "id": "4be13256",
   "metadata": {},
   "outputs": [
    {
     "name": "stdout",
     "output_type": "stream",
     "text": [
      "Index(['fight_stat_id', 'fight_id', 'fighter_id', 'knockdowns',\n",
      "       'total_strikes_att', 'total_strikes_succ', 'sig_strikes_att',\n",
      "       'sig_strikes_succ', 'takedown_att', 'takedown_succ', 'submission_att',\n",
      "       'reversals', 'ctrl_time', 'event_id', 'referee', 'f_1', 'f_2', 'winner',\n",
      "       'num_rounds', 'title_fight', 'weight_class', 'gender', 'result',\n",
      "       'result_details', 'finish_round', 'finish_time', 'fighter_height_cm',\n",
      "       'fighter_weight_lbs', 'fighter_reach_cm', 'fighter_stance',\n",
      "       'fighter_dob', 'fighter_w', 'fighter_l', 'fighter_d', 'fighter_nc_dq',\n",
      "       'event_city', 'event_country'],\n",
      "      dtype='object')\n",
      "num of columns 37\n"
     ]
    }
   ],
   "source": [
    "# Convert ctrl_time from minute format to seconds\n",
    "def time_to_seconds(time_str):\n",
    "    if time_str == '--':\n",
    "        return None  # or any other suitable value, like np.nan\n",
    "    else:\n",
    "        minutes, seconds = map(int, time_str.split(':'))\n",
    "        return minutes * 60 + seconds\n",
    "    \n",
    "merged_df['ctrl_time'] = merged_df['ctrl_time'].apply(time_to_seconds)\n",
    "merged_df['finish_time'] = merged_df['finish_time'].apply(time_to_seconds)\n",
    "\n",
    "#Convert each column to unique ID\n",
    "merged_df['referee'] = pd.factorize(merged_df['referee'])[0]\n",
    "merged_df['event_city'] = pd.factorize(merged_df['event_city'])[0]\n",
    "merged_df['event_state'] = pd.factorize(merged_df['event_state'])[0]\n",
    "merged_df['event_country'] = pd.factorize(merged_df['event_country'])[0]\n",
    "merged_df['result_details'] = pd.factorize(merged_df['result_details'])[0]\n",
    "merged_df['title_fight'] = pd.factorize(merged_df['title_fight'])[0]\n",
    "merged_df['weight_class'] = pd.factorize(merged_df['weight_class'])[0]\n",
    "merged_df['gender'] = pd.factorize(merged_df['gender'])[0]\n",
    "merged_df['result'] = pd.factorize(merged_df['result'])[0]\n",
    "\n",
    "# NOTE: add column that contains value age at the event date\n",
    "\n",
    "# Convert num_rounds to int\n",
    "merged_df['num_rounds'] = pd.to_numeric(merged_df['num_rounds'], errors='coerce')\n",
    "\n",
    "\n",
    "# Convert dob to age in years at the date of 3/25/2024\n",
    "hard_coded_datetime = datetime(2024, 3, 25)\n",
    "merged_df['fighter_dob'] = (hard_coded_datetime.date() - pd.to_datetime(merged_df['fighter_dob']).dt.date).apply(lambda x: x.days / 365.25)\n",
    "\n",
    "\n",
    "# List of columns to drop (temp drop 'event_date' *add later*)\n",
    "cols_to_drop = ['fight_url_x', 'fighter_url', 'event_url', 'fight_url_x', 'fight_url_y', 'event_url', 'fighter_url', 'event_name', 'fighter_nickname', 'fighter_l_name', 'fighter_f_name', 'event_date', 'event_state']\n",
    "\n",
    "# Drop the specified columns\n",
    "merged_df = merged_df.drop(columns=cols_to_drop)\n",
    "\n",
    "\n",
    "# merged_df = pd.read_csv('final_set.csv')\n",
    "merged_df.to_csv('final.csv', index=False)\n",
    "\n",
    "print(merged_df.columns)\n",
    "print(\"num of columns\" , merged_df.shape[1])"
   ]
  },
  {
   "cell_type": "markdown",
   "id": "4da8c5cc",
   "metadata": {},
   "source": [
    "Split the Data into features and Target"
   ]
  },
  {
   "cell_type": "code",
   "execution_count": 264,
   "id": "27900df1",
   "metadata": {},
   "outputs": [],
   "source": [
    "import torch\n",
    "import torch.nn as nn\n",
    "import torch.nn.functional as F"
   ]
  },
  {
   "cell_type": "code",
   "execution_count": 265,
   "id": "fa394873",
   "metadata": {},
   "outputs": [],
   "source": [
    "class Model(nn.Module):\n",
    "    # Input layer (x amount of features)\n",
    "    # Hidden Layer1 (number of neurons)\n",
    "    # H2 (n) -->\n",
    "    # Output (winner or loser)\n",
    "\n",
    "    def __init__(self, in_features=36, h1=8, h2=9, out_features = 1515):\n",
    "        super().__init__()\n",
    "        self.fc1 = nn.Linear(in_features, h1)\n",
    "        self.fc2 = nn.Linear(h1,h2)\n",
    "        self.out = nn.Linear(h2, out_features)\n",
    "\n",
    "    def forward(self, x):\n",
    "        x = F.relu(self.fc1(x))\n",
    "        x = F.relu(self.fc2(x))\n",
    "        x = self.out(x)\n",
    "        return x "
   ]
  },
  {
   "cell_type": "code",
   "execution_count": 266,
   "id": "1adb674a",
   "metadata": {},
   "outputs": [],
   "source": [
    "# Pick a manual seed for randomization\n",
    "torch.manual_seed = 41\n",
    "\n",
    "model = Model()"
   ]
  },
  {
   "cell_type": "code",
   "execution_count": 267,
   "id": "53c6a190",
   "metadata": {},
   "outputs": [],
   "source": [
    "import matplotlib.pyplot as plt\n",
    "%matplotlib inline\n",
    "\n",
    "my_df = pd.read_csv('final.csv')\n"
   ]
  },
  {
   "cell_type": "markdown",
   "id": "eee92748",
   "metadata": {},
   "source": [
    "Train test split"
   ]
  },
  {
   "cell_type": "code",
   "execution_count": 268,
   "id": "d109f924",
   "metadata": {},
   "outputs": [],
   "source": [
    "# Set X an y\n",
    "X = my_df.drop('winner', axis=1)\n",
    "y = my_df['winner']"
   ]
  },
  {
   "cell_type": "code",
   "execution_count": 269,
   "id": "577cc5af",
   "metadata": {},
   "outputs": [],
   "source": [
    "# Convert to numpy arrays\n",
    "X = X.values\n",
    "y = y.values"
   ]
  },
  {
   "cell_type": "code",
   "execution_count": 270,
   "id": "61fbf3b5",
   "metadata": {},
   "outputs": [],
   "source": [
    "from sklearn.model_selection import train_test_split\n",
    "from sklearn.preprocessing import LabelEncoder\n",
    "label_encoder = LabelEncoder()\n"
   ]
  },
  {
   "cell_type": "code",
   "execution_count": 271,
   "id": "e990aa98",
   "metadata": {},
   "outputs": [],
   "source": [
    "#Train test split\n",
    "X_train, X_test, y_train, y_test = train_test_split(X, y, test_size=0.2, random_state=41)"
   ]
  },
  {
   "cell_type": "code",
   "execution_count": 272,
   "id": "5d29e998",
   "metadata": {},
   "outputs": [],
   "source": [
    "# Convert your data to PyTorch tensors\n",
    "X_train_tensor = torch.FloatTensor(X_train)\n",
    "X_test_tensor = torch.FloatTensor(X_test)"
   ]
  },
  {
   "cell_type": "code",
   "execution_count": 273,
   "id": "bc799c74",
   "metadata": {},
   "outputs": [],
   "source": [
    "# Fit LabelEncoder on y_train and transform y_train to integer-encoded labels\n",
    "y_train_encoded = label_encoder.fit_transform(y_train)\n",
    "\n",
    "# Convert integer-encoded labels to PyTorch tensor\n",
    "y_train_tensor = torch.LongTensor(y_train_encoded)\n",
    "y_test_tensor = torch.LongTensor(y_test)"
   ]
  },
  {
   "cell_type": "code",
   "execution_count": 279,
   "id": "3783394e",
   "metadata": {},
   "outputs": [],
   "source": [
    "#Set criterion of model to measure the error\n",
    "criterion = nn.CrossEntropyLoss()\n",
    "#Choose Adam optimizer, learning rate\n",
    "optimizer = torch.optim.Adam(model.parameters(), lr= 0.0001)\n",
    "\n",
    "X_train_tensor = torch.tensor(X_train, dtype=torch.float32)\n"
   ]
  },
  {
   "cell_type": "code",
   "execution_count": 284,
   "id": "0414c148",
   "metadata": {},
   "outputs": [
    {
     "name": "stdout",
     "output_type": "stream",
     "text": [
      "Number of unique classes: 1515\n",
      "Minimum label index: 0\n",
      "Maximum label index: 1514\n",
      "Maximum X label index: nan\n",
      "Maximum X label index: nan\n"
     ]
    }
   ],
   "source": [
    "num_classes = len(set(y_train_tensor.tolist()))\n",
    "print(\"Number of unique classes:\", num_classes)\n",
    "\n",
    "# Print the range of target label indices\n",
    "print(\"Minimum label index:\", y_train_tensor.min().item())\n",
    "print(\"Maximum label index:\", y_train_tensor.max().item())\n",
    "\n",
    "print(\"Maximum X label index:\", X_train_tensor.max().item())\n",
    "print(\"Maximum X label index:\", X_train_tensor.max().item())"
   ]
  },
  {
   "cell_type": "code",
   "execution_count": 281,
   "id": "73407fdc",
   "metadata": {},
   "outputs": [
    {
     "name": "stdout",
     "output_type": "stream",
     "text": [
      "fight_stat_id         0\n",
      "fight_id              0\n",
      "fighter_id            0\n",
      "knockdowns            0\n",
      "total_strikes_att     0\n",
      "total_strikes_succ    0\n",
      "sig_strikes_att       0\n",
      "sig_strikes_succ      0\n",
      "takedown_att          0\n",
      "takedown_succ         0\n",
      "submission_att        0\n",
      "reversals             0\n",
      "ctrl_time             0\n",
      "event_id              0\n",
      "referee               0\n",
      "f_1                   0\n",
      "f_2                   0\n",
      "winner                0\n",
      "num_rounds            0\n",
      "title_fight           0\n",
      "weight_class          0\n",
      "gender                0\n",
      "result                0\n",
      "result_details        0\n",
      "finish_round          0\n",
      "finish_time           0\n",
      "fighter_height_cm     0\n",
      "fighter_weight_lbs    0\n",
      "fighter_reach_cm      0\n",
      "fighter_stance        0\n",
      "fighter_dob           0\n",
      "fighter_w             0\n",
      "fighter_l             0\n",
      "fighter_d             0\n",
      "fighter_nc_dq         0\n",
      "event_city            0\n",
      "event_country         0\n",
      "dtype: int64\n"
     ]
    }
   ],
   "source": [
    "merged_df = merged_df.dropna(subset=['num_rounds'])\n",
    "merged_df = merged_df.dropna(subset=['ctrl_time'])\n",
    "merged_df = merged_df.dropna(subset=['fighter_stance'])\n",
    "\n",
    "merged_df.to_csv('bob.csv', index=False)\n",
    "\n",
    "\n",
    "\n",
    "missing_values = merged_df.isnull().sum()\n",
    "print(missing_values)"
   ]
  },
  {
   "cell_type": "code",
   "execution_count": 282,
   "id": "fdd91226",
   "metadata": {},
   "outputs": [
    {
     "name": "stdout",
     "output_type": "stream",
     "text": [
      "Epoch: 0 and loss: nan\n"
     ]
    },
    {
     "name": "stdout",
     "output_type": "stream",
     "text": [
      "Epoch: 10 and loss: nan\n",
      "Epoch: 20 and loss: nan\n",
      "Epoch: 30 and loss: nan\n",
      "Epoch: 40 and loss: nan\n",
      "Epoch: 50 and loss: nan\n",
      "Epoch: 60 and loss: nan\n",
      "Epoch: 70 and loss: nan\n",
      "Epoch: 80 and loss: nan\n",
      "Epoch: 90 and loss: nan\n"
     ]
    }
   ],
   "source": [
    "# Train model\n",
    "epochs = 100\n",
    "losses = []\n",
    "\n",
    "for i in range(epochs):\n",
    "    # go forward\n",
    "    y_pred = model.forward(X_train_tensor) # Get predicated results\n",
    "\n",
    "    # Measure the loss/error\n",
    "    loss = criterion(y_pred, y_train_tensor)\n",
    "\n",
    "    # Keep track of losses\n",
    "    losses.append(loss.item())\n",
    "\n",
    "    # print every 10 epochs\n",
    "    if i % 10 == 0:\n",
    "        print(f'Epoch: {i} and loss: {loss}')\n",
    "    \n",
    "    # Do some back propagation\n",
    "    optimizer.zero_grad()\n",
    "    loss.backward()\n",
    "    # torch.nn.utils.clip_grad_norm_(model.parameters(), max_norm=1.0)  # Apply gradient clipping\n",
    "    optimizer.step()"
   ]
  },
  {
   "cell_type": "code",
   "execution_count": 283,
   "id": "fe4579f2",
   "metadata": {},
   "outputs": [
    {
     "data": {
      "text/plain": [
       "Text(0.5, 0, 'epoch')"
      ]
     },
     "execution_count": 283,
     "metadata": {},
     "output_type": "execute_result"
    },
    {
     "data": {
      "image/png": "[encoded data removed]",
      "text/plain": [
       "<Figure size 432x288 with 1 Axes>"
      ]
     },
     "metadata": {
      "needs_background": "light"
     },
     "output_type": "display_data"
    }
   ],
   "source": [
    "#Graph\n",
    "plt.plot(range(epochs), losses)\n",
    "plt.ylabel(\"loss/error\")\n",
    "plt.xlabel('epoch')"
   ]
  },
  {
   "cell_type": "code",
   "execution_count": null,
   "id": "81203f54",
   "metadata": {},
   "outputs": [],
   "source": []
  }
 ],
 "metadata": {
  "kernelspec": {
   "display_name": "Python 3 (ipykernel)",
   "language": "python",
   "name": "python3"
  },
  "language_info": {
   "codemirror_mode": {
    "name": "ipython",
    "version": 3
   },
   "file_extension": ".py",
   "mimetype": "text/x-python",
   "name": "python",
   "nbconvert_exporter": "python",
   "pygments_lexer": "ipython3",
   "version": "3.10.12"
  }
 },
 "nbformat": 4,
 "nbformat_minor": 5
}
